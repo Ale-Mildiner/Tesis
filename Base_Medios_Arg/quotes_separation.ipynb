{
 "cells": [
  {
   "cell_type": "code",
   "execution_count": 1,
   "metadata": {},
   "outputs": [
    {
     "name": "stderr",
     "output_type": "stream",
     "text": [
      "C:\\Users\\Asus\\AppData\\Local\\Temp\\ipykernel_21304\\694573758.py:9: DtypeWarning: Columns (5) have mixed types. Specify dtype option on import or set low_memory=False.\n",
      "  base = pd.read_csv(path+'Corpus_medios_nac.csv')\n"
     ]
    }
   ],
   "source": [
    "import numpy as np\n",
    "import pandas as pd\n",
    "import matplotlib.pyplot as plt\n",
    "import pickle as pk\n",
    "#import networkx as nx\n",
    "import re \n",
    "\n",
    "path = \"c:/Facultad/Tesis/\"\n",
    "base = pd.read_csv(path+'Corpus_medios_nac.csv')\n",
    "#base2 = pd.read_csv(path+'Corpus_medios_nac.csv', nrows=20, skiprow"
   ]
  },
  {
   "cell_type": "code",
   "execution_count": 2,
   "metadata": {},
   "outputs": [],
   "source": [
    "def replace(x):\n",
    "    x = str(x)\n",
    "    x = x.replace('”', '\"')\n",
    "    x = x.replace('“', '\"')\n",
    "    x = x.replace('”', '\"')\n",
    "    x = x.replace('\\x93', '\"')\n",
    "    x = x.replace('\\x94', '\"')\n",
    "    \n",
    "    return x\n",
    "\n",
    "def extract_quotes(x):\n",
    "    return re.findall('\"([^\"]*)\"', x)\n",
    "\n",
    "def words_length(x):\n",
    "    return len(x.split(\" \"))"
   ]
  },
  {
   "cell_type": "code",
   "execution_count": 3,
   "metadata": {},
   "outputs": [],
   "source": [
    "base['nota'] = base['nota'].apply(replace)\n",
    "base['citas']  = base['nota'].apply(extract_quotes)"
   ]
  },
  {
   "cell_type": "code",
   "execution_count": null,
   "metadata": {},
   "outputs": [
    {
     "data": {
      "text/plain": [
       "True"
      ]
     },
     "execution_count": 4,
     "metadata": {},
     "output_type": "execute_result"
    }
   ],
   "source": [
    "np.where(type(base['nota']) == float)\n",
    "np.where(np.isnan(base['nota'] == True))\n",
    "\n",
    "type(1.1) is float"
   ]
  },
  {
   "cell_type": "code",
   "execution_count": 4,
   "metadata": {},
   "outputs": [],
   "source": [
    "df_quoutes2 = pd.DataFrame({'Fecha': base['fecha'].iloc[1:], 'Hora': base['hora'].iloc[1:], 'Citas': base['citas'].iloc[1:], 'Link': base['link'].iloc[1:], 'Nota': base['nota'].iloc[1:]})\n",
    "df_quoutes = df_quoutes2.explode('Citas') # Cada cita sea una fila distinta\n",
    "df_quoutes = df_quoutes.dropna(subset=['Citas']) # Elimino la filas que no haya quotes\n",
    "\n",
    "#df_quoutes['Citas'] = df_quoutes['Citas'].apply(replace)\n",
    "\n",
    "df_quoutes = df_quoutes.reset_index()\n",
    "df_quoutes = df_quoutes.drop(['index'], axis = 1)\n",
    "df_quoutes['Cant_Palabras'] = df_quoutes['Citas'].apply(words_length) # genero columna que cuente la cantidad de plabaras\n",
    "df_quoutes_pf = df_quoutes[df_quoutes['Cant_Palabras'] > 4]\n",
    "df_quoutes_pf = df_quoutes_pf[df_quoutes_pf['Cant_Palabras'] < 60]\n",
    "df_quoutes_pf = df_quoutes_pf.reset_index()\n",
    "df_quoutes_pf = df_quoutes_pf.drop(['index'], axis = 1)\n"
   ]
  },
  {
   "cell_type": "code",
   "execution_count": 6,
   "metadata": {},
   "outputs": [
    {
     "data": {
      "text/html": [
       "<div>\n",
       "<style scoped>\n",
       "    .dataframe tbody tr th:only-of-type {\n",
       "        vertical-align: middle;\n",
       "    }\n",
       "\n",
       "    .dataframe tbody tr th {\n",
       "        vertical-align: top;\n",
       "    }\n",
       "\n",
       "    .dataframe thead th {\n",
       "        text-align: right;\n",
       "    }\n",
       "</style>\n",
       "<table border=\"1\" class=\"dataframe\">\n",
       "  <thead>\n",
       "    <tr style=\"text-align: right;\">\n",
       "      <th></th>\n",
       "      <th>Fecha</th>\n",
       "      <th>Hora</th>\n",
       "      <th>Citas</th>\n",
       "      <th>Link</th>\n",
       "      <th>Nota</th>\n",
       "      <th>Cant_Palabras</th>\n",
       "    </tr>\n",
       "  </thead>\n",
       "  <tbody>\n",
       "    <tr>\n",
       "      <th>1878467</th>\n",
       "      <td>2018/09/03</td>\n",
       "      <td>NaN</td>\n",
       "      <td>Lamentablemente no todos entienden esto, como ...</td>\n",
       "      <td>https://www.diarioprensa.com.ar/gorbacz-el-cam...</td>\n",
       "      <td>El ministro Jefe de Gabinete Leonardo Gorbacz,...</td>\n",
       "      <td>59</td>\n",
       "    </tr>\n",
       "    <tr>\n",
       "      <th>1374552</th>\n",
       "      <td>2019/02/21</td>\n",
       "      <td>15:43</td>\n",
       "      <td>Observamos nuevas tendencias y también muchas...</td>\n",
       "      <td>https://misionesonline.net/2019/02/21/la-yerba...</td>\n",
       "      <td>Una comitiva integrada por seis establecimient...</td>\n",
       "      <td>59</td>\n",
       "    </tr>\n",
       "    <tr>\n",
       "      <th>1865126</th>\n",
       "      <td>2020/08/28</td>\n",
       "      <td>18:48</td>\n",
       "      <td>Desde el Gobierno se trabaja para que el salar...</td>\n",
       "      <td>https://www.elliberal.com.ar/noticia/economia/...</td>\n",
       "      <td>La ministra de Desarrollo Territorial y Hábit...</td>\n",
       "      <td>59</td>\n",
       "    </tr>\n",
       "    <tr>\n",
       "      <th>2062287</th>\n",
       "      <td>2021/05/28</td>\n",
       "      <td>NaN</td>\n",
       "      <td>Me sorprende (el fallo) porque las pruebas dic...</td>\n",
       "      <td>https://www.losprimeros.tv/nota/politica/26327...</td>\n",
       "      <td>Esta tarde, el Tribunal Oral de Menores 2 de C...</td>\n",
       "      <td>59</td>\n",
       "    </tr>\n",
       "    <tr>\n",
       "      <th>452973</th>\n",
       "      <td>2021/02/09</td>\n",
       "      <td>NaN</td>\n",
       "      <td>La Matanza no es grande, es grandiosa y lo es ...</td>\n",
       "      <td>https://www.pagina12.com.ar/322809-espinoza-fi...</td>\n",
       "      <td>El intendente de La Matanza, Fernando Espinoza...</td>\n",
       "      <td>59</td>\n",
       "    </tr>\n",
       "  </tbody>\n",
       "</table>\n",
       "</div>"
      ],
      "text/plain": [
       "              Fecha   Hora                                              Citas   \n",
       "1878467  2018/09/03    NaN  Lamentablemente no todos entienden esto, como ...  \\\n",
       "1374552  2019/02/21  15:43  Observamos nuevas tendencias y también muchas...   \n",
       "1865126  2020/08/28  18:48  Desde el Gobierno se trabaja para que el salar...   \n",
       "2062287  2021/05/28    NaN  Me sorprende (el fallo) porque las pruebas dic...   \n",
       "452973   2021/02/09    NaN  La Matanza no es grande, es grandiosa y lo es ...   \n",
       "\n",
       "                                                      Link   \n",
       "1878467  https://www.diarioprensa.com.ar/gorbacz-el-cam...  \\\n",
       "1374552  https://misionesonline.net/2019/02/21/la-yerba...   \n",
       "1865126  https://www.elliberal.com.ar/noticia/economia/...   \n",
       "2062287  https://www.losprimeros.tv/nota/politica/26327...   \n",
       "452973   https://www.pagina12.com.ar/322809-espinoza-fi...   \n",
       "\n",
       "                                                      Nota  Cant_Palabras  \n",
       "1878467  El ministro Jefe de Gabinete Leonardo Gorbacz,...             59  \n",
       "1374552  Una comitiva integrada por seis establecimient...             59  \n",
       "1865126  La ministra de Desarrollo Territorial y Hábit...             59  \n",
       "2062287  Esta tarde, el Tribunal Oral de Menores 2 de C...             59  \n",
       "452973   El intendente de La Matanza, Fernando Espinoza...             59  "
      ]
     },
     "execution_count": 6,
     "metadata": {},
     "output_type": "execute_result"
    }
   ],
   "source": [
    "np.where(df_quoutes_pf['Cant_Palabras'] == max(df_quoutes_pf['Cant_Palabras']))\n",
    "\n",
    "df_quoutes_pf.sort_values(by= ['Cant_Palabras'], ascending = False)[0:5]"
   ]
  },
  {
   "cell_type": "code",
   "execution_count": 23,
   "metadata": {},
   "outputs": [
    {
     "name": "stdout",
     "output_type": "stream",
     "text": [
      "Estamos trabajando con tiempo, hace casi un año que lo hacemos con el Federal Fueguino y recientemente con Somos TDF, somos un encuentro programático, queremos ser sólidos y presentarnos ante la comunidad como una opción electoral clara, con la suficiente anticipación y previsibilidad como las que queremos dar desde los lugares a los que podamos acceder cuando seamos electos\n",
      "https://www.diarioprensa.com.ar/referentes-de-la-concertacion-fueguina-recorrieron-diferentes-barrios-de-rio-grande/\n"
     ]
    }
   ],
   "source": [
    "num = 1879260\n",
    "print(df_quoutes_pf['Citas'][num])\n",
    "print(df_quoutes_pf['Link'][num])"
   ]
  },
  {
   "attachments": {},
   "cell_type": "markdown",
   "metadata": {},
   "source": [
    "las frases de lkvec tienen en promedio 16 palabras y con un maximo de 1712"
   ]
  },
  {
   "cell_type": "code",
   "execution_count": 102,
   "metadata": {},
   "outputs": [
    {
     "data": {
      "image/png": "[encoded data removed]",
      "text/plain": [
       "<Figure size 1000x700 with 2 Axes>"
      ]
     },
     "metadata": {},
     "output_type": "display_data"
    }
   ],
   "source": [
    "import matplotlib.pyplot as plt\n",
    "\n",
    "lkvec = pd.read_csv(path+'all_data.csv')\n",
    "fig, (ax1, ax2) = plt.subplots(1,2, figsize = (10,7))\n",
    "titles = ['lkvec', 'nac']\n",
    "data = [lkvec['len'], df_quoutes_pf['Cant_Palabras']]\n",
    "for i,ax in enumerate([ax1, ax2]):\n",
    "    ax.hist(data[i], bins = np.linspace(0,max(data[i]), 100))\n",
    "    ax.set_xlabel('Longitud de las frases')\n",
    "    ax.set_ylabel('frecuencia')\n",
    "    ax.set_title(titles[i])\n",
    "plt.show()"
   ]
  },
  {
   "cell_type": "code",
   "execution_count": 112,
   "metadata": {},
   "outputs": [
    {
     "data": {
      "text/plain": [
       "array([-2.21558008e-02,  6.63395748e-02,  5.53568639e-02,  2.47053206e-02,\n",
       "       -7.16889277e-02,  3.22862994e-03,  4.08154391e-02, -2.75777057e-02,\n",
       "       -9.11479965e-02, -1.14120543e-02,  2.88396925e-02, -5.39754517e-02,\n",
       "       -6.12482727e-02,  8.91649071e-03,  4.11491804e-02,  6.21872991e-02,\n",
       "        1.47094214e-02,  2.26784218e-02, -1.23631366e-01,  3.80378142e-02,\n",
       "       -3.29656117e-02, -1.08780619e-02,  4.20261659e-02,  2.15464104e-02,\n",
       "       -5.16289994e-02,  4.67112288e-02, -3.35476734e-02, -2.63182214e-03,\n",
       "        5.33636436e-02,  1.25301527e-02,  1.77862234e-02,  1.68917403e-02,\n",
       "        5.06917201e-02,  6.53340071e-02, -7.57383648e-04,  8.63520280e-02,\n",
       "        1.10835180e-01,  5.72813116e-03,  2.14355849e-02, -3.43584944e-03,\n",
       "        2.09409725e-02, -1.08468950e-01, -3.49332616e-02, -1.11203967e-02,\n",
       "       -2.97115259e-02, -1.42304208e-02,  3.30951507e-03, -4.44539711e-02,\n",
       "        3.09040938e-02, -1.02700159e-01,  1.25114433e-02, -4.09805477e-02,\n",
       "       -7.33012408e-02, -1.14556849e-01,  2.51891185e-02,  5.76397628e-02,\n",
       "        5.17088100e-02,  2.62581352e-02,  7.30124041e-02, -4.63502072e-02,\n",
       "        9.66296624e-03,  5.49715646e-02,  4.71870676e-02,  5.80038801e-02,\n",
       "        2.53398418e-02, -1.78158600e-02,  5.06817922e-03, -2.43873131e-02,\n",
       "        5.38359024e-02,  1.28721699e-01,  2.22597513e-02,  5.77068068e-02,\n",
       "       -8.58107768e-03,  4.11501676e-02, -3.60543914e-02, -6.14061020e-03,\n",
       "        5.26416004e-02, -6.98649092e-03,  5.66722266e-02, -1.05773434e-02,\n",
       "       -1.07460387e-01, -1.16268713e-02,  1.24179013e-02,  1.17253982e-01,\n",
       "       -8.72490089e-03, -6.20281212e-02, -3.11964517e-03, -6.20203950e-02,\n",
       "        2.45136619e-02, -3.72474715e-02,  1.46340365e-02, -1.18210465e-01,\n",
       "       -5.33629954e-02,  1.57864613e-03, -2.30074096e-02, -6.82573542e-02,\n",
       "       -2.81936657e-02, -1.70481056e-02, -8.92898720e-03,  6.97785541e-02,\n",
       "       -5.09065315e-02,  5.97288460e-02, -2.30418164e-02, -2.11344399e-02,\n",
       "       -3.99835221e-02, -3.38910483e-02,  7.29100555e-02, -1.01566594e-02,\n",
       "       -1.23475967e-02,  3.74458656e-02,  2.86320187e-02, -3.71554010e-02,\n",
       "       -1.35616888e-03,  6.37599733e-03,  7.75867626e-02,  4.48255166e-02,\n",
       "       -6.79685920e-02,  4.25738945e-05,  4.54063294e-03, -7.41213411e-02,\n",
       "        3.69942524e-02,  3.04531474e-02, -7.24783242e-02,  2.53499951e-02,\n",
       "       -5.76570146e-02, -8.71179253e-02,  6.95854425e-02, -4.43881691e-33,\n",
       "        2.16111466e-02,  7.45507469e-03,  3.79637331e-02,  3.94321866e-02,\n",
       "        5.88632897e-02,  9.37860236e-02,  3.26524079e-02, -2.73863673e-02,\n",
       "        1.07276952e-02, -4.74611856e-03,  6.00937521e-03,  7.98992161e-03,\n",
       "       -2.82407645e-02, -1.15665734e-01,  7.12910434e-03,  2.90029701e-02,\n",
       "       -5.82416914e-02,  6.08727448e-02, -3.12686749e-02,  4.59401570e-02,\n",
       "        5.09803891e-02,  7.16065466e-02,  5.44703379e-02,  7.93847963e-02,\n",
       "       -4.95407283e-02, -1.33393155e-02,  5.91731146e-02, -1.09148389e-02,\n",
       "        1.27929952e-02,  1.35398544e-02, -1.22246621e-02, -3.43573987e-02,\n",
       "       -1.29954389e-03, -4.88856547e-02,  1.19853234e-02, -1.26654084e-03,\n",
       "        2.81266328e-02, -4.26769704e-02, -3.05785742e-02, -2.06906535e-02,\n",
       "       -2.17475183e-02,  9.20596439e-03,  2.45147254e-02, -3.96755012e-03,\n",
       "       -6.31350130e-02, -1.14453342e-02,  3.16192955e-02, -6.52875926e-04,\n",
       "        4.30252329e-02,  5.31500280e-02, -3.40360627e-02, -2.79101334e-03,\n",
       "        4.75997478e-02,  7.99669232e-03, -5.64065762e-03,  8.72683823e-02,\n",
       "        4.51964810e-02, -9.27032977e-02,  9.24183652e-02, -1.97094260e-03,\n",
       "        4.25436758e-02, -5.70231006e-02, -5.88378385e-02,  6.54596761e-02,\n",
       "       -5.20485034e-03, -4.02649902e-02,  6.35019317e-02, -4.77448702e-02,\n",
       "       -8.88815708e-03, -4.48381715e-02, -1.58883497e-01,  3.85573395e-02,\n",
       "       -5.10745607e-02,  3.69082689e-02, -5.83016165e-02,  2.54202001e-02,\n",
       "       -2.50035822e-02, -9.86266062e-02, -4.94222231e-02, -3.82294506e-02,\n",
       "        1.13283597e-01, -1.42852217e-02,  5.65133290e-03,  3.09693292e-02,\n",
       "        8.56398344e-02, -7.36523941e-02,  1.64413974e-02, -7.33204633e-02,\n",
       "       -3.58309178e-03, -2.57503968e-02, -2.19496861e-02,  1.25149442e-02,\n",
       "       -8.42414889e-03, -7.00069666e-02, -6.72547240e-03,  8.22253156e-34,\n",
       "       -1.66701674e-02, -9.89808701e-03, -3.48629318e-02,  1.36634912e-02,\n",
       "        1.19082317e-01, -1.05559612e-02, -1.12111941e-01, -1.56140029e-01,\n",
       "        3.95003669e-02,  4.10954207e-02,  5.07394820e-02, -9.89824906e-02,\n",
       "        2.51749028e-02,  9.28350445e-03, -2.66599245e-02,  2.86985748e-02,\n",
       "        5.20009212e-02, -8.11763480e-03, -1.30961789e-02, -1.92346461e-02,\n",
       "       -7.69037530e-02,  1.40047194e-02,  5.12519442e-02,  2.61039846e-02,\n",
       "       -1.37301628e-02,  6.81816861e-02,  7.38020837e-02,  1.04706259e-02,\n",
       "       -1.16500765e-01, -1.38761224e-02,  1.03844412e-01, -3.56820114e-02,\n",
       "       -6.01614006e-02,  3.67025565e-03, -2.21983790e-02, -3.04810610e-03,\n",
       "        5.10328785e-02,  7.36813247e-02, -4.46879305e-02, -2.51956675e-02,\n",
       "        5.63635565e-02, -2.63239071e-02, -5.99848339e-04,  9.61024687e-02,\n",
       "        3.13554183e-02,  7.13785067e-02,  8.82543810e-03,  1.54490229e-02,\n",
       "        5.32206222e-02, -2.96077486e-02,  3.06158736e-02, -4.29728962e-02,\n",
       "        1.22030890e-02,  1.20105417e-02,  2.75561889e-03, -2.63413899e-02,\n",
       "        6.61048144e-02, -1.37457158e-02,  5.95322289e-02, -4.71212976e-02,\n",
       "       -6.17111288e-02,  2.26178560e-02, -8.17840621e-02, -7.23306239e-02,\n",
       "       -1.07012792e-02, -4.81780916e-02, -3.16863768e-02, -9.58460271e-02,\n",
       "       -2.92720404e-02,  2.00176109e-02, -1.51295783e-02,  3.55824195e-02,\n",
       "        4.57189493e-02,  5.13697974e-02,  1.51786227e-02, -1.38421487e-02,\n",
       "       -7.92279392e-02, -1.50079736e-02,  1.98901049e-03, -2.65808813e-02,\n",
       "        1.58367231e-02, -6.26489073e-02, -4.19482067e-02, -4.35364507e-02,\n",
       "        6.73202574e-02, -2.29741763e-02,  8.05338845e-02, -1.17104255e-01,\n",
       "        1.36683602e-02, -3.08973659e-02,  4.33155857e-02,  1.19640892e-02,\n",
       "        1.12311073e-01, -2.29148809e-02,  2.12255749e-03, -1.92797529e-08,\n",
       "       -3.04442532e-02,  7.63914809e-02,  6.09593000e-03, -4.85894606e-02,\n",
       "       -4.36392984e-05,  8.74151587e-02, -3.61964968e-03,  1.53406418e-03,\n",
       "        1.77861061e-02,  6.90064505e-02, -5.86709566e-02,  1.74252801e-02,\n",
       "        5.72561398e-02,  1.30146056e-01,  1.18354429e-02, -8.29823986e-02,\n",
       "        1.00292027e-01, -3.06460578e-02, -5.48833944e-02, -1.10368077e-02,\n",
       "       -2.12656427e-02, -5.13500944e-02, -2.10558623e-02,  2.19997880e-03,\n",
       "        1.16775073e-02, -3.43110599e-02, -1.96577366e-02,  1.08732037e-01,\n",
       "       -5.67382053e-02,  3.35836597e-02,  2.95940358e-02, -2.18525752e-02,\n",
       "       -2.72319540e-02, -2.90455949e-02, -1.07404761e-01, -6.09418042e-02,\n",
       "        8.12609121e-02, -5.34656942e-02,  1.28380554e-02, -6.87479079e-02,\n",
       "       -2.42936350e-02,  1.12747535e-01,  5.43516986e-02,  4.44931090e-02,\n",
       "       -4.00069840e-02, -1.96721107e-02, -5.63015118e-02, -8.53488520e-02,\n",
       "        2.60314299e-03, -3.19951437e-02,  7.06294626e-02, -1.33402077e-02,\n",
       "        6.53333671e-04, -2.02337746e-03,  1.82755161e-02, -1.47050284e-02,\n",
       "        3.95815074e-03, -3.30156200e-02, -9.92577672e-02,  7.16224685e-02,\n",
       "       -5.10706939e-02,  3.08125205e-02,  3.29687148e-02, -5.39392717e-02],\n",
       "      dtype=float32)"
      ]
     },
     "execution_count": 112,
     "metadata": {},
     "output_type": "execute_result"
    }
   ],
   "source": [
    "from sentence_transformers import SentenceTransformer\n",
    "model = SentenceTransformer('all-MiniLM-L6-v2')\n",
    "\n",
    "a = model.encode(lkvec['phrases'][:10])\n",
    "a[0]"
   ]
  }
 ],
 "metadata": {
  "kernelspec": {
   "display_name": "envT",
   "language": "python",
   "name": "python3"
  },
  "language_info": {
   "codemirror_mode": {
    "name": "ipython",
    "version": 3
   },
   "file_extension": ".py",
   "mimetype": "text/x-python",
   "name": "python",
   "nbconvert_exporter": "python",
   "pygments_lexer": "ipython3",
   "version": "3.10.11"
  },
  "orig_nbformat": 4
 },
 "nbformat": 4,
 "nbformat_minor": 2
}
