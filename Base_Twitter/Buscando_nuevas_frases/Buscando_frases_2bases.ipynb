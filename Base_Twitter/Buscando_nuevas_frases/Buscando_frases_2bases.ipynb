{
 "cells": [
  {
   "cell_type": "code",
   "execution_count": 2,
   "metadata": {},
   "outputs": [
    {
     "name": "stderr",
     "output_type": "stream",
     "text": [
      "C:\\Users\\Ale\\AppData\\Local\\Temp\\ipykernel_2464\\642691954.py:9: DtypeWarning: Columns (5) have mixed types. Specify dtype option on import or set low_memory=False.\n",
      "  base_nac = pd.read_csv(path+'Corpus_medios_nac.csv')\n"
     ]
    }
   ],
   "source": [
    "import numpy as np\n",
    "import pandas as pd\n",
    "import matplotlib.pyplot as plt\n",
    "import pickle as pk\n",
    "import re \n",
    "\n",
    "path = \"d:/Facultad/Tesis/\"\n",
    "path_git = \"d:/Git_Proyects/Tesis/Base_Twitter/Tweets_August/\"\n",
    "base_nac = pd.read_csv(path+'Corpus_medios_nac.csv')\n",
    "#Tweets_mayo = pd.read_csv(path_git+'Tweets_August_solo_medios.csv')\n",
    "Tweets_mayo = pd.read_csv(path_git+'Tweets_August_solo_medios.csv')\n",
    "Base_sin_scrap = pd.read_csv(path+'2019_news_content.csv', delimiter =';')"
   ]
  },
  {
   "cell_type": "code",
   "execution_count": 3,
   "metadata": {},
   "outputs": [],
   "source": [
    "Tweets_unique = Tweets_mayo.drop_duplicates(subset='urls')\n",
    "\n",
    "patron = r'www\\.(.*?)\\.com'\n",
    "data = []\n",
    "for i in range(len(Tweets_unique)):\n",
    "    try:\n",
    "        resultado = re.search(patron, Tweets_unique['urls'][i])\n",
    "        data.append(resultado.group(1))\n",
    "    except:\n",
    "        pass"
   ]
  },
  {
   "cell_type": "code",
   "execution_count": 4,
   "metadata": {},
   "outputs": [
    {
     "name": "stdout",
     "output_type": "stream",
     "text": [
      "132\n",
      "{'elliberal', 'lavoz', 'diarioregistrado', 'eldestapeweb', 'lanacion', 'ellitoral', 'cronista', 'elciudadanoweb', 'laizquierdadiario', 'elancasti', 'diariamenteneuquen', 'xn--lamaanaonline-lkb', 'pagina12', 'infobae', 'ambito', 'diarioprensa', 'eldia', 'perfil', 'clarin', 'lagaceta', 'telam', 'diarioelzondasj', 'corrienteshoy', 'elesquiu'}\n"
     ]
    }
   ],
   "source": [
    "print(data.count('infobae'))\n",
    "print(set(data))"
   ]
  },
  {
   "cell_type": "code",
   "execution_count": 5,
   "metadata": {},
   "outputs": [],
   "source": [
    "def replace(x):\n",
    "    x = str(x)\n",
    "    x = x.replace('”', '\"')\n",
    "    x = x.replace('“', '\"')\n",
    "    x = x.replace('”', '\"')\n",
    "    x = x.replace('\\x93', '\"')\n",
    "    x = x.replace('\\x94', '\"')\n",
    "    \n",
    "    return x\n",
    "\n",
    "def extract_quotes(x):\n",
    "    return re.findall('\"([^\"]*)\"', x)\n",
    "\n",
    "def words_length(x):\n",
    "    return len(x.split(\" \"))\n",
    "\n",
    "def pre_process_quoted(df1):\n",
    "    df = df1.copy()\n",
    "#    df['nota'] = df['nota'].apply(replace)\n",
    "    df.loc[:, 'nota'] = df['nota'].apply(replace)\n",
    "    #df['citas']  = df['nota'].apply(extract_quotes)\n",
    "    df.loc[:, 'citas'] = df['nota'].apply(extract_quotes)\n",
    "\n",
    "    df_quoutes2 = pd.DataFrame({'Cita': df['citas'].iloc[1:], 'Link': df['link'].iloc[1:], 'Nota': df['nota'].iloc[1:]})\n",
    "    #df_quoutes2 = pd.DataFrame({'Fecha': df['fecha'].iloc[1:], 'Hora': df['hora'].iloc[1:], 'Cita': df['citas'].iloc[1:], 'Link': df['link'].iloc[1:], 'Nota': df['nota'].iloc[1:]})\n",
    "    df_quoutes = df_quoutes2.explode('Cita') # Cada cita sea una fila distinta\n",
    "    df_quoutes = df_quoutes.dropna(subset=['Cita']) # Elimino la filas que no haya quotes\n",
    "\n",
    "    #df_quoutes['Citas'] = df_quoutes['Citas'].apply(replace)\n",
    "\n",
    "    df_quoutes = df_quoutes.reset_index()\n",
    "    df_quoutes = df_quoutes.drop(['index'], axis = 1)\n",
    "    df_quoutes['Cant_Palabras'] = df_quoutes['Cita'].apply(words_length) # genero columna que cuente la cantidad de plabaras\n",
    "    df_quoutes_pf = df_quoutes[df_quoutes['Cant_Palabras'] >= 4]\n",
    "    df_quoutes_pf = df_quoutes_pf[df_quoutes_pf['Cant_Palabras'] < 60]\n",
    "    df_quoutes_pf = df_quoutes_pf.reset_index()\n",
    "    df_quoutes_pf = df_quoutes_pf.drop(['index'], axis = 1)\n",
    "    return df_quoutes_pf"
   ]
  },
  {
   "cell_type": "code",
   "execution_count": 6,
   "metadata": {},
   "outputs": [],
   "source": [
    "Tweets_mayo.sort_values(by=['link_nacionales'])\n",
    "Tweets_unique = Tweets_mayo.drop_duplicates(subset='urls')\n",
    "Tweets_to_scrap = Tweets_unique[Tweets_unique['link_nacionales'] == 2]\n",
    "#df_urls_unique[df_urls_unique['link_nacionales'] ==1].count()"
   ]
  },
  {
   "cell_type": "code",
   "execution_count": 7,
   "metadata": {},
   "outputs": [
    {
     "data": {
      "text/plain": [
       "(18006, 7689)"
      ]
     },
     "execution_count": 7,
     "metadata": {},
     "output_type": "execute_result"
    }
   ],
   "source": [
    "Tweets_mayo[Tweets_mayo['link_nacionales'] == 1]\n",
    "base_nac['medios_comp'] = base_nac['link'].isin(Tweets_mayo['urls'])\n",
    "base_lucio = base_nac[base_nac['medios_comp']==True]\n",
    "extract_quotes_1  = pre_process_quoted(base_lucio)\n",
    "\n",
    "\n",
    "\n",
    "Tweets_to_scrap = Tweets_unique[Tweets_unique['link_nacionales'] == 2]\n",
    "Base_sin_scrap.rename(columns={'url':'urls'}, inplace=True)\n",
    "Tweets_to_scrap = Tweets_to_scrap.merge(Base_sin_scrap, how= 'left', on=  'urls')\n",
    "Tweets_to_scrap.rename(columns={'texto': 'nota','urls':'link'}, inplace=True)\n",
    "Tweets_to_scrap\n",
    "extract_quotes_2 = pre_process_quoted(Tweets_to_scrap)\n",
    "len(extract_quotes_1), len(extract_quotes_2)"
   ]
  },
  {
   "cell_type": "code",
   "execution_count": 7,
   "metadata": {},
   "outputs": [],
   "source": [
    "citas = list(extract_quotes_1['Cita']) + list(extract_quotes_2['Cita'])"
   ]
  },
  {
   "cell_type": "code",
   "execution_count": 8,
   "metadata": {},
   "outputs": [
    {
     "name": "stderr",
     "output_type": "stream",
     "text": [
      "C:\\Users\\Ale\\AppData\\Local\\Packages\\PythonSoftwareFoundation.Python.3.10_qbz5n2kfra8p0\\LocalCache\\local-packages\\Python310\\site-packages\\tqdm\\auto.py:21: TqdmWarning: IProgress not found. Please update jupyter and ipywidgets. See https://ipywidgets.readthedocs.io/en/stable/user_install.html\n",
      "  from .autonotebook import tqdm as notebook_tqdm\n"
     ]
    }
   ],
   "source": [
    "from sentence_transformers import SentenceTransformer, util\n",
    "model = SentenceTransformer('hiiamsid/sentence_similarity_spanish_es')  "
   ]
  },
  {
   "cell_type": "code",
   "execution_count": 26,
   "metadata": {},
   "outputs": [],
   "source": [
    "#citas_vect = model.encode(citas, convert_to_tensor=True)\n",
    "#pk.dump(citas_vect, open(path_git+'emb_october_1_2.pk', 'wb'))"
   ]
  },
  {
   "cell_type": "code",
   "execution_count": 40,
   "metadata": {},
   "outputs": [],
   "source": [
    "citas_vect  = pk.load(open(path_git+'emb_october_1_2.pk', 'rb'))"
   ]
  },
  {
   "cell_type": "code",
   "execution_count": 41,
   "metadata": {},
   "outputs": [],
   "source": [
    "citas_df = pd.DataFrame({'Cita':citas})"
   ]
  },
  {
   "cell_type": "code",
   "execution_count": 42,
   "metadata": {},
   "outputs": [],
   "source": [
    "clusters = util.community_detection(citas_vect,threshold=0.8, min_community_size = 1)  \n",
    "cluste_map = {citas[j]: str(i+1) for i, clus in enumerate(clusters) for j in clus}\n",
    "citas_df['id_cluster'] = citas_df['Cita'].map(cluste_map)"
   ]
  },
  {
   "cell_type": "code",
   "execution_count": 44,
   "metadata": {},
   "outputs": [
    {
     "name": "stdout",
     "output_type": "stream",
     "text": [
      "hay más gente que se dedica a vender droga porque se quedó sin laburo\n",
      "ahora hay gente que se dedica a vender droga porque se quedó sin laburo\n",
      "ahora hay gente que se dedica a vender droga porque se quedó sin laburo\n",
      "Hay más gente que se dedica a vender droga porque se quedó sin laburo\n",
      "Hay gente que se dedica a vender droga porque se quedó sin laburo\n",
      "hay gente que se dedica a vender droga porque se quedó sin laburo\n",
      "hay gente que se dedica a vender droga porque se quedó sin laburo\n",
      "hay más gente que se dedica a vender droga porque se quedó sin laburo\n",
      "Ahora hay gente que se dedica a vender droga porque se quedó sin laburo\n",
      "hay gente que se dedica a vender droga porque se quedó sin laburo\n",
      "hay gente que se dedica a vender droga porque se quedó sin laburo\n",
      "hay gente que se dedica a vender droga porque se quedó sin laburo\n",
      "hay gente que se dedica a vender droga porque se quedó sin laburo\n",
      "con la pérdida de empleo hay gente que se dedica a vender droga porque se quedó sin laburo, obviamente es un delito, pero no pasa por ahí el fenómeno\n",
      "se dedica a vender droga porque se quedó sin laburo\n",
      "Con la pérdida de empleo hay gente que se dedica a vender droga porque se quedó sin laburo\n",
      "Con la pérdida de empleo hay gente que se dedica a vender droga porque se quedó sin laburo\n",
      "hay gente que se dedica a vender droga porque se quedó sin laburo\n",
      "hay gente que se dedica a vender droga porque se quedó sin laburo\n",
      "ahora hay gente que se dedica a vender droga porque se quedó sin laburo\n",
      "Hay gente que se dedica a vender droga porque se quedó sin laburo\n",
      "hay gente que se dedica a vender droga porque se quedó sin laburo\n",
      "hay gente que se dedica a vender droga porque se quedó sin laburo\n",
      "hay gente que se dedica a vender droga porque se quedó sin laburo\n",
      "hay gente que se dedica a vender droga porque se quedó sin laburo\n",
      "hay gente que se dedica a vender droga porque se quedó sin laburo\n",
      "hay gente que se dedica a vender droga porque se quedó sin laburo\n",
      "con la pérdida de empleo hay gente que se dedica a vender droga porque se quedó sin laburo, obviamente es un delito, pero no pasa por ahí el fenómeno\n",
      "hay gente que vende droga porque se quedó sin laburo\n",
      "se dedica a vender droga porque se quedó sin laburo\n",
      "Con la pérdida de empleo hay gente que se dedica a vender droga porque se quedó sin laburo, obviamente es un delito, pero no pasa por ahí el fenómeno\n",
      "hay más gente que se dedica a vender droga porque se quedó sin laburo\n",
      "Hay más gente que se dedica a vender droga porque se quedó sin laburo\n",
      "Hay más gente que se dedica a vender droga porque se quedó sin laburo\n",
      "Hay más gente que se dedica a vender droga porque se quedó sin laburo\n",
      "hay gente que se dedica a vender droga porque se quedó sin laburo\n",
      "Hay más gente que se dedica a vender droga porque se quedó sin laburo\n",
      "hay gente que se dedica a vender droga porque se quedó sin laburo\n",
      "hay más gente que se dedica a vender droga porque se quedó sin laburo\n",
      "la gente se dedica a vender droga porque se quedó sin laburo\n",
      "Hay gente que (ahora) se dedica a vender droga porque se quedó sin laburo\n",
      "con la pérdida de empleo, hay gente que se dedica a vender droga porque se quedó sin laburo\n",
      "hay más gente que se dedica a vender droga porque se quedó sin laburo\n",
      "se dedica a vender droga porque se quedó sin laburo\n",
      "que se dedica a vender droga porque se quedó sin laburo\n",
      "hay gente que vende  droga porque se quedó sin trabajo\n",
      "hay gente que vende  droga porque se quedó sin trabajo\n",
      "con la pérdida de empleo, hay gente que se dedica a vender droga porque se quedó sin laburo\n",
      "con la pérdida de empleo, hay gente que se dedica a vender droga porque se quedó sin laburo\n",
      "hay gente que se dedica a vender droga porque se quedó sin laburo\n",
      "con la pérdida de empleo hay gente que se dedica a vender droga porque se quedó sin laburo, obviamente es un delito, pero no pasa por ahí el fenómeno\n",
      "Hay gente que se dedica a vender droga porque se quedó sin laburo\n",
      "con la pérdida de empleo hay gente que se dedica a vender droga porque se quedó sin laburo, obviamente es un delito, pero no pasa por ahí el fenómeno\n",
      "Hay gente que se dedica a vender droga porque se quedó sin laburo\n"
     ]
    }
   ],
   "source": [
    "for cit in citas_df[citas_df['id_cluster'] == '2']['Cita']:\n",
    "    print(cit)"
   ]
  },
  {
   "cell_type": "code",
   "execution_count": 45,
   "metadata": {},
   "outputs": [],
   "source": [
    "frases_medias = []\n",
    "for i in range(1500, 3000):\n",
    "    cit_mean = []\n",
    "    for cit in citas_df[citas_df['id_cluster'] == str(i)]['Cita']:\n",
    "        cit_mean.append(cit.lower())\n",
    "    try: \n",
    "        contador = {}\n",
    "        for elemento in cit_mean:\n",
    "            if elemento in contador:\n",
    "                contador[elemento] +=1\n",
    "            else:\n",
    "                contador[elemento] = 1\n",
    "\n",
    "        elemento_mas_comun = max(contador, key = contador.get)\n",
    "        frases_medias.append(elemento_mas_comun)\n",
    "    except:\n",
    "        print(i)"
   ]
  },
  {
   "cell_type": "code",
   "execution_count": 46,
   "metadata": {},
   "outputs": [],
   "source": [
    "file = open(path_git+'citas/muchas_citas_october_medias_1500_3000_T_L.txt', 'w', encoding='utf8')\n",
    "for cita in frases_medias:\n",
    "    file.write(cita+'\\n')\n",
    "file.close()"
   ]
  }
 ],
 "metadata": {
  "kernelspec": {
   "display_name": "Python 3",
   "language": "python",
   "name": "python3"
  },
  "language_info": {
   "codemirror_mode": {
    "name": "ipython",
    "version": 3
   },
   "file_extension": ".py",
   "mimetype": "text/x-python",
   "name": "python",
   "nbconvert_exporter": "python",
   "pygments_lexer": "ipython3",
   "version": "3.10.11"
  },
  "orig_nbformat": 4
 },
 "nbformat": 4,
 "nbformat_minor": 2
}
