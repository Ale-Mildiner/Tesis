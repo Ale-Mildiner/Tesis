{
 "cells": [
  {
   "cell_type": "code",
   "execution_count": 1,
   "metadata": {},
   "outputs": [],
   "source": [
    "import requests\n",
    "from bs4 import BeautifulSoup\n",
    "import numpy as np\n",
    "import re\n",
    "import matplotlib.pyplot as plt\n",
    "import pandas as pd"
   ]
  },
  {
   "cell_type": "code",
   "execution_count": 2,
   "metadata": {},
   "outputs": [
    {
     "name": "stderr",
     "output_type": "stream",
     "text": [
      "C:\\Users\\Ale\\AppData\\Local\\Temp\\ipykernel_9080\\2671876414.py:2: DtypeWarning: Columns (0,5) have mixed types. Specify dtype option on import or set low_memory=False.\n",
      "  Tweets_mes = pd.read_csv(path+'Tweets_Agosto.csv')\n"
     ]
    }
   ],
   "source": [
    "path = 'd:/Git_Proyects/Tesis/Base_Twitter/Tw_meses/'\n",
    "Tweets_mes = pd.read_csv(path+'Tweets_Agosto.csv')"
   ]
  },
  {
   "cell_type": "code",
   "execution_count": 3,
   "metadata": {},
   "outputs": [],
   "source": [
    "Tw_urls = Tweets_mes.drop_duplicates(subset=['urls'])\n",
    "Tw_urls = Tw_urls.dropna(subset=['urls'])\n"
   ]
  },
  {
   "cell_type": "code",
   "execution_count": 4,
   "metadata": {},
   "outputs": [
    {
     "data": {
      "text/html": [
       "<div>\n",
       "<style scoped>\n",
       "    .dataframe tbody tr th:only-of-type {\n",
       "        vertical-align: middle;\n",
       "    }\n",
       "\n",
       "    .dataframe tbody tr th {\n",
       "        vertical-align: top;\n",
       "    }\n",
       "\n",
       "    .dataframe thead th {\n",
       "        text-align: right;\n",
       "    }\n",
       "</style>\n",
       "<table border=\"1\" class=\"dataframe\">\n",
       "  <thead>\n",
       "    <tr style=\"text-align: right;\">\n",
       "      <th></th>\n",
       "      <th>id</th>\n",
       "      <th>Tweets</th>\n",
       "      <th>Tw_limpios</th>\n",
       "      <th>Fecha</th>\n",
       "      <th>urls</th>\n",
       "      <th>medios</th>\n",
       "      <th>source</th>\n",
       "    </tr>\n",
       "  </thead>\n",
       "  <tbody>\n",
       "    <tr>\n",
       "      <th>0</th>\n",
       "      <td>1156776567692918784</td>\n",
       "      <td>Pichetto advierte que la pobreza no se resuelv...</td>\n",
       "      <td>Pichetto advierte pobreza resuelve « mirada dá...</td>\n",
       "      <td>Thu Aug 01 04:00:00 +0000 2019</td>\n",
       "      <td>https://www.conclusion.com.ar/politica/pichett...</td>\n",
       "      <td>False</td>\n",
       "      <td>TweetDeck</td>\n",
       "    </tr>\n",
       "    <tr>\n",
       "      <th>5</th>\n",
       "      <td>1156779826910572544</td>\n",
       "      <td>Pichetto intuye que \"no va a haber balotaje\" e...</td>\n",
       "      <td>Pichetto intuye \"va haber balotaje \" próximas ...</td>\n",
       "      <td>Thu Aug 01 04:12:57 +0000 2019</td>\n",
       "      <td>http://bit.ly/2KlqJV1</td>\n",
       "      <td>False</td>\n",
       "      <td>Echobox Social</td>\n",
       "    </tr>\n",
       "    <tr>\n",
       "      <th>9</th>\n",
       "      <td>1156784213594640385</td>\n",
       "      <td>Miguel Ángel Pichetto, contra Alberto Fernánde...</td>\n",
       "      <td>Miguel Ángel Pichetto , Alberto Fernández : \"l...</td>\n",
       "      <td>Thu Aug 01 04:30:23 +0000 2019</td>\n",
       "      <td>https://www.infobae.com/politica/2019/07/31/mi...</td>\n",
       "      <td>False</td>\n",
       "      <td>Twitter for Android</td>\n",
       "    </tr>\n",
       "    <tr>\n",
       "      <th>12</th>\n",
       "      <td>1156799216947212288</td>\n",
       "      <td>Pichetto: «La mejor etapa de la década pasada ...</td>\n",
       "      <td>Pichetto : « mejor etapa década pasada dólar c...</td>\n",
       "      <td>Thu Aug 01 05:30:00 +0000 2019</td>\n",
       "      <td>https://www.conclusion.com.ar/politica/pichett...</td>\n",
       "      <td>False</td>\n",
       "      <td>TweetDeck</td>\n",
       "    </tr>\n",
       "    <tr>\n",
       "      <th>14</th>\n",
       "      <td>1156802283277029378</td>\n",
       "      <td>Si lo dice el fanático del kirchnerista de Pic...</td>\n",
       "      <td>Si dice fanático kirchnerista Pichetto .</td>\n",
       "      <td>Thu Aug 01 05:42:11 +0000 2019</td>\n",
       "      <td>https://twitter.com/RealFranPelaez/status/1156...</td>\n",
       "      <td>False</td>\n",
       "      <td>Twitter for Android</td>\n",
       "    </tr>\n",
       "    <tr>\n",
       "      <th>...</th>\n",
       "      <td>...</td>\n",
       "      <td>...</td>\n",
       "      <td>...</td>\n",
       "      <td>...</td>\n",
       "      <td>...</td>\n",
       "      <td>...</td>\n",
       "      <td>...</td>\n",
       "    </tr>\n",
       "    <tr>\n",
       "      <th>313</th>\n",
       "      <td>1156966746986860544</td>\n",
       "      <td>Macri-Pichetto aventaja a la fórmula Fernández...</td>\n",
       "      <td>Macri-Pichetto aventaja fórmula Fernández-Fern...</td>\n",
       "      <td>Thu Aug 01 16:35:42 +0000 2019</td>\n",
       "      <td>https://twitter.com/share</td>\n",
       "      <td>False</td>\n",
       "      <td>Twitter Web Client</td>\n",
       "    </tr>\n",
       "    <tr>\n",
       "      <th>320</th>\n",
       "      <td>1156969765430276096</td>\n",
       "      <td>Métete el dedito en el ogt pichetto https://t....</td>\n",
       "      <td>Métete dedito ogt pichetto</td>\n",
       "      <td>Thu Aug 01 16:47:42 +0000 2019</td>\n",
       "      <td>https://twitter.com/GraceMedrano59/status/1156...</td>\n",
       "      <td>False</td>\n",
       "      <td>Twitter for Android</td>\n",
       "    </tr>\n",
       "    <tr>\n",
       "      <th>322</th>\n",
       "      <td>1156971767153483777</td>\n",
       "      <td>Te quieren exclavo , Pichetto y todos los cipa...</td>\n",
       "      <td>quieren exclavo , Pichetto cipayos vendidos fo...</td>\n",
       "      <td>Thu Aug 01 16:55:39 +0000 2019</td>\n",
       "      <td>https://twitter.com/robdnavarro/status/1156943...</td>\n",
       "      <td>False</td>\n",
       "      <td>Twitter for Android</td>\n",
       "    </tr>\n",
       "    <tr>\n",
       "      <th>324</th>\n",
       "      <td>1156971505965838336</td>\n",
       "      <td>Hola macrista, aca pichetto hace 4 años. pensa...</td>\n",
       "      <td>Hola macrista , aca pichetto hace 4 años . pen...</td>\n",
       "      <td>Thu Aug 01 16:54:37 +0000 2019</td>\n",
       "      <td>https://youtu.be/mdig4YDB5O4</td>\n",
       "      <td>False</td>\n",
       "      <td>Twitter Web App</td>\n",
       "    </tr>\n",
       "    <tr>\n",
       "      <th>327</th>\n",
       "      <td>1156973280181530625</td>\n",
       "      <td>Para celestes provida que aun piensan votar a ...</td>\n",
       "      <td>celestes provida aun piensan votar Macri-Piche...</td>\n",
       "      <td>Thu Aug 01 17:01:40 +0000 2019</td>\n",
       "      <td>https://twitter.com/camicrescimbeni/status/115...</td>\n",
       "      <td>False</td>\n",
       "      <td>Twitter Web App</td>\n",
       "    </tr>\n",
       "  </tbody>\n",
       "</table>\n",
       "<p>100 rows × 7 columns</p>\n",
       "</div>"
      ],
      "text/plain": [
       "                      id                                             Tweets   \n",
       "0    1156776567692918784  Pichetto advierte que la pobreza no se resuelv...  \\\n",
       "5    1156779826910572544  Pichetto intuye que \"no va a haber balotaje\" e...   \n",
       "9    1156784213594640385  Miguel Ángel Pichetto, contra Alberto Fernánde...   \n",
       "12   1156799216947212288  Pichetto: «La mejor etapa de la década pasada ...   \n",
       "14   1156802283277029378  Si lo dice el fanático del kirchnerista de Pic...   \n",
       "..                   ...                                                ...   \n",
       "313  1156966746986860544  Macri-Pichetto aventaja a la fórmula Fernández...   \n",
       "320  1156969765430276096  Métete el dedito en el ogt pichetto https://t....   \n",
       "322  1156971767153483777  Te quieren exclavo , Pichetto y todos los cipa...   \n",
       "324  1156971505965838336  Hola macrista, aca pichetto hace 4 años. pensa...   \n",
       "327  1156973280181530625  Para celestes provida que aun piensan votar a ...   \n",
       "\n",
       "                                            Tw_limpios   \n",
       "0    Pichetto advierte pobreza resuelve « mirada dá...  \\\n",
       "5    Pichetto intuye \"va haber balotaje \" próximas ...   \n",
       "9    Miguel Ángel Pichetto , Alberto Fernández : \"l...   \n",
       "12   Pichetto : « mejor etapa década pasada dólar c...   \n",
       "14            Si dice fanático kirchnerista Pichetto .   \n",
       "..                                                 ...   \n",
       "313  Macri-Pichetto aventaja fórmula Fernández-Fern...   \n",
       "320                         Métete dedito ogt pichetto   \n",
       "322  quieren exclavo , Pichetto cipayos vendidos fo...   \n",
       "324  Hola macrista , aca pichetto hace 4 años . pen...   \n",
       "327  celestes provida aun piensan votar Macri-Piche...   \n",
       "\n",
       "                              Fecha   \n",
       "0    Thu Aug 01 04:00:00 +0000 2019  \\\n",
       "5    Thu Aug 01 04:12:57 +0000 2019   \n",
       "9    Thu Aug 01 04:30:23 +0000 2019   \n",
       "12   Thu Aug 01 05:30:00 +0000 2019   \n",
       "14   Thu Aug 01 05:42:11 +0000 2019   \n",
       "..                              ...   \n",
       "313  Thu Aug 01 16:35:42 +0000 2019   \n",
       "320  Thu Aug 01 16:47:42 +0000 2019   \n",
       "322  Thu Aug 01 16:55:39 +0000 2019   \n",
       "324  Thu Aug 01 16:54:37 +0000 2019   \n",
       "327  Thu Aug 01 17:01:40 +0000 2019   \n",
       "\n",
       "                                                  urls medios   \n",
       "0    https://www.conclusion.com.ar/politica/pichett...  False  \\\n",
       "5                                http://bit.ly/2KlqJV1  False   \n",
       "9    https://www.infobae.com/politica/2019/07/31/mi...  False   \n",
       "12   https://www.conclusion.com.ar/politica/pichett...  False   \n",
       "14   https://twitter.com/RealFranPelaez/status/1156...  False   \n",
       "..                                                 ...    ...   \n",
       "313                          https://twitter.com/share  False   \n",
       "320  https://twitter.com/GraceMedrano59/status/1156...  False   \n",
       "322  https://twitter.com/robdnavarro/status/1156943...  False   \n",
       "324                       https://youtu.be/mdig4YDB5O4  False   \n",
       "327  https://twitter.com/camicrescimbeni/status/115...  False   \n",
       "\n",
       "                  source  \n",
       "0              TweetDeck  \n",
       "5         Echobox Social  \n",
       "9    Twitter for Android  \n",
       "12             TweetDeck  \n",
       "14   Twitter for Android  \n",
       "..                   ...  \n",
       "313   Twitter Web Client  \n",
       "320  Twitter for Android  \n",
       "322  Twitter for Android  \n",
       "324      Twitter Web App  \n",
       "327      Twitter Web App  \n",
       "\n",
       "[100 rows x 7 columns]"
      ]
     },
     "execution_count": 4,
     "metadata": {},
     "output_type": "execute_result"
    }
   ],
   "source": [
    "Tw_urls[0:100]"
   ]
  },
  {
   "cell_type": "code",
   "execution_count": 5,
   "metadata": {},
   "outputs": [],
   "source": [
    "def replace(x):\n",
    "    x = str(x)\n",
    "    x = x.replace('”', '\"')\n",
    "    x = x.replace('“', '\"')\n",
    "    x = x.replace('”', '\"')\n",
    "    x = x.replace('\\x93', '\"')\n",
    "    x = x.replace('\\x94', '\"')\n",
    "    x = x.replace('‘','\"')    \n",
    "    x = x.replace('’','\"')    \n",
    "    x = x.replace('‘', '\"')\n",
    "    x = x.replace('‘', '\"')\n",
    "    x = x.replace('’', '\"')\n",
    "\n",
    "    \n",
    "def extract_quotes(x):\n",
    "    return re.findall('\"([^\"]*)\"', x)\n",
    "\n",
    "def scrapper(url_):\n",
    "    url = url_\n",
    "\n",
    "    response = requests.get(url)\n",
    "    fr = []\n",
    "    if response.status_code == 200:\n",
    "\n",
    "        soup = BeautifulSoup(response.text, 'html.parser')\n",
    "        paragraphs = soup.find_all('p')\n",
    "        for paragraph in paragraphs:\n",
    "            if len(paragraph.get_text()) >100:\n",
    "                par = paragraph.get_text()\n",
    "                if  extract_quotes(par) != []:\n",
    "                    for i in extract_quotes(par):\n",
    "                        fr.append(i)\n",
    "    else:\n",
    "        print(f'No se pudo acceder a la página. Código de estado: {response.status_code}')\n",
    "    return fr"
   ]
  },
  {
   "cell_type": "code",
   "execution_count": 6,
   "metadata": {},
   "outputs": [
    {
     "name": "stdout",
     "output_type": "stream",
     "text": [
      "No se pudo acceder a la página. Código de estado: 404\n"
     ]
    }
   ],
   "source": [
    "citas = []\n",
    "for url in Tw_urls[0:10]['urls']:\n",
    "    # r = requests.get(url, auth = ('user', 'pass'))\n",
    "    # expand_url = r.url\n",
    "    cit = scrapper(url)\n",
    "    for i in cit:\n",
    "        citas.append(i)"
   ]
  },
  {
   "cell_type": "code",
   "execution_count": 7,
   "metadata": {},
   "outputs": [
    {
     "data": {
      "text/plain": [
       "34"
      ]
     },
     "execution_count": 7,
     "metadata": {},
     "output_type": "execute_result"
    }
   ],
   "source": [
    "len(citas)"
   ]
  },
  {
   "cell_type": "code",
   "execution_count": 8,
   "metadata": {},
   "outputs": [
    {
     "data": {
      "text/html": [
       "<div>\n",
       "<style scoped>\n",
       "    .dataframe tbody tr th:only-of-type {\n",
       "        vertical-align: middle;\n",
       "    }\n",
       "\n",
       "    .dataframe tbody tr th {\n",
       "        vertical-align: top;\n",
       "    }\n",
       "\n",
       "    .dataframe thead th {\n",
       "        text-align: right;\n",
       "    }\n",
       "</style>\n",
       "<table border=\"1\" class=\"dataframe\">\n",
       "  <thead>\n",
       "    <tr style=\"text-align: right;\">\n",
       "      <th></th>\n",
       "      <th>Medios</th>\n",
       "      <th>Portal</th>\n",
       "    </tr>\n",
       "  </thead>\n",
       "  <tbody>\n",
       "    <tr>\n",
       "      <th>0</th>\n",
       "      <td>El ancasti</td>\n",
       "      <td>https://www.elancasti.com.ar/</td>\n",
       "    </tr>\n",
       "    <tr>\n",
       "      <th>1</th>\n",
       "      <td>La unión digital</td>\n",
       "      <td>https://www.launion.digital/</td>\n",
       "    </tr>\n",
       "    <tr>\n",
       "      <th>2</th>\n",
       "      <td>Catamarca ya</td>\n",
       "      <td>http://www.catamarcaya.com.ar/2012/</td>\n",
       "    </tr>\n",
       "    <tr>\n",
       "      <th>3</th>\n",
       "      <td>El esquiú</td>\n",
       "      <td>https://www.elesquiu.com/</td>\n",
       "    </tr>\n",
       "    <tr>\n",
       "      <th>4</th>\n",
       "      <td>Catamarca actual</td>\n",
       "      <td>https://www.catamarcactual.com.ar/</td>\n",
       "    </tr>\n",
       "    <tr>\n",
       "      <th>...</th>\n",
       "      <td>...</td>\n",
       "      <td>...</td>\n",
       "    </tr>\n",
       "    <tr>\n",
       "      <th>214</th>\n",
       "      <td>El destape</td>\n",
       "      <td>https://www.eldestapeweb.com/</td>\n",
       "    </tr>\n",
       "    <tr>\n",
       "      <th>215</th>\n",
       "      <td>Cronista</td>\n",
       "      <td>https://www.cronista.com</td>\n",
       "    </tr>\n",
       "    <tr>\n",
       "      <th>216</th>\n",
       "      <td>Diario Popular</td>\n",
       "      <td>https://www.diariopopular.com.ar/</td>\n",
       "    </tr>\n",
       "    <tr>\n",
       "      <th>217</th>\n",
       "      <td>Via Pais</td>\n",
       "      <td>https://viapais.com.ar/</td>\n",
       "    </tr>\n",
       "    <tr>\n",
       "      <th>218</th>\n",
       "      <td>La prensa news</td>\n",
       "      <td>https://laprensa.news/diarios-de-argentina/</td>\n",
       "    </tr>\n",
       "  </tbody>\n",
       "</table>\n",
       "<p>219 rows × 2 columns</p>\n",
       "</div>"
      ],
      "text/plain": [
       "               Medios                                       Portal\n",
       "0          El ancasti                https://www.elancasti.com.ar/\n",
       "1    La unión digital                 https://www.launion.digital/\n",
       "2        Catamarca ya          http://www.catamarcaya.com.ar/2012/\n",
       "3           El esquiú                    https://www.elesquiu.com/\n",
       "4    Catamarca actual           https://www.catamarcactual.com.ar/\n",
       "..                ...                                          ...\n",
       "214        El destape                https://www.eldestapeweb.com/\n",
       "215          Cronista                     https://www.cronista.com\n",
       "216    Diario Popular            https://www.diariopopular.com.ar/\n",
       "217          Via Pais                      https://viapais.com.ar/\n",
       "218    La prensa news  https://laprensa.news/diarios-de-argentina/\n",
       "\n",
       "[219 rows x 2 columns]"
      ]
     },
     "execution_count": 8,
     "metadata": {},
     "output_type": "execute_result"
    }
   ],
   "source": [
    "list_media = pd.read_csv(path+'../../Scrapping/list_media.csv', encoding='latin-1', delimiter=';')\n",
    "list_media"
   ]
  },
  {
   "cell_type": "code",
   "execution_count": 9,
   "metadata": {},
   "outputs": [],
   "source": [
    "def expand_url(url):\n",
    "    try:\n",
    "        #r = requests.get(url, auth = ('user', 'pass'))\n",
    "        r = requests.get(url).url\n",
    "        #r= r.url\n",
    "    except:\n",
    "        r = url\n",
    "    return r"
   ]
  },
  {
   "cell_type": "code",
   "execution_count": 10,
   "metadata": {},
   "outputs": [],
   "source": [
    "import urlexpander\n",
    "\n",
    "def expand_url_2(url):\n",
    "    try:\n",
    "        r = urlexpander.expand(url)\n",
    "    except:\n",
    "        r = url\n",
    "    return r "
   ]
  },
  {
   "cell_type": "code",
   "execution_count": 11,
   "metadata": {},
   "outputs": [
    {
     "name": "stderr",
     "output_type": "stream",
     "text": [
      "C:\\Users\\Ale\\AppData\\Local\\Temp\\ipykernel_9080\\2168730276.py:2: SettingWithCopyWarning: \n",
      "A value is trying to be set on a copy of a slice from a DataFrame.\n",
      "Try using .loc[row_indexer,col_indexer] = value instead\n",
      "\n",
      "See the caveats in the documentation: https://pandas.pydata.org/pandas-docs/stable/user_guide/indexing.html#returning-a-view-versus-a-copy\n",
      "  Tw_red['urls_exp'] = Tw_red['urls'].apply(expand_url)\n",
      "C:\\Users\\Ale\\AppData\\Local\\Temp\\ipykernel_9080\\2168730276.py:3: SettingWithCopyWarning: \n",
      "A value is trying to be set on a copy of a slice from a DataFrame.\n",
      "Try using .loc[row_indexer,col_indexer] = value instead\n",
      "\n",
      "See the caveats in the documentation: https://pandas.pydata.org/pandas-docs/stable/user_guide/indexing.html#returning-a-view-versus-a-copy\n",
      "  Tw_red['media'] = Tw_red['urls_exp'].apply(lambda url: any(url.startswith(encabezado) for encabezado in list(list_media['Portal'])))\n"
     ]
    }
   ],
   "source": [
    "Tw_red  = Tw_urls[0:100]\n",
    "Tw_red['urls_exp'] = Tw_red['urls'].apply(expand_url)\n",
    "Tw_red['media'] = Tw_red['urls_exp'].apply(lambda url: any(url.startswith(encabezado) for encabezado in list(list_media['Portal'])))"
   ]
  },
  {
   "cell_type": "code",
   "execution_count": 12,
   "metadata": {},
   "outputs": [
    {
     "name": "stdout",
     "output_type": "stream",
     "text": [
      "23\n"
     ]
    }
   ],
   "source": [
    "print(len(Tw_red[Tw_red['media'] ==True]))\n",
    "#Tw_red[Tw_red['media'] == True]"
   ]
  },
  {
   "cell_type": "code",
   "execution_count": 13,
   "metadata": {},
   "outputs": [
    {
     "name": "stdout",
     "output_type": "stream",
     "text": [
      "11\n"
     ]
    },
    {
     "name": "stderr",
     "output_type": "stream",
     "text": [
      "C:\\Users\\Ale\\AppData\\Local\\Temp\\ipykernel_9080\\3633134227.py:2: SettingWithCopyWarning: \n",
      "A value is trying to be set on a copy of a slice from a DataFrame.\n",
      "Try using .loc[row_indexer,col_indexer] = value instead\n",
      "\n",
      "See the caveats in the documentation: https://pandas.pydata.org/pandas-docs/stable/user_guide/indexing.html#returning-a-view-versus-a-copy\n",
      "  Tw_urls_test['media'] = Tw_urls_test['urls'].apply(lambda url: any(url.startswith(encabezado) for encabezado in list(list_media['Portal'])))\n"
     ]
    }
   ],
   "source": [
    "Tw_urls_test = Tw_urls[0:100]\n",
    "Tw_urls_test['media'] = Tw_urls_test['urls'].apply(lambda url: any(url.startswith(encabezado) for encabezado in list(list_media['Portal'])))\n",
    "print(len(Tw_urls_test[Tw_urls_test['media'] ==True]))"
   ]
  },
  {
   "cell_type": "code",
   "execution_count": null,
   "metadata": {},
   "outputs": [],
   "source": [
    "## No parece funcionar\n",
    "import urllib.parse as urlparse\n",
    "\n",
    "def is_expanded_url(url):\n",
    "    # Decodificamos la URL para eliminar los caracteres de escape (%20, %2F, etc.)\n",
    "    parsed_url = urlparse.urlparse(url)\n",
    "    dec = bool(parsed_url.scheme)\n",
    "    # Comparamos la URL original con la URL decodificada\n",
    "    return dec\n",
    "\n",
    "\n",
    "def expand_url_2(url):\n",
    "    expand = is_expanded_url(url)\n",
    "    i = 0\n",
    "    if expand == True:\n",
    "        r = url\n",
    "        i =  i+1\n",
    "        print(i)\n",
    "    else:\n",
    "        try:\n",
    "            #r = requests.get(url, auth = ('user', 'pass'))\n",
    "            r = requests.get(url).url\n",
    "            #r= r.url\n",
    "        except:\n",
    "            r = url\n",
    "    \n",
    "    return r\n",
    "\n",
    "Tw_red  = Tw_urls[0:100]\n",
    "Tw_red['urls_exp'] = Tw_red['urls'].apply(expand_url_2)\n",
    "Tw_red['media'] = Tw_red['urls_exp'].apply(lambda url: any(url.startswith(encabezado) for encabezado in list(list_media['Portal'])))\n",
    "print(len(Tw_red[Tw_red['media'] ==True]))\n",
    "\n",
    "    "
   ]
  }
 ],
 "metadata": {
  "kernelspec": {
   "display_name": "Python 3",
   "language": "python",
   "name": "python3"
  },
  "language_info": {
   "codemirror_mode": {
    "name": "ipython",
    "version": 3
   },
   "file_extension": ".py",
   "mimetype": "text/x-python",
   "name": "python",
   "nbconvert_exporter": "python",
   "pygments_lexer": "ipython3",
   "version": "3.10.11"
  }
 },
 "nbformat": 4,
 "nbformat_minor": 2
}
