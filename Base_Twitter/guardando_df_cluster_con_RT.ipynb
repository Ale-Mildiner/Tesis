{
 "cells": [
  {
   "cell_type": "code",
   "execution_count": 7,
   "metadata": {},
   "outputs": [],
   "source": [
    "import numpy as np\n",
    "import pandas as pd\n",
    "import matplotlib.pyplot as plt\n",
    "from datetime import datetime, timedelta\n",
    "import pickle as pk\n",
    "import json"
   ]
  },
  {
   "cell_type": "code",
   "execution_count": 8,
   "metadata": {},
   "outputs": [
    {
     "name": "stderr",
     "output_type": "stream",
     "text": [
      "C:\\Users\\Ale\\AppData\\Local\\Temp\\ipykernel_8496\\2279491657.py:6: DtypeWarning: Columns (0,1,2,7,9) have mixed types. Specify dtype option on import or set low_memory=False.\n",
      "  Tweets_df = pd.read_csv(path_git+'Tweets_persona_clusterizado/Tweets_'+nombre+'_cluster_'+mes+'.csv')\n",
      "C:\\Users\\Ale\\AppData\\Local\\Temp\\ipykernel_8496\\2279491657.py:9: SettingWithCopyWarning: \n",
      "A value is trying to be set on a copy of a slice from a DataFrame\n",
      "\n",
      "See the caveats in the documentation: https://pandas.pydata.org/pandas-docs/stable/user_guide/indexing.html#returning-a-view-versus-a-copy\n",
      "  Tweets_df_cluster.drop(columns=['Unnamed: 0'], inplace=True)\n",
      "C:\\Users\\Ale\\AppData\\Local\\Temp\\ipykernel_8496\\2279491657.py:10: SettingWithCopyWarning: \n",
      "A value is trying to be set on a copy of a slice from a DataFrame\n",
      "\n",
      "See the caveats in the documentation: https://pandas.pydata.org/pandas-docs/stable/user_guide/indexing.html#returning-a-view-versus-a-copy\n",
      "  Tweets_df_cluster.drop(columns=['Unnamed: 0.1'], inplace=True)\n"
     ]
    }
   ],
   "source": [
    "path_git = 'd:/Git_Proyects/Tesis/Base_Twitter/'\n",
    "nombre = 'Alberto'\n",
    "mes = 'aug'\n",
    "\n",
    "#df = pd.read_csv(path_git+'Tweets_por_persona/Tweets_'+nombre+'_cluster.csv')\n",
    "Tweets_df = pd.read_csv(path_git+'Tweets_persona_clusterizado/Tweets_'+nombre+'_cluster_'+mes+'.csv')\n",
    "Tweets_df['RT'] = False \n",
    "Tweets_df_cluster = Tweets_df[Tweets_df['cluster'] == True]\n",
    "Tweets_df_cluster.drop(columns=['Unnamed: 0'], inplace=True)\n",
    "Tweets_df_cluster.drop(columns=['Unnamed: 0.1'], inplace=True)"
   ]
  },
  {
   "cell_type": "code",
   "execution_count": 9,
   "metadata": {},
   "outputs": [],
   "source": [
    "import json\n",
    "\n",
    "filename1 = 'd:/Facultad/Tesis/Twitter/201908-Alberto-AND-Fernandez.txt'\n",
    "filename2 = 'd:/Facultad/Tesis/Twitter/201908-alferdez.txt'\n",
    "files = [filename1, filename2]\n",
    "\n",
    "tweets_cluster = set(list(Tweets_df_cluster['Tweets']))\n",
    "\n",
    "# Crea un diccionario para almacenar los tweets originales y sus retweets asociados\n",
    "retweets_dict = {tweet: [] for tweet in tweets_cluster}\n",
    "\n",
    "retweets_data = []\n",
    "for filename in files:\n",
    "    with open(filename, 'r', encoding='utf8') as fp:\n",
    "        for i, line in enumerate(fp):\n",
    "            json_data = json.loads(line)\n",
    "            tweet = json_data['text']\n",
    "            if tweet.startswith('RT'):\n",
    "                try:\n",
    "                    original_tweet = json_data['retweeted_status']['full_text']\n",
    "                    if original_tweet in tweets_cluster:\n",
    "                        retweets_dict[original_tweet].append(tweet)\n",
    "                        filt = Tweets_df_cluster['Tweets'] == original_tweet\n",
    "                        medios = Tweets_df_cluster[filt]['medios'].tolist()[0]\n",
    "                        retweets_data.append({\n",
    "                            \"Tweets\": original_tweet,\n",
    "                            \"Fecha\": json_data['created_at'],\n",
    "                            \"urls\": 0,\n",
    "                            \"urls_reales\":0, \n",
    "                            \"medios\": medios,\n",
    "                            \"Tweets_sin_url\": original_tweet,\n",
    "                            \"cluster\": True,\n",
    "                            \"RT\": True\n",
    "                        })               \n",
    "                except KeyError:\n",
    "                    pass"
   ]
  },
  {
   "cell_type": "code",
   "execution_count": 10,
   "metadata": {},
   "outputs": [],
   "source": [
    "df_RT = pd.DataFrame(retweets_data)\n",
    "Tweets_cluster_completo = pd.concat([Tweets_df_cluster, df_RT], ignore_index=True)\n",
    "Tweets_cluster_completo.to_csv(path_git+'Tweets_cluster_con_RT/s.csv')"
   ]
  },
  {
   "cell_type": "code",
   "execution_count": null,
   "metadata": {},
   "outputs": [],
   "source": []
  }
 ],
 "metadata": {
  "kernelspec": {
   "display_name": "Python 3",
   "language": "python",
   "name": "python3"
  },
  "language_info": {
   "codemirror_mode": {
    "name": "ipython",
    "version": 3
   },
   "file_extension": ".py",
   "mimetype": "text/x-python",
   "name": "python",
   "nbconvert_exporter": "python",
   "pygments_lexer": "ipython3",
   "version": "3.10.11"
  },
  "orig_nbformat": 4
 },
 "nbformat": 4,
 "nbformat_minor": 2
}
