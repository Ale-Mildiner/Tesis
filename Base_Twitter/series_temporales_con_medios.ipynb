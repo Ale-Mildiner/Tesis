{
 "cells": [
  {
   "cell_type": "code",
   "execution_count": null,
   "metadata": {},
   "outputs": [],
   "source": [
    "import numpy as np\n",
    "import pandas as pd\n",
    "import matplotlib.pyplot as plt\n",
    "from datetime import datetime, timedelta\n",
    "import pickle as pk\n",
    "import json"
   ]
  },
  {
   "cell_type": "code",
   "execution_count": null,
   "metadata": {},
   "outputs": [],
   "source": [
    "path_git = 'd:/Git_Proyects/Tesis/Base_Twitter/'\n",
    "\n",
    "nombre = 'kici'\n",
    "\n",
    "kici_oct = pd.read_csv(path_git+'Tweets_'+nombre+'_oct.csv')\n",
    "clusters = pk.load(open(path_git+nombre+'_clusters_75_oct.pk', 'rb'))\n",
    "\n",
    "frases = list(kici_oct['Tweets_sin_url'])\n",
    "cluster_map = {frases[j]: str(i+1) for i, clus in enumerate(clusters) for j in clus}\n",
    "kici_oct['cluster'] = kici_oct['Tweets_sin_url'].map(cluster_map)\n",
    "kici_oct['RT'] = False\n",
    "\n",
    "df_cluster = kici_oct[kici_oct['cluster'] == True]\n"
   ]
  },
  {
   "cell_type": "code",
   "execution_count": null,
   "metadata": {},
   "outputs": [],
   "source": [
    "import json\n",
    "\n",
    "filename = 'd:/Facultad/Tesis/Twitter/201910-kicillof.txt'\n",
    "tweets_cluster = set(list(df_cluster['Tweets']))\n",
    "\n",
    "# Crea un diccionario para almacenar los tweets originales y sus retweets asociados\n",
    "retweets_dict = {tweet: [] for tweet in tweets_cluster}\n",
    "\n",
    "retweets_data = []\n",
    "with open(filename, 'r', encoding='utf8') as fp:\n",
    "    for i, line in enumerate(fp):\n",
    "        json_data = json.loads(line)\n",
    "        tweet = json_data['text']\n",
    "        if tweet.startswith('RT'):\n",
    "            try:\n",
    "                original_tweet = json_data['retweeted_status']['full_text']\n",
    "                if original_tweet in tweets_cluster:\n",
    "                    retweets_dict[original_tweet].append(tweet)\n",
    "                    filt = df_cluster['Tweets'] == original_tweet\n",
    "                    verifide = df_cluster[filt]['verified'].tolist()[0]\n",
    "                    retweets_data.append({\n",
    "                        \"Tweets\": original_tweet,\n",
    "                        \"Fecha\": json_data['created_at'],\n",
    "                        \"urls\": 0,\n",
    "                        \"verified\": verifide,\n",
    "                        \"Tweets_sin_url\": original_tweet,\n",
    "                        \"cluster\": '3',\n",
    "                        \"RT\": True\n",
    "                    })               \n",
    "            except KeyError:\n",
    "                pass\n",
    "df_cluster.drop(columns=['Unnamed: 0'], inplace=True)\n"
   ]
  },
  {
   "cell_type": "code",
   "execution_count": null,
   "metadata": {},
   "outputs": [],
   "source": [
    "df_RT = pd.DataFrame(retweets_data)\n",
    "clus_3_completo = pd.concat([df_cluster, df_RT], ignore_index=True"
   ]
  },
  {
   "cell_type": "code",
   "execution_count": null,
   "metadata": {},
   "outputs": [],
   "source": [
    "clus_3_completo['Fecha'] = pd.to_datetime(clus_3_completo['Fecha'], format='%a %b %d %H:%M:%S +0000 %Y')\n",
    "horas = '6H'\n",
    "#ventana_temporal = pd.offsets.Hour(horas)\n",
    "clus_3_medios =  clus_3_completo[clus_3_completo['medios']== True]\n",
    "clus_3_user =  clus_3_completo[clus_3_completo['usuarios']== False]\n",
    "\n",
    "dos_tipos =[clus_3_medios, clus_3_user]\n",
    "names = ['verificados', 'usuarios']\n",
    "plt.figure()\n",
    "\n",
    "for i, tipos in enumerate(dos_tipos):\n",
    "    df_grouped = tipos.groupby(pd.Grouper(key='Fecha', freq=horas)).size().reset_index(name='count')\n",
    "    plt.plot(df_grouped['Fecha'], df_grouped['count'], marker='o', linestyle='-', label = names[i])\n",
    "\n",
    "# df_grouped = clus_3_completo.groupby(pd.Grouper(key='Fecha', freq=horas)).size().reset_index(name='count')\n",
    "# plt.plot(df_grouped['Fecha'], df_grouped['count'], marker='o', linestyle='-', label = 'completo')\n",
    "plt.title(\"Tweets y RT ventana 6hs\")\n",
    "plt.xlabel('Fecha y hora')\n",
    "plt.ylabel('Cantidad de elementos')\n",
    "#plt.xlim([datetime(2019, 10, 26), datetime(2019, 10, 30)])\n",
    "plt.yscale('log')\n",
    "plt.legend()\n",
    "plt.grid(alpha = 0.7)\n",
    "plt.xticks(rotation=45)\n",
    "plt.show()"
   ]
  }
 ],
 "metadata": {
  "kernelspec": {
   "display_name": "Python 3",
   "language": "python",
   "name": "python3"
  },
  "language_info": {
   "name": "python",
   "version": "3.10.11"
  },
  "orig_nbformat": 4
 },
 "nbformat": 4,
 "nbformat_minor": 2
}
