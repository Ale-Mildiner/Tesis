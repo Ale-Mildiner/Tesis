{
 "cells": [
  {
   "cell_type": "code",
   "execution_count": 1,
   "metadata": {},
   "outputs": [],
   "source": [
    "import numpy as np\n",
    "import pandas as pd\n",
    "import pickle as pk\n",
    "#import requests\n",
    "path1 = 'd:/Facultad/Tesis/'"
   ]
  },
  {
   "cell_type": "code",
   "execution_count": 2,
   "metadata": {},
   "outputs": [],
   "source": [
    "path = \"d:/Git_Proyects/Tesis/\"\n",
    "clusters = pk.load(open(path+'Embbedings_Lkvec/clusters_threshold_8.pickle', 'rb'))\n",
    "phr = pk.load(open(path1+'phr_embbedings/phrases_to_emb.pickle', 'rb'))"
   ]
  },
  {
   "cell_type": "code",
   "execution_count": 13,
   "metadata": {},
   "outputs": [
    {
     "name": "stdout",
     "output_type": "stream",
     "text": [
      "here's a little news flash for all those reporters and commentators i'm not going to washington to seek their good opinion i'm going to washington to serve the people of this great country\n",
      "but here's a little news flash for all those reporters and commentators i'm not going to washington to seek their good opinion\n",
      "but here's a little news flash for all those reporters and commentators i'm not going to washington to seek their good opinion i'm going to washington to serve the people of this country\n",
      "here's a little news flash for all those reporters and commentators i'm not going to washington to win their good opinion\n",
      "but here's a little news flash for those reporters and commentators i'm not going to washington to seek their good opinion i'm going to washington to serve the people of this country\n",
      "here's little news flash for all those reporters and commentators i'm not going to washington to seek their good opinion i'm going to washington to serve the people of this country\n",
      "here's a little news flash for all those reporters and commentators i'm not going to washington to seek their good opinion\n",
      "but here's a little news flash for all those reporters and commentators i'm not going to washington to seek their good opinion i'm going to washington to serve the people of this great country\n",
      "but here's a little news flash for all those reporters and commentators i'm not going to washington to seek their good opinion i'm going to washington to serve the people of this country americans expect us to go to washington for the right reasons and not just to mingle with the right people\n",
      "here's a little news flash for all those reporters and commentators i'm not going to washington to seek their good opinion i'm going to washington to serve the people of this country americans expect us to go to washington for the right reasons and not just to mingle with the right people\n",
      "i'm not going to washington to seek their good opinion i'm going to washington to serve the people of this country\n",
      "here's a little news flash for all those reporters and commentators i'm not going to washington to seek their good opinion i'm going to washington to serve the people of the country\n",
      "here's a little newsflash for those reporters and commentators i'm not going to washington to seek their good opinion i'm going to washington to serve the people of this great country\n",
      "but here's a little news flash for those reporters and commentators i'm not going to washington to seek their good opinion i'm going to washington to serve the people of this great country\n",
      "here's a little news flash for those reporters and commentators i'm not going to washington to seek their good opinion i'm going to washington to serve the people of this great country\n",
      "but here's a news flash for all those reporters and commentators i'm not going to washington to seek their good opinion i'm going to washington to serve the people of this country\n",
      "i'm not going to washington to seek their good opinion i'm going to washington to serve the people of this great country\n",
      "here's a little news flash for all those reporters and commentators i'm not going to washington to seek their good opinion i'm going to washington to serve the people of this country\n"
     ]
    }
   ],
   "source": [
    "for c in clusters[199]:\n",
    "    print(phr[c])"
   ]
  },
  {
   "cell_type": "code",
   "execution_count": 12,
   "metadata": {},
   "outputs": [
    {
     "name": "stdout",
     "output_type": "stream",
     "text": [
      "199\n"
     ]
    }
   ],
   "source": [
    "for i, c in enumerate(clusters):\n",
    "    for index in c:\n",
    "        if phr[index] ==\"here's a little news flash for all those reporters and commentators i'm not going to washington to seek their good opinion\":\n",
    "            print(i)\n"
   ]
  },
  {
   "cell_type": "code",
   "execution_count": null,
   "metadata": {},
   "outputs": [],
   "source": [
    "for i, cluster in enumerate(clusters):\n",
    "    print(\"\\nCluster {}, #{} Elements \".format(i+1, len(cluster)))\n",
    "    for sentence_id in cluster[0:3]:\n",
    "        print(\"\\t\", phr[sentence_id])\n",
    "    print(\"\\t\", \"...\")\n",
    "    for sentence_id in cluster[-3:]:\n",
    "        print(\"\\t\", phr[sentence_id])"
   ]
  }
 ],
 "metadata": {
  "kernelspec": {
   "display_name": "envT",
   "language": "python",
   "name": "python3"
  },
  "language_info": {
   "codemirror_mode": {
    "name": "ipython",
    "version": 3
   },
   "file_extension": ".py",
   "mimetype": "text/x-python",
   "name": "python",
   "nbconvert_exporter": "python",
   "pygments_lexer": "ipython3",
   "version": "3.10.11"
  },
  "orig_nbformat": 4
 },
 "nbformat": 4,
 "nbformat_minor": 2
}
