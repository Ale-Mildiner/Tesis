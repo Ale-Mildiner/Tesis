{
 "cells": [
  {
   "cell_type": "code",
   "execution_count": 3,
   "metadata": {},
   "outputs": [],
   "source": [
    "import numpy as np\n",
    "import pandas as pd\n",
    "import pickle as pk\n",
    "#import requests\n",
    "path1 = 'd:/Facultad/Tesis/'"
   ]
  },
  {
   "cell_type": "code",
   "execution_count": 6,
   "metadata": {},
   "outputs": [],
   "source": [
    "path = \"d:/Git_Proyects/Tesis/\"\n",
    "clusters = pk.load(open(path+'Embbedings_Lkvec/clusters_threshold_8.pickle', 'rb'))\n",
    "phr = pk.load(open(path1+'phr_embbedings/phrases_to_emb.pickle', 'rb'))"
   ]
  },
  {
   "cell_type": "code",
   "execution_count": 17,
   "metadata": {},
   "outputs": [
    {
     "name": "stdout",
     "output_type": "stream",
     "text": [
      "unprecedented economic crisis\n",
      "present economic crisis\n",
      "deal with the economic crisis\n",
      "on the edge of an economic crisis\n",
      "an economic disaster\n",
      "a dramatic reflection of the growing economic crisis we face\n",
      "an unprecedented economic crisis\n",
      "our economy in crisis\n",
      "confront this economic crisis head-on\n",
      "serious economic crisis\n",
      "the economy is in crisis\n",
      "growing economic crisis\n",
      "a serious economic crisis\n",
      "economy in crisis\n",
      "current economic crisis\n",
      "economic crisis worsens\n",
      "economy is in crisis\n",
      "a self-inflicted economic crisis\n",
      "an unparalleled understanding of our current economic crisis\n",
      "a moment of economic crisis\n",
      "a time of grave economic crisis\n",
      "the economy in crisis\n",
      "an economic catastrophe\n",
      "the economic crisis\n"
     ]
    }
   ],
   "source": [
    "for c in clusters[79]:\n",
    "    print(phr[c])"
   ]
  },
  {
   "cell_type": "code",
   "execution_count": null,
   "metadata": {},
   "outputs": [],
   "source": [
    "for i, cluster in enumerate(clusters):\n",
    "    print(\"\\nCluster {}, #{} Elements \".format(i+1, len(cluster)))\n",
    "    for sentence_id in cluster[0:3]:\n",
    "        print(\"\\t\", phr[sentence_id])\n",
    "    print(\"\\t\", \"...\")\n",
    "    for sentence_id in cluster[-3:]:\n",
    "        print(\"\\t\", phr[sentence_id])"
   ]
  }
 ],
 "metadata": {
  "kernelspec": {
   "display_name": "envT",
   "language": "python",
   "name": "python3"
  },
  "language_info": {
   "codemirror_mode": {
    "name": "ipython",
    "version": 3
   },
   "file_extension": ".py",
   "mimetype": "text/x-python",
   "name": "python",
   "nbconvert_exporter": "python",
   "pygments_lexer": "ipython3",
   "version": "3.10.11"
  },
  "orig_nbformat": 4
 },
 "nbformat": 4,
 "nbformat_minor": 2
}
