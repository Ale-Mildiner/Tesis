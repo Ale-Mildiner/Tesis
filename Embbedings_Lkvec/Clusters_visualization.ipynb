{
 "cells": [
  {
   "cell_type": "code",
   "execution_count": 7,
   "metadata": {},
   "outputs": [],
   "source": [
    "import numpy as np\n",
    "import pandas as pd\n",
    "import pickle as pk\n",
    "#import requests\n",
    "path1 = 'c:/Facultad/Tesis/'"
   ]
  },
  {
   "cell_type": "code",
   "execution_count": 8,
   "metadata": {},
   "outputs": [],
   "source": [
    "path = \"c:/Git-Proyects/Tesis/\"\n",
    "#clusters = pk.load(open(path+'Embbedings_Lkvec/clusters_threshold_75.pickle', 'rb'))\n",
    "#phr = pk.load(open(path1+'phr_embbedings/phrases_to_emb.pickle', 'rb'))\n",
    "\n",
    "clusters = pk.load(open(path+'Modelos_deteccion_frases/cluser_comp_gig_06.pk', 'rb'))\n",
    "phr = pk.load(open(path+'Modelos_deteccion_frases/componente_gigante.pickle', 'rb'))"
   ]
  },
  {
   "cell_type": "code",
   "execution_count": 9,
   "metadata": {},
   "outputs": [
    {
     "data": {
      "text/plain": [
       "519"
      ]
     },
     "execution_count": 9,
     "metadata": {},
     "output_type": "execute_result"
    }
   ],
   "source": [
    "len(clusters)"
   ]
  },
  {
   "cell_type": "code",
   "execution_count": 18,
   "metadata": {},
   "outputs": [
    {
     "name": "stdout",
     "output_type": "stream",
     "text": [
      "this is a dangerous escalation in the crisis\n",
      "that we are in the midst of crisis is now well understood\n",
      "in the midst of crisis is now well understood\n",
      "that we are in the midst of crisis is now well-understood\n",
      "keep its word and act to end this crisis\n",
      "all we need is the right major crisis\n",
      "watch we're going to have an international crisis a generated crisis to test the mettle of this guy\n",
      "watch we're gonna have an international crisis a generated crisis to test the mettle of this guy\n",
      "an international crisis a generated crisis to test the mettle of this guy\n",
      "international crisis a generated crisis to test the mettle of this guy\n",
      "generated crisis to test the mettle\n",
      "watch we're going to have an international crisis a generated crisis to test the mettle of obama\n",
      "there are no quick or easy fixes to this crisis which has been many years in the making and it's likely to get worse before it gets better\n",
      "there are no quick or easy fixes to this crisis\n",
      "meet until the crisis is resolved\n",
      "no less productive than when this crisis began\n",
      "i know we can steer ourselves out of this crisis\n",
      "we must pass legislation to address this crisis\n",
      "this painful crisis\n",
      "dangerous escalation in the crisis\n",
      "they mark a dangerous escalation in the crisis\n",
      "crisis of historic proportions\n"
     ]
    }
   ],
   "source": [
    "for c in clusters[90]:\n",
    "    print(phr[c])"
   ]
  },
  {
   "cell_type": "code",
   "execution_count": 12,
   "metadata": {},
   "outputs": [
    {
     "name": "stdout",
     "output_type": "stream",
     "text": [
      "199\n"
     ]
    }
   ],
   "source": [
    "for i, c in enumerate(clusters):\n",
    "    for index in c:\n",
    "        if phr[index] ==\"here's a little news flash for all those reporters and commentators i'm not going to washington to seek their good opinion\":\n",
    "            print(i)\n"
   ]
  },
  {
   "cell_type": "code",
   "execution_count": 15,
   "metadata": {},
   "outputs": [
    {
     "data": {
      "text/plain": [
       "9039"
      ]
     },
     "execution_count": 15,
     "metadata": {},
     "output_type": "execute_result"
    }
   ],
   "source": [
    "contador = 0\n",
    "for i, c in enumerate(clusters):\n",
    "    contador+= len(c)\n",
    "contador\n",
    "#len(clusters)"
   ]
  },
  {
   "cell_type": "code",
   "execution_count": null,
   "metadata": {},
   "outputs": [],
   "source": [
    "for i, cluster in enumerate(clusters):\n",
    "    print(\"\\nCluster {}, #{} Elements \".format(i+1, len(cluster)))\n",
    "    for sentence_id in cluster[0:3]:\n",
    "        print(\"\\t\", phr[sentence_id])\n",
    "    print(\"\\t\", \"...\")\n",
    "    for sentence_id in cluster[-3:]:\n",
    "        print(\"\\t\", phr[sentence_id])"
   ]
  }
 ],
 "metadata": {
  "kernelspec": {
   "display_name": "envT",
   "language": "python",
   "name": "python3"
  },
  "language_info": {
   "codemirror_mode": {
    "name": "ipython",
    "version": 3
   },
   "file_extension": ".py",
   "mimetype": "text/x-python",
   "name": "python",
   "nbconvert_exporter": "python",
   "pygments_lexer": "ipython3",
   "version": "3.10.11"
  },
  "orig_nbformat": 4
 },
 "nbformat": 4,
 "nbformat_minor": 2
}
