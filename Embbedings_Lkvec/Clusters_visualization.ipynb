{
 "cells": [
  {
   "cell_type": "code",
   "execution_count": 1,
   "metadata": {},
   "outputs": [],
   "source": [
    "import numpy as np\n",
    "import pandas as pd\n",
    "import pickle as pk\n",
    "#import requests\n",
    "path1 = 'd:/Facultad/Tesis/'"
   ]
  },
  {
   "cell_type": "code",
   "execution_count": 8,
   "metadata": {},
   "outputs": [],
   "source": [
    "path = \"d:/Git_Proyects/Tesis/\"\n",
    "clusters = pk.load(open(path+'Embbedings_Lkvec/clusters_threshold_75.pickle', 'rb'))\n",
    "phr = pk.load(open(path1+'phr_embbedings/phrases_to_emb.pickle', 'rb'))"
   ]
  },
  {
   "cell_type": "code",
   "execution_count": 5,
   "metadata": {},
   "outputs": [
    {
     "name": "stdout",
     "output_type": "stream",
     "text": [
      "worse than the great depression\n",
      "most serious financial crisis since the great depression\n",
      "greatest financial crisis since the great depression\n",
      "the worse economic crisis since the great depression\n",
      "the worse financial crisis since the great depression\n",
      "the worst since the great depression\n",
      "worst economy since the great depression\n",
      "the worst financial crisis since the great depression\n",
      "have triggered the worst financial meltdown since the great depression\n",
      "this is the worst economic crisis since the great depression\n",
      "greatest economic crisis since the great depression\n",
      "the worst economic downturn since the great depression\n",
      "the worst financial crisis in our lifetime\n",
      "i think everybody knows now we are in the worst financial crisis since the great depression\n",
      "the most pronounced financial crisis since the great depression\n",
      "we are facing the worst financial crisis since the great depression\n",
      "the biggest financial crisis since the great depression\n",
      "we are in the midst of the worst economic crisis since the great depression\n",
      "worst financial crisis\n",
      "the worst crisis since the great depression\n",
      "perhaps the greatest financial crisis since the great depression\n",
      "the worst economy since the depression\n",
      "we are in the worst financial crisis since the great depression\n",
      "in the worst financial crisis since the great depression\n",
      "far more serious crisis than the great depression\n",
      "everybody knows now we are in the worst financial crisis since the great depression\n",
      "a crisis not seen since the great depression\n",
      "worst recession since the great depression\n",
      "the worst economic crisis since the great depression\n",
      "this is the worst financial crisis since the great depression\n",
      "the greatest economic crisis since the great depression\n",
      "worst economy since the depression\n",
      "worst crisis since the great depression\n",
      "worst global financial crisis since the great depression\n",
      "this is the worst financial crisis since the great depression of 1929 he added\n",
      "the most serious financial crisis since the great depression\n",
      "worst financial crisis since the great depression\n",
      "the result is the most serious financial crisis since the great depression\n",
      "worst financial crisis in our lifetime\n",
      "the worst financial crisis since the depression\n",
      "the worst financial crisis since the 1930s\n",
      "everyone knows now we are in the worst financial crisis since the great depression\n",
      "the worst recession since the great depression\n",
      "we know that the financial crisis now is likely to be the worst since the 1930s\n",
      "worst economic crisis since the great depression\n",
      "the worst economy since the great depression\n",
      "the worst financial crisis in history\n",
      "far worse than the great depression\n",
      "worst financial crisis since the depression\n",
      "the worst financial crisis in a century\n",
      "the greatest financial crisis since the great depression\n"
     ]
    }
   ],
   "source": [
    "for c in clusters[199]:\n",
    "    print(phr[c])"
   ]
  },
  {
   "cell_type": "code",
   "execution_count": 12,
   "metadata": {},
   "outputs": [
    {
     "name": "stdout",
     "output_type": "stream",
     "text": [
      "199\n"
     ]
    }
   ],
   "source": [
    "for i, c in enumerate(clusters):\n",
    "    for index in c:\n",
    "        if phr[index] ==\"here's a little news flash for all those reporters and commentators i'm not going to washington to seek their good opinion\":\n",
    "            print(i)\n"
   ]
  },
  {
   "cell_type": "code",
   "execution_count": 10,
   "metadata": {},
   "outputs": [
    {
     "data": {
      "text/plain": [
       "43903"
      ]
     },
     "execution_count": 10,
     "metadata": {},
     "output_type": "execute_result"
    }
   ],
   "source": [
    "contador = 0\n",
    "for i, c in enumerate(clusters):\n",
    "    contador+= len(c)\n",
    "contador\n",
    "len(clusters)"
   ]
  },
  {
   "cell_type": "code",
   "execution_count": null,
   "metadata": {},
   "outputs": [],
   "source": [
    "for i, cluster in enumerate(clusters):\n",
    "    print(\"\\nCluster {}, #{} Elements \".format(i+1, len(cluster)))\n",
    "    for sentence_id in cluster[0:3]:\n",
    "        print(\"\\t\", phr[sentence_id])\n",
    "    print(\"\\t\", \"...\")\n",
    "    for sentence_id in cluster[-3:]:\n",
    "        print(\"\\t\", phr[sentence_id])"
   ]
  }
 ],
 "metadata": {
  "kernelspec": {
   "display_name": "envT",
   "language": "python",
   "name": "python3"
  },
  "language_info": {
   "codemirror_mode": {
    "name": "ipython",
    "version": 3
   },
   "file_extension": ".py",
   "mimetype": "text/x-python",
   "name": "python",
   "nbconvert_exporter": "python",
   "pygments_lexer": "ipython3",
   "version": "3.10.11"
  },
  "orig_nbformat": 4
 },
 "nbformat": 4,
 "nbformat_minor": 2
}
