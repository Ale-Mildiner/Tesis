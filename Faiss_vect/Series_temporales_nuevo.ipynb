{
 "cells": [
  {
   "cell_type": "code",
   "execution_count": 1,
   "metadata": {},
   "outputs": [],
   "source": [
    "import numpy as np\n",
    "import pandas as pd\n",
    "import matplotlib.pyplot as plt\n",
    "from datetime import datetime, timedelta\n",
    "import os\n",
    "import re\n",
    "import pickle as pk\n",
    "from scipy.signal import hilbert\n",
    "from statsmodels.tsa.seasonal import seasonal_decompose"
   ]
  },
  {
   "cell_type": "code",
   "execution_count": 4,
   "metadata": {},
   "outputs": [],
   "source": [
    "path =  'd:/Git_Proyects/Tesis/Faiss_vect/'\n",
    "citas = pk.load(open(path+'cita_media_cluster_october.pk', 'rb'))"
   ]
  },
  {
   "cell_type": "code",
   "execution_count": 5,
   "metadata": {},
   "outputs": [],
   "source": [
    "# Fileid of the series to analyze\n",
    "def load_files(index):\n",
    "    citas = pk.load(open('d:/Git_Proyects/Tesis/Faiss_vect/cita_media_cluster_october.pk', 'rb'))\n",
    "    filename = f'd:/Git_Proyects/Tesis/Faiss_vect/Tw_mas_RT_October/RT_Tw_cluster_{index}.csv'\n",
    "    df = pd.read_csv(filename)\n",
    "    df['Fecha'] = pd.to_datetime(df['Fecha'], format='%a %b %d %H:%M:%S +0000 %Y')\n",
    "\n",
    "    categoria = 'RT'\n",
    "    df_categoria_true = df[df[categoria] == True]\n",
    "    df_categoria_false = df[df[categoria] == False]\n",
    "    df_categoria = [df_categoria_false, df_categoria_true]\n",
    "    max_date= []\n",
    "    trendss = []\n",
    "    df_crudo = []\n",
    "    for i, df1 in enumerate(df_categoria):\n",
    "        df_index = df1.set_index('Fecha')\n",
    "        df_count_hora = df_index.resample('1H').count()\n",
    "        df_crudo.append(df_count_hora)\n",
    "        df_categoria = [df_categoria_true, df_categoria_false]\n",
    "        result = seasonal_decompose(df_count_hora['Tweets'], model='additive')\n",
    "        trend = result.trend.fillna(0)\n",
    "\n",
    "        fecha_max_apariciones = trend.idxmax()\n",
    "        max_date.append(fecha_max_apariciones)\n",
    "        fecha_inicio = max_date[0] - pd.Timedelta(hours=1)\n",
    "        fecha_fin = max_date[0] + pd.Timedelta(days=7)\n",
    "        trednd_max = trend.loc[str(fecha_inicio):str(fecha_fin)]\n",
    "\n",
    "        trendss.append(trednd_max)\n",
    "    d1 = {'time': trendss[1].index, 'blog':trendss[1].values/max(trendss[1].values)}\n",
    "    d2 = {'time': trendss[0].index, 'media':trendss[0].values/max(trendss[0].values)}\n",
    "\n",
    "    dfRT = pd.DataFrame(d1)\n",
    "    dfT = pd.DataFrame(d2)\n",
    "\n",
    "    data = dfRT.merge(dfT, on='time')\n",
    "    data.set_index('time', inplace=True)\n",
    "    data.media = data.media.div(data.media.max())\n",
    "    data.blog = data.blog.div(data.blog.max())\n",
    "\n",
    "    # Cambiar acá si queremos ajustar solo una parte de los datos\n",
    "    init_index = data.media.argmax()\n",
    "    data = data[init_index:init_index + 168]\n",
    "    return data\n",
    "\n",
    "def make_figure(data, index):\n",
    "    fig, ax = plt.subplots(ncols=1, nrows=1, figsize = (8,5), dpi = 100)\n",
    "    ax.plot()\n",
    "    #ax.plot(data_crudo.media.to_numpy(), 'o-', color = 'm', linewidth = 2, label = 'Tw crudo', alpha = 0.85)\n",
    "    ax.plot(data.media.to_numpy(), '.-', color = 'red', linewidth = 2, label = 'Tw suavizado', alpha =1)\n",
    "\n",
    "    ax.set_ylim([0.00, 1.05])\n",
    "    ax.set_xlim([0, data.shape[0]])\n",
    "    ax.grid(True, alpha = 0.15)\n",
    "    #ax.set_title('Media')\n",
    "\n",
    "    #ax.plot(data_crudo.blog.to_numpy(), 'o-', color = 'c', linewidth = 2, label = 'RT crudo', alpha = 0.85)\n",
    "    ax.plot(data.blog.to_numpy(), '.-', color = 'blue', linewidth = 2, label = 'RT suavizado', alpha = 1)\n",
    "    ax.set_ylim([0.00, 1.05])\n",
    "    ax.set_xlim([0, data.shape[0]])\n",
    "    ax.grid(True, alpha = 0.15)\n",
    "    #ax.set_title(citas[index]+ '\\nTw y RT')\n",
    "\n",
    "    fig.tight_layout()\n",
    "    plt.legend()\n",
    "    plt.grid(alpha = 0.7)\n",
    "    plt.xticks(fontsize=13)\n",
    "    plt.yticks(fontsize=13)\n",
    "\n",
    "    plt.xlabel('Tiempo [horas]', fontsize = 14)\n",
    "    plt.savefig(path+f'Cuenta_imagenes/serie_{index}_oct.pdf')\n",
    "    plt.close()\n"
   ]
  },
  {
   "cell_type": "code",
   "execution_count": 6,
   "metadata": {},
   "outputs": [
    {
     "name": "stderr",
     "output_type": "stream",
     "text": [
      "C:\\Users\\Ale\\AppData\\Local\\Temp\\ipykernel_2132\\386516621.py:30: RuntimeWarning: invalid value encountered in divide\n",
      "  d1 = {'time': trendss[1].index, 'blog':trendss[1].values/max(trendss[1].values)}\n"
     ]
    }
   ],
   "source": [
    "mes = 'october'\n",
    "archivos = os.listdir(path+f'Tw_mas_RT_{mes}')\n",
    "\n",
    "for archivo in archivos:\n",
    "    \n",
    "    patron = re.compile(r'_(\\d+).csv')\n",
    "    coincidencia = patron.search(archivo)\n",
    "    index = coincidencia.group(1)\n",
    "\n",
    "\n",
    "    d = load_files(index)\n",
    "    make_figure(d, index)"
   ]
  },
  {
   "cell_type": "code",
   "execution_count": null,
   "metadata": {},
   "outputs": [],
   "source": []
  }
 ],
 "metadata": {
  "kernelspec": {
   "display_name": "Python 3",
   "language": "python",
   "name": "python3"
  },
  "language_info": {
   "codemirror_mode": {
    "name": "ipython",
    "version": 3
   },
   "file_extension": ".py",
   "mimetype": "text/x-python",
   "name": "python",
   "nbconvert_exporter": "python",
   "pygments_lexer": "ipython3",
   "version": "3.10.11"
  }
 },
 "nbformat": 4,
 "nbformat_minor": 2
}
