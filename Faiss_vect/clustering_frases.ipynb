{
 "cells": [
  {
   "cell_type": "code",
   "execution_count": 1,
   "metadata": {},
   "outputs": [],
   "source": [
    "import numpy as np\n",
    "import pandas as pd\n",
    "import matplotlib.pyplot as plt\n",
    "import pickle as pk\n",
    "import re  \n",
    "from sentence_transformers import SentenceTransformer, util"
   ]
  },
  {
   "cell_type": "code",
   "execution_count": 3,
   "metadata": {},
   "outputs": [
    {
     "data": {
      "text/plain": [
       "(93004, 93004)"
      ]
     },
     "execution_count": 3,
     "metadata": {},
     "output_type": "execute_result"
    }
   ],
   "source": [
    "path = 'd:/Git_Proyects/Tesis/Faiss_vect/'\n",
    "citas_all = pk.load(open(path+'citas_october.pk', 'rb'))\n",
    "citas = []\n",
    "for k in citas_all[0]:\n",
    "    for h in k:\n",
    "        cant_palabras =len(h.split(\" \"))\n",
    "        if cant_palabras>=4 and cant_palabras<= 60:\n",
    "            citas.append(h)\n",
    "\n",
    "#citas_unique = list(set(citas))\n",
    "\n",
    "citas_vect = pk.load(open(path+'citas_october_vect_completo.pk', 'rb'))\n",
    "citas_unique = citas\n",
    "citas_df = pd.DataFrame({'Cita':citas_unique})\n",
    "len(citas_unique), len(citas_vect)"
   ]
  },
  {
   "cell_type": "code",
   "execution_count": 90,
   "metadata": {},
   "outputs": [
    {
     "data": {
      "text/plain": [
       "(89318, 89318)"
      ]
     },
     "execution_count": 90,
     "metadata": {},
     "output_type": "execute_result"
    }
   ],
   "source": [
    "frases = []\n",
    "with open(path+'citas_october_complete.txt', 'r', encoding='utf8') as archivo:\n",
    "    for line in archivo:\n",
    "        frase = line.rstrip()\n",
    "        if len(frase.split(\" \"))>=4 and len(frase.split(\" \"))<=60:\n",
    "            frases.append(frase)\n",
    "citas_vect_2 = pk.load(open(path+'citas_october_vect_completo_txt.pk', 'rb'))\n",
    "len(frases), len(citas_vect_2)\n",
    "######\n",
    "path_git = \"d:/Git_Proyects/Tesis/Base_Twitter/Tweets_August/\"\n",
    "citas_vect  = pk.load(open(path_git+'emb_october_1_2.pk', 'rb'))\n",
    "len(citas_vect)"
   ]
  },
  {
   "cell_type": "code",
   "execution_count": 4,
   "metadata": {},
   "outputs": [],
   "source": [
    "clusters = util.community_detection(citas_vect,threshold=0.8, min_community_size = 1)  \n",
    "cluste_map = {citas_unique[j]: str(i+1) for i, clus in enumerate(clusters) for j in clus}\n",
    "citas_df['id_cluster'] = citas_df['Cita'].map(cluste_map)"
   ]
  },
  {
   "cell_type": "code",
   "execution_count": 19,
   "metadata": {},
   "outputs": [
    {
     "name": "stdout",
     "output_type": "stream",
     "text": [
      "el mejor equipo de la Argentina es éste\n",
      "el mejor equipo de la Argentina es éste\n",
      "el mejor equipo de la Argentina es éste\n",
      "el mejor equipo de la Argentina es éste\n",
      "el mejor equipo de la Argentina es éste\n",
      "el mejor equipo de la Argentina es éste\n"
     ]
    }
   ],
   "source": [
    "for cit in citas_df[citas_df['id_cluster'] == '3000']['Cita']:\n",
    "    print(cit)"
   ]
  },
  {
   "cell_type": "code",
   "execution_count": 15,
   "metadata": {},
   "outputs": [],
   "source": [
    "frases_medias = []\n",
    "for i in range(1, 9000):\n",
    "    cit_mean = []\n",
    "    for cit in citas_df[citas_df['id_cluster'] == str(i)]['Cita']:\n",
    "        cit_mean.append(cit.lower())\n",
    "    try: \n",
    "        contador = {}\n",
    "        for elemento in cit_mean:\n",
    "            if elemento in contador:\n",
    "                contador[elemento] +=1\n",
    "            else:\n",
    "                contador[elemento] = 1\n",
    "\n",
    "        elemento_mas_comun = max(contador, key = contador.get)\n",
    "        frases_medias.append(elemento_mas_comun)\n",
    "    except:\n",
    "        print(i)"
   ]
  },
  {
   "cell_type": "code",
   "execution_count": 125,
   "metadata": {},
   "outputs": [
    {
     "data": {
      "text/plain": [
       "'cuando nuestro cine no intenta copiar o usar moldes que ya utilizaron otros, produce cosas diferentes'"
      ]
     },
     "execution_count": 125,
     "metadata": {},
     "output_type": "execute_result"
    }
   ],
   "source": [
    "frases_medias[1]"
   ]
  },
  {
   "cell_type": "code",
   "execution_count": 16,
   "metadata": {},
   "outputs": [],
   "source": [
    "len(frases_medias)\n",
    "pk.dump(frases_medias, open(path+'cita_media_cluster_august.pk', 'wb'))"
   ]
  },
  {
   "cell_type": "code",
   "execution_count": 130,
   "metadata": {},
   "outputs": [
    {
     "data": {
      "text/plain": [
       "1"
      ]
     },
     "execution_count": 130,
     "metadata": {},
     "output_type": "execute_result"
    }
   ],
   "source": [
    "np.where(np.array(frases_medias) == frases_medias[1])[0][0]"
   ]
  }
 ],
 "metadata": {
  "kernelspec": {
   "display_name": "Python 3",
   "language": "python",
   "name": "python3"
  },
  "language_info": {
   "codemirror_mode": {
    "name": "ipython",
    "version": 3
   },
   "file_extension": ".py",
   "mimetype": "text/x-python",
   "name": "python",
   "nbconvert_exporter": "python",
   "pygments_lexer": "ipython3",
   "version": "3.10.11"
  }
 },
 "nbformat": 4,
 "nbformat_minor": 2
}
