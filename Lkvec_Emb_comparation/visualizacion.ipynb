{
 "cells": [
  {
   "cell_type": "code",
   "execution_count": 1,
   "metadata": {},
   "outputs": [],
   "source": [
    "import numpy as np\n",
    "import matplotlib.pyplot as plt\n",
    "import pandas as pd\n",
    "\n",
    "path = \"d:/Facultad/Tesis/\"\n",
    "Lkvec = pd.read_csv(path+'Lkvec_all_in.csv')"
   ]
  },
  {
   "cell_type": "code",
   "execution_count": 7,
   "metadata": {},
   "outputs": [
    {
     "data": {
      "text/html": [
       "<div>\n",
       "<style scoped>\n",
       "    .dataframe tbody tr th:only-of-type {\n",
       "        vertical-align: middle;\n",
       "    }\n",
       "\n",
       "    .dataframe tbody tr th {\n",
       "        vertical-align: top;\n",
       "    }\n",
       "\n",
       "    .dataframe thead th {\n",
       "        text-align: right;\n",
       "    }\n",
       "</style>\n",
       "<table border=\"1\" class=\"dataframe\">\n",
       "  <thead>\n",
       "    <tr style=\"text-align: right;\">\n",
       "      <th></th>\n",
       "      <th>time</th>\n",
       "      <th>frequency</th>\n",
       "      <th>media</th>\n",
       "      <th>phrase</th>\n",
       "      <th>root</th>\n",
       "      <th>id</th>\n",
       "    </tr>\n",
       "  </thead>\n",
       "  <tbody>\n",
       "    <tr>\n",
       "      <th>0</th>\n",
       "      <td>2008-08-18 18:31:45</td>\n",
       "      <td>3</td>\n",
       "      <td>B</td>\n",
       "      <td>kind of creepy</td>\n",
       "      <td>it's kind of creepy to think that that many pe...</td>\n",
       "      <td>1785689</td>\n",
       "    </tr>\n",
       "    <tr>\n",
       "      <th>11</th>\n",
       "      <td>2008-09-25 22:03:51</td>\n",
       "      <td>1</td>\n",
       "      <td>M</td>\n",
       "      <td>it's kind of creepy</td>\n",
       "      <td>it's kind of creepy to think that that many pe...</td>\n",
       "      <td>1785689</td>\n",
       "    </tr>\n",
       "    <tr>\n",
       "      <th>78</th>\n",
       "      <td>2008-11-10 18:50:24</td>\n",
       "      <td>1</td>\n",
       "      <td>B</td>\n",
       "      <td>it's kind of creepy to think that that many pe...</td>\n",
       "      <td>it's kind of creepy to think that that many pe...</td>\n",
       "      <td>1785689</td>\n",
       "    </tr>\n",
       "    <tr>\n",
       "      <th>90</th>\n",
       "      <td>2008-09-24 04:43:54</td>\n",
       "      <td>1</td>\n",
       "      <td>M</td>\n",
       "      <td>we support all research that would further the...</td>\n",
       "      <td>we support all research that would further the...</td>\n",
       "      <td>1117502</td>\n",
       "    </tr>\n",
       "    <tr>\n",
       "      <th>161</th>\n",
       "      <td>2008-09-24 17:14:33</td>\n",
       "      <td>1</td>\n",
       "      <td>M</td>\n",
       "      <td>we support all research that would further the...</td>\n",
       "      <td>we support all research that would further the...</td>\n",
       "      <td>1117502</td>\n",
       "    </tr>\n",
       "    <tr>\n",
       "      <th>...</th>\n",
       "      <td>...</td>\n",
       "      <td>...</td>\n",
       "      <td>...</td>\n",
       "      <td>...</td>\n",
       "      <td>...</td>\n",
       "      <td>...</td>\n",
       "    </tr>\n",
       "    <tr>\n",
       "      <th>7665043</th>\n",
       "      <td>2008-12-15 21:51:32</td>\n",
       "      <td>1</td>\n",
       "      <td>M</td>\n",
       "      <td>the current cholera epidemic is only the most ...</td>\n",
       "      <td>the current cholera epidemic is only the most ...</td>\n",
       "      <td>2222921</td>\n",
       "    </tr>\n",
       "    <tr>\n",
       "      <th>7665076</th>\n",
       "      <td>2008-12-15 23:37:35</td>\n",
       "      <td>1</td>\n",
       "      <td>M</td>\n",
       "      <td>the current cholera epidemic is only the most ...</td>\n",
       "      <td>the current cholera epidemic is only the most ...</td>\n",
       "      <td>2222921</td>\n",
       "    </tr>\n",
       "    <tr>\n",
       "      <th>7665095</th>\n",
       "      <td>2008-09-05 17:08:04</td>\n",
       "      <td>1</td>\n",
       "      <td>B</td>\n",
       "      <td>and then click</td>\n",
       "      <td>option and then click on the</td>\n",
       "      <td>1686328</td>\n",
       "    </tr>\n",
       "    <tr>\n",
       "      <th>7665100</th>\n",
       "      <td>2008-11-02 21:35:41</td>\n",
       "      <td>2</td>\n",
       "      <td>B</td>\n",
       "      <td>and then click on the</td>\n",
       "      <td>option and then click on the</td>\n",
       "      <td>1686328</td>\n",
       "    </tr>\n",
       "    <tr>\n",
       "      <th>7665105</th>\n",
       "      <td>2008-11-02 21:35:41</td>\n",
       "      <td>2</td>\n",
       "      <td>B</td>\n",
       "      <td>option and then click on the</td>\n",
       "      <td>option and then click on the</td>\n",
       "      <td>1686328</td>\n",
       "    </tr>\n",
       "  </tbody>\n",
       "</table>\n",
       "<p>310457 rows × 6 columns</p>\n",
       "</div>"
      ],
      "text/plain": [
       "                        time  frequency media   \n",
       "0        2008-08-18 18:31:45          3     B  \\\n",
       "11       2008-09-25 22:03:51          1     M   \n",
       "78       2008-11-10 18:50:24          1     B   \n",
       "90       2008-09-24 04:43:54          1     M   \n",
       "161      2008-09-24 17:14:33          1     M   \n",
       "...                      ...        ...   ...   \n",
       "7665043  2008-12-15 21:51:32          1     M   \n",
       "7665076  2008-12-15 23:37:35          1     M   \n",
       "7665095  2008-09-05 17:08:04          1     B   \n",
       "7665100  2008-11-02 21:35:41          2     B   \n",
       "7665105  2008-11-02 21:35:41          2     B   \n",
       "\n",
       "                                                    phrase   \n",
       "0                                           kind of creepy  \\\n",
       "11                                     it's kind of creepy   \n",
       "78       it's kind of creepy to think that that many pe...   \n",
       "90       we support all research that would further the...   \n",
       "161      we support all research that would further the...   \n",
       "...                                                    ...   \n",
       "7665043  the current cholera epidemic is only the most ...   \n",
       "7665076  the current cholera epidemic is only the most ...   \n",
       "7665095                                     and then click   \n",
       "7665100                              and then click on the   \n",
       "7665105                       option and then click on the   \n",
       "\n",
       "                                                      root       id  \n",
       "0        it's kind of creepy to think that that many pe...  1785689  \n",
       "11       it's kind of creepy to think that that many pe...  1785689  \n",
       "78       it's kind of creepy to think that that many pe...  1785689  \n",
       "90       we support all research that would further the...  1117502  \n",
       "161      we support all research that would further the...  1117502  \n",
       "...                                                    ...      ...  \n",
       "7665043  the current cholera epidemic is only the most ...  2222921  \n",
       "7665076  the current cholera epidemic is only the most ...  2222921  \n",
       "7665095                       option and then click on the  1686328  \n",
       "7665100                       option and then click on the  1686328  \n",
       "7665105                       option and then click on the  1686328  \n",
       "\n",
       "[310457 rows x 6 columns]"
      ]
     },
     "execution_count": 7,
     "metadata": {},
     "output_type": "execute_result"
    }
   ],
   "source": [
    "Lkvec_unique = Lkvec.drop_duplicates(subset=['phrase'])\n",
    "Lkvec_unique"
   ]
  },
  {
   "cell_type": "code",
   "execution_count": 10,
   "metadata": {},
   "outputs": [
    {
     "data": {
      "text/plain": [
       "71568"
      ]
     },
     "execution_count": 10,
     "metadata": {},
     "output_type": "execute_result"
    }
   ],
   "source": [
    "Lkvec_phrs_count = list(Lkvec_unique['id'].value_counts())"
   ]
  },
  {
   "cell_type": "code",
   "execution_count": 25,
   "metadata": {},
   "outputs": [
    {
     "name": "stdout",
     "output_type": "stream",
     "text": [
      "5\n",
      "clusters_threshold_5.pickle\n",
      "6\n",
      "clusters_threshold_6.pickle\n",
      "75\n",
      "clusters_threshold_75.pickle\n",
      "8\n",
      "clusters_threshold_8.pickle\n"
     ]
    }
   ],
   "source": [
    "import pickle as pk\n",
    "import os\n",
    "import re\n",
    "\n",
    "patern = r\"_(\\d+).pickle\"\n",
    "pathGit = 'd:/Git_Proyects/Tesis/Embbedings_Lkvec/'\n",
    "for file in os.listdir(pathGit):\n",
    "    if file.endswith('.pickle'):\n",
    "        print(re.findall(patern, file)[0])\n",
    "        clus_re.findall(patern, file)[0]\n",
    "        print(file)\n",
    "# clus_5 = pk.load(open(pathGit+'clusters_threshold_5.pickle', 'rb'))\n",
    "# len(clus_5)"
   ]
  },
  {
   "cell_type": "code",
   "execution_count": 5,
   "metadata": {},
   "outputs": [
    {
     "data": {
      "text/plain": [
       "2808"
      ]
     },
     "execution_count": 5,
     "metadata": {},
     "output_type": "execute_result"
    }
   ],
   "source": [
    "import pickle as pk\n",
    "path1 = 'd:/Git_Proyects/Tesis/'\n",
    "clusters = pk.load(open(path1+'Embbedings_Lkvec/clusters_threshold_75.pickle', 'rb'))\n",
    "phr = pk.load(open(path+'phr_embbedings/phrases_to_emb.pickle', 'rb'))\n",
    "len(clusters)"
   ]
  }
 ],
 "metadata": {
  "kernelspec": {
   "display_name": "envT",
   "language": "python",
   "name": "python3"
  },
  "language_info": {
   "codemirror_mode": {
    "name": "ipython",
    "version": 3
   },
   "file_extension": ".py",
   "mimetype": "text/x-python",
   "name": "python",
   "nbconvert_exporter": "python",
   "pygments_lexer": "ipython3",
   "version": "3.10.11"
  },
  "orig_nbformat": 4
 },
 "nbformat": 4,
 "nbformat_minor": 2
}
