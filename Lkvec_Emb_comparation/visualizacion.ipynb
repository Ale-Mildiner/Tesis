{
 "cells": [
  {
   "cell_type": "code",
   "execution_count": 1,
   "metadata": {},
   "outputs": [],
   "source": [
    "import numpy as np\n",
    "import matplotlib.pyplot as plt\n",
    "import pandas as pd\n",
    "\n",
    "path = \"c:/Facultad/Tesis/\"\n",
    "Lkvec = pd.read_csv(path+'Lkvec_all_in.csv')"
   ]
  },
  {
   "cell_type": "code",
   "execution_count": 2,
   "metadata": {},
   "outputs": [
    {
     "data": {
      "text/html": [
       "<div>\n",
       "<style scoped>\n",
       "    .dataframe tbody tr th:only-of-type {\n",
       "        vertical-align: middle;\n",
       "    }\n",
       "\n",
       "    .dataframe tbody tr th {\n",
       "        vertical-align: top;\n",
       "    }\n",
       "\n",
       "    .dataframe thead th {\n",
       "        text-align: right;\n",
       "    }\n",
       "</style>\n",
       "<table border=\"1\" class=\"dataframe\">\n",
       "  <thead>\n",
       "    <tr style=\"text-align: right;\">\n",
       "      <th></th>\n",
       "      <th>time</th>\n",
       "      <th>frequency</th>\n",
       "      <th>media</th>\n",
       "      <th>phrase</th>\n",
       "      <th>root</th>\n",
       "      <th>id</th>\n",
       "    </tr>\n",
       "  </thead>\n",
       "  <tbody>\n",
       "    <tr>\n",
       "      <th>0</th>\n",
       "      <td>2008-08-18 18:31:45</td>\n",
       "      <td>3</td>\n",
       "      <td>B</td>\n",
       "      <td>kind of creepy</td>\n",
       "      <td>it's kind of creepy to think that that many pe...</td>\n",
       "      <td>1785689</td>\n",
       "    </tr>\n",
       "    <tr>\n",
       "      <th>11</th>\n",
       "      <td>2008-09-25 22:03:51</td>\n",
       "      <td>1</td>\n",
       "      <td>M</td>\n",
       "      <td>it's kind of creepy</td>\n",
       "      <td>it's kind of creepy to think that that many pe...</td>\n",
       "      <td>1785689</td>\n",
       "    </tr>\n",
       "    <tr>\n",
       "      <th>78</th>\n",
       "      <td>2008-11-10 18:50:24</td>\n",
       "      <td>1</td>\n",
       "      <td>B</td>\n",
       "      <td>it's kind of creepy to think that that many pe...</td>\n",
       "      <td>it's kind of creepy to think that that many pe...</td>\n",
       "      <td>1785689</td>\n",
       "    </tr>\n",
       "    <tr>\n",
       "      <th>90</th>\n",
       "      <td>2008-09-24 04:43:54</td>\n",
       "      <td>1</td>\n",
       "      <td>M</td>\n",
       "      <td>we support all research that would further the...</td>\n",
       "      <td>we support all research that would further the...</td>\n",
       "      <td>1117502</td>\n",
       "    </tr>\n",
       "    <tr>\n",
       "      <th>161</th>\n",
       "      <td>2008-09-24 17:14:33</td>\n",
       "      <td>1</td>\n",
       "      <td>M</td>\n",
       "      <td>we support all research that would further the...</td>\n",
       "      <td>we support all research that would further the...</td>\n",
       "      <td>1117502</td>\n",
       "    </tr>\n",
       "    <tr>\n",
       "      <th>...</th>\n",
       "      <td>...</td>\n",
       "      <td>...</td>\n",
       "      <td>...</td>\n",
       "      <td>...</td>\n",
       "      <td>...</td>\n",
       "      <td>...</td>\n",
       "    </tr>\n",
       "    <tr>\n",
       "      <th>7665043</th>\n",
       "      <td>2008-12-15 21:51:32</td>\n",
       "      <td>1</td>\n",
       "      <td>M</td>\n",
       "      <td>the current cholera epidemic is only the most ...</td>\n",
       "      <td>the current cholera epidemic is only the most ...</td>\n",
       "      <td>2222921</td>\n",
       "    </tr>\n",
       "    <tr>\n",
       "      <th>7665076</th>\n",
       "      <td>2008-12-15 23:37:35</td>\n",
       "      <td>1</td>\n",
       "      <td>M</td>\n",
       "      <td>the current cholera epidemic is only the most ...</td>\n",
       "      <td>the current cholera epidemic is only the most ...</td>\n",
       "      <td>2222921</td>\n",
       "    </tr>\n",
       "    <tr>\n",
       "      <th>7665095</th>\n",
       "      <td>2008-09-05 17:08:04</td>\n",
       "      <td>1</td>\n",
       "      <td>B</td>\n",
       "      <td>and then click</td>\n",
       "      <td>option and then click on the</td>\n",
       "      <td>1686328</td>\n",
       "    </tr>\n",
       "    <tr>\n",
       "      <th>7665100</th>\n",
       "      <td>2008-11-02 21:35:41</td>\n",
       "      <td>2</td>\n",
       "      <td>B</td>\n",
       "      <td>and then click on the</td>\n",
       "      <td>option and then click on the</td>\n",
       "      <td>1686328</td>\n",
       "    </tr>\n",
       "    <tr>\n",
       "      <th>7665105</th>\n",
       "      <td>2008-11-02 21:35:41</td>\n",
       "      <td>2</td>\n",
       "      <td>B</td>\n",
       "      <td>option and then click on the</td>\n",
       "      <td>option and then click on the</td>\n",
       "      <td>1686328</td>\n",
       "    </tr>\n",
       "  </tbody>\n",
       "</table>\n",
       "<p>310457 rows × 6 columns</p>\n",
       "</div>"
      ],
      "text/plain": [
       "                        time  frequency media   \n",
       "0        2008-08-18 18:31:45          3     B  \\\n",
       "11       2008-09-25 22:03:51          1     M   \n",
       "78       2008-11-10 18:50:24          1     B   \n",
       "90       2008-09-24 04:43:54          1     M   \n",
       "161      2008-09-24 17:14:33          1     M   \n",
       "...                      ...        ...   ...   \n",
       "7665043  2008-12-15 21:51:32          1     M   \n",
       "7665076  2008-12-15 23:37:35          1     M   \n",
       "7665095  2008-09-05 17:08:04          1     B   \n",
       "7665100  2008-11-02 21:35:41          2     B   \n",
       "7665105  2008-11-02 21:35:41          2     B   \n",
       "\n",
       "                                                    phrase   \n",
       "0                                           kind of creepy  \\\n",
       "11                                     it's kind of creepy   \n",
       "78       it's kind of creepy to think that that many pe...   \n",
       "90       we support all research that would further the...   \n",
       "161      we support all research that would further the...   \n",
       "...                                                    ...   \n",
       "7665043  the current cholera epidemic is only the most ...   \n",
       "7665076  the current cholera epidemic is only the most ...   \n",
       "7665095                                     and then click   \n",
       "7665100                              and then click on the   \n",
       "7665105                       option and then click on the   \n",
       "\n",
       "                                                      root       id  \n",
       "0        it's kind of creepy to think that that many pe...  1785689  \n",
       "11       it's kind of creepy to think that that many pe...  1785689  \n",
       "78       it's kind of creepy to think that that many pe...  1785689  \n",
       "90       we support all research that would further the...  1117502  \n",
       "161      we support all research that would further the...  1117502  \n",
       "...                                                    ...      ...  \n",
       "7665043  the current cholera epidemic is only the most ...  2222921  \n",
       "7665076  the current cholera epidemic is only the most ...  2222921  \n",
       "7665095                       option and then click on the  1686328  \n",
       "7665100                       option and then click on the  1686328  \n",
       "7665105                       option and then click on the  1686328  \n",
       "\n",
       "[310457 rows x 6 columns]"
      ]
     },
     "execution_count": 2,
     "metadata": {},
     "output_type": "execute_result"
    }
   ],
   "source": [
    "Lkvec_unique = Lkvec.drop_duplicates(subset=['phrase'])\n",
    "Lkvec_unique"
   ]
  },
  {
   "cell_type": "code",
   "execution_count": 57,
   "metadata": {},
   "outputs": [
    {
     "data": {
      "text/plain": [
       "id\n",
       "2595895    177\n",
       "1509852    132\n",
       "1428671    101\n",
       "1189        97\n",
       "2323766     89\n",
       "          ... \n",
       "1128644      3\n",
       "1128691      3\n",
       "1128694      3\n",
       "1128758      3\n",
       "2717518      3\n",
       "Name: count, Length: 71568, dtype: int64"
      ]
     },
     "execution_count": 57,
     "metadata": {},
     "output_type": "execute_result"
    }
   ],
   "source": [
    "Lkvec_phrs_count = list(Lkvec_unique['id'].value_counts())\n",
    "Lkvec_unique.value_counts('id')"
   ]
  },
  {
   "cell_type": "code",
   "execution_count": 6,
   "metadata": {},
   "outputs": [
    {
     "name": "stdout",
     "output_type": "stream",
     "text": [
      "clusters_threshold_5.pickle\n",
      "clusters_threshold_6.pickle\n",
      "clusters_threshold_75.pickle\n",
      "clusters_threshold_8.pickle\n"
     ]
    }
   ],
   "source": [
    "import pickle as pk\n",
    "import os\n",
    "import re\n",
    "\n",
    "patern = r\"_(\\d+).pickle\"\n",
    "pathGit = 'c:/Git_Proyects/Tesis/Embbedings_Lkvec/'\n",
    "variables = {}\n",
    "\n",
    "for file in os.listdir(pathGit):\n",
    "    if file.endswith('.pickle'):\n",
    "        number = re.findall(patern, file)[0]\n",
    "        variable_name = f\"cluster_{number}\"\n",
    "        value = pk.load(open(pathGit+file, 'rb'))\n",
    "        variables[variable_name] = value\n",
    "\n",
    "\n",
    "        #clus_re.findall(patern, file)[0]\n",
    "        print(file)\n",
    "# clus_5 = pk.load(open(pathGit+'clusters_threshold_5.pickle', 'rb'))\n",
    "# len(clus_5)"
   ]
  },
  {
   "cell_type": "code",
   "execution_count": null,
   "metadata": {},
   "outputs": [],
   "source": [
    "archivos = list(variables.keys())\n",
    "cantidad = {}\n",
    "for file in archivos:\n",
    "    cantidad = []\n",
    "    for i,cluster in enumerate(file):\n",
    "        print(len(file[i]))\n",
    "#         cantidad.append(len(vari))\n",
    "#    len(variables.get(clsuters[0]))\n"
   ]
  },
  {
   "cell_type": "code",
   "execution_count": 31,
   "metadata": {},
   "outputs": [],
   "source": [
    "cantidades = {}\n",
    "for file in archivos:\n",
    "    data = variables.get(file)\n",
    "    cantidad = []\n",
    "    for i, cluster in enumerate(data):\n",
    "        cantidad.append(len(data[i]))\n",
    "\n",
    "    cantidades[file] = cantidad\n",
    "    "
   ]
  },
  {
   "cell_type": "code",
   "execution_count": null,
   "metadata": {},
   "outputs": [],
   "source": [
    "cantidades['cluster_8']"
   ]
  },
  {
   "cell_type": "code",
   "execution_count": 48,
   "metadata": {},
   "outputs": [
    {
     "data": {
      "image/png": "[encoded data removed]",
      "text/plain": [
       "<Figure size 640x480 with 1 Axes>"
      ]
     },
     "metadata": {},
     "output_type": "display_data"
    }
   ],
   "source": [
    "sorted(Lkvec_phrs_count, reverse = True)\n",
    "\n",
    "plt.figure()\n",
    "plt.plot(sorted(Lkvec_phrs_count, reverse = True), '.-',label ='Lkvec', color = 'black')\n",
    "for file in archivos:\n",
    "    cant_plot = sorted(cantidades[file], reverse = True)\n",
    "    plt.plot(cant_plot, '.-', label = file)\n",
    "plt.yscale('log')\n",
    "plt.xscale('log')\n",
    "plt.ylabel('# frases en cada Cluster/Archivos')\n",
    "plt.xlabel('# de Clusters/archivos')\n",
    "plt.legend()\n",
    "plt.show()"
   ]
  },
  {
   "cell_type": "code",
   "execution_count": 60,
   "metadata": {},
   "outputs": [
    {
     "data": {
      "text/plain": [
       "1095587                                       every so often\n",
       "1095612                                       we have chosen\n",
       "1095621                                         in the midst\n",
       "1095638                                            a new age\n",
       "1095673                                   my fellow citizens\n",
       "                                 ...                        \n",
       "1103692                                 to make hard choices\n",
       "1103697    the greed and irresponsibility on the part of ...\n",
       "1103710    sapping of confidence across our land a naggin...\n",
       "1103721    a nagging fear that america's decline is inevi...\n",
       "1103725    consequences of greed and irresponsibility on ...\n",
       "Name: phrase, Length: 177, dtype: object"
      ]
     },
     "execution_count": 60,
     "metadata": {},
     "output_type": "execute_result"
    }
   ],
   "source": [
    "Lkvec_unique[Lkvec_unique['id'] ==2595895]['phrase']\n",
    "#test = list(Lkvec_unique['id'].value_counts())"
   ]
  },
  {
   "cell_type": "code",
   "execution_count": 5,
   "metadata": {},
   "outputs": [
    {
     "data": {
      "text/plain": [
       "2808"
      ]
     },
     "execution_count": 5,
     "metadata": {},
     "output_type": "execute_result"
    }
   ],
   "source": [
    "import pickle as pk\n",
    "path1 = 'd:/Git_Proyects/Tesis/'\n",
    "clusters = pk.load(open(path1+'Embbedings_Lkvec/clusters_threshold_75.pickle', 'rb'))\n",
    "phr = pk.load(open(path+'phr_embbedings/phrases_to_emb.pickle', 'rb'))\n",
    "len(clusters)"
   ]
  }
 ],
 "metadata": {
  "kernelspec": {
   "display_name": "envT",
   "language": "python",
   "name": "python3"
  },
  "language_info": {
   "codemirror_mode": {
    "name": "ipython",
    "version": 3
   },
   "file_extension": ".py",
   "mimetype": "text/x-python",
   "name": "python",
   "nbconvert_exporter": "python",
   "pygments_lexer": "ipython3",
   "version": "3.10.11"
  },
  "orig_nbformat": 4
 },
 "nbformat": 4,
 "nbformat_minor": 2
}
