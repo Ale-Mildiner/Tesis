{
 "cells": [
  {
   "cell_type": "code",
   "execution_count": 1,
   "metadata": {},
   "outputs": [],
   "source": [
    "import numpy as np\n",
    "import pandas as pd\n",
    "import matplotlib.pyplot as plt\n",
    "from datetime import datetime, timedelta\n",
    "import os\n",
    "import re\n",
    "import pickle as pk\n",
    "from scipy.signal import hilbert\n",
    "from statsmodels.tsa.seasonal import seasonal_decompose"
   ]
  },
  {
   "cell_type": "code",
   "execution_count": 2,
   "metadata": {},
   "outputs": [],
   "source": [
    "def preprocess(index):  \n",
    "    filename = f'D:/Facultad/Tesis/Data_Disgregada/Lkvec_id{index}.csv'  \n",
    "    data = pd.read_csv(filename)\n",
    "\n",
    "    # Pongo el tiempo como el índice de los datos\n",
    "    data.time = pd.to_datetime(data.time, format = \"%Y-%m-%d %H:%M:%S\" )\n",
    "    data.set_index('time', inplace = True)\n",
    "\n",
    "    blog = data[data.media == 'B'].resample('1H').sum()['frequency']\n",
    "    media = data[data.media == 'M'].resample('1H').sum()['frequency']\n",
    "\n",
    "    new_index = blog.index.union(media.index)\n",
    "\n",
    "    media = media.reindex(new_index).fillna(0.00)\n",
    "    blog = blog.reindex(new_index).fillna(0.00)\n",
    "\n",
    "    all_data = pd.DataFrame(index = new_index)\n",
    "    all_data['media'] = media.to_list()\n",
    "    all_data['blog'] = blog.to_list()\n",
    "\n",
    "    # We define a cut between 3 days before the global peak and 21 days after that\n",
    "    resample_dropped = all_data[(all_data.index > (all_data.sum(axis = 1).idxmax() - pd.to_timedelta('3D'))) & (all_data.index < (all_data.sum(axis = 1).idxmax() + pd.to_timedelta('21D')))]\n",
    "\n",
    "    # Rolling window of 24H to extract the trend\n",
    "    rolling_dropped = resample_dropped.rolling('1D', center=True).mean()\n",
    "    return rolling_dropped\n",
    "\n",
    "def load_files(index):\n",
    "    filename = preprocess(index)\n",
    "\n",
    "    data = filename\n",
    "    #data = pd.read_csv(filename, parse_dates=[0])\n",
    "    #data.set_index('time', inplace=True)\n",
    "    data.media = data.media.div(data.media.max())\n",
    "    data.blog = data.blog.div(data.blog.max())\n",
    "\n",
    "    # Cambiar acá si queremos ajustar solo una parte de los datos\n",
    "    init_index = data.media.argmax()\n",
    "    data = data[init_index:init_index + 168]\n",
    "    return data"
   ]
  },
  {
   "cell_type": "code",
   "execution_count": 3,
   "metadata": {},
   "outputs": [],
   "source": [
    "def make_figure(data, index):\n",
    "    fig, ax = plt.subplots(ncols=1, nrows=1, figsize = (8,5), dpi = 100)\n",
    "    ax.plot()\n",
    "    #ax.plot(data_crudo.media.to_numpy(), 'o-', color = 'm', linewidth = 2, label = 'Tw crudo', alpha = 0.85)\n",
    "    ax.plot(data.media.to_numpy(), '.-', color = 'red', linewidth = 2, label = 'Media data', alpha =1)\n",
    "\n",
    "    ax.set_ylim([0.00, 1.05])\n",
    "    ax.set_xlim([0, data.shape[0]])\n",
    "    ax.grid(True, alpha = 0.15)\n",
    "    #ax.set_title('Media')\n",
    "\n",
    "    #ax.plot(data_crudo.blog.to_numpy(), 'o-', color = 'c', linewidth = 2, label = 'RT crudo', alpha = 0.85)\n",
    "    ax.plot(data.blog.to_numpy(), '.-', color = 'blue', linewidth = 2, label = 'Blogs data', alpha = 1)\n",
    "    ax.set_ylim([0.00, 1.05])\n",
    "    ax.set_xlim([0, data.shape[0]])\n",
    "    ax.grid(True, alpha = 0.15)\n",
    "    #ax.set_title(citas[index]+ '\\nTw y RT')\n",
    "\n",
    "    fig.tight_layout()\n",
    "    plt.legend()\n",
    "    plt.grid(alpha = 0.7)\n",
    "    plt.xticks(fontsize=13)\n",
    "    plt.yticks(fontsize=13)\n",
    "    plt.xlabel('Tiempo [horas]',fontsize = 14)\n",
    "    plt.savefig('d:/Git_Proyects/Tesis/Lkvec_series/'+f'imagenes_lkvec/serie_{index}.pdf')\n",
    "    plt.close()"
   ]
  },
  {
   "cell_type": "code",
   "execution_count": 4,
   "metadata": {},
   "outputs": [],
   "source": [
    "path = 'd:/Git_Proyects/Tesis/Lkvec_series/'\n",
    "l_data = pd.read_csv(path+'Clasificacion_series.csv')\n",
    "l_id = l_data['fileid']\n",
    "\n",
    "for id in l_id:\n",
    "    data = load_files(id)\n",
    "    make_figure(data, id)    "
   ]
  }
 ],
 "metadata": {
  "kernelspec": {
   "display_name": "Python 3",
   "language": "python",
   "name": "python3"
  },
  "language_info": {
   "codemirror_mode": {
    "name": "ipython",
    "version": 3
   },
   "file_extension": ".py",
   "mimetype": "text/x-python",
   "name": "python",
   "nbconvert_exporter": "python",
   "pygments_lexer": "ipython3",
   "version": "3.10.11"
  }
 },
 "nbformat": 4,
 "nbformat_minor": 2
}
