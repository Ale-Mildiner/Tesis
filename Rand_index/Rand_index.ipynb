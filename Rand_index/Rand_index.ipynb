{
 "cells": [
  {
   "cell_type": "code",
   "execution_count": 1,
   "metadata": {},
   "outputs": [],
   "source": [
    "import numpy as np\n",
    "import matplotlib.pyplot as plt\n",
    "import pandas as pd\n",
    "import pickle as pk\n",
    "\n",
    "pathGit = \"d:/Git_proyects/Tesis/Embbedings_Lkvec/\"\n",
    "path = \"d:/Facultad/Tesis/\"\n",
    "Lkvec = pd.read_csv(path+'Lkvec_all_in.csv')"
   ]
  },
  {
   "cell_type": "code",
   "execution_count": 2,
   "metadata": {},
   "outputs": [],
   "source": [
    "Lkvec_unique = Lkvec.drop_duplicates(subset=['phrase'])\n"
   ]
  },
  {
   "cell_type": "code",
   "execution_count": 3,
   "metadata": {},
   "outputs": [
    {
     "data": {
      "text/plain": [
       "(310457, 6)"
      ]
     },
     "execution_count": 3,
     "metadata": {},
     "output_type": "execute_result"
    }
   ],
   "source": [
    "np.shape(Lkvec_unique)"
   ]
  },
  {
   "cell_type": "code",
   "execution_count": 4,
   "metadata": {},
   "outputs": [
    {
     "name": "stderr",
     "output_type": "stream",
     "text": [
      "C:\\Users\\Ale\\AppData\\Local\\Temp\\ipykernel_17884\\3868424304.py:6: SettingWithCopyWarning: \n",
      "A value is trying to be set on a copy of a slice from a DataFrame.\n",
      "Try using .loc[row_indexer,col_indexer] = value instead\n",
      "\n",
      "See the caveats in the documentation: https://pandas.pydata.org/pandas-docs/stable/user_guide/indexing.html#returning-a-view-versus-a-copy\n",
      "  Lkvec_unique['id_cluster'] = np.nan\n"
     ]
    }
   ],
   "source": [
    "#path = \"c:/Git-Proyects/Tesis/\"\n",
    "\n",
    "mpnet = pk.load(open(pathGit+'clusters_threshold_75_22.pk', 'rb'))\n",
    "mini = pk.load(open(pathGit+'clusters_threshold_75_02.pk', 'rb'))\n",
    "phr = pk.load(open(path+'phr_embbedings/phrases_to_emb.pickle', 'rb'))\n",
    "Lkvec_unique['id_cluster'] = np.nan"
   ]
  },
  {
   "cell_type": "code",
   "execution_count": 5,
   "metadata": {},
   "outputs": [
    {
     "ename": "NameError",
     "evalue": "name 'c_nuevo' is not defined",
     "output_type": "error",
     "traceback": [
      "\u001b[1;31m---------------------------------------------------------------------------\u001b[0m",
      "\u001b[1;31mNameError\u001b[0m                                 Traceback (most recent call last)",
      "Cell \u001b[1;32mIn[5], line 2\u001b[0m\n\u001b[0;32m      1\u001b[0m indice_frases \u001b[38;5;241m=\u001b[39m {i: j \u001b[38;5;28;01mfor\u001b[39;00m j, i \u001b[38;5;129;01min\u001b[39;00m \u001b[38;5;28menumerate\u001b[39m(Lkvec_unique[\u001b[38;5;124m'\u001b[39m\u001b[38;5;124mphrase\u001b[39m\u001b[38;5;124m'\u001b[39m])}\n\u001b[1;32m----> 2\u001b[0m \u001b[38;5;28;01mfor\u001b[39;00m i, clus \u001b[38;5;129;01min\u001b[39;00m \u001b[38;5;28menumerate\u001b[39m(\u001b[43mc_nuevo\u001b[49m):\n\u001b[0;32m      3\u001b[0m     Lkvec_unique\u001b[38;5;241m.\u001b[39mloc[Lkvec_unique[\u001b[38;5;124m'\u001b[39m\u001b[38;5;124mphrase\u001b[39m\u001b[38;5;124m'\u001b[39m]\u001b[38;5;241m.\u001b[39misin([Lkvec_unique[\u001b[38;5;124m'\u001b[39m\u001b[38;5;124mphrase\u001b[39m\u001b[38;5;124m'\u001b[39m][indice_frases[j]] \u001b[38;5;28;01mfor\u001b[39;00m j \u001b[38;5;129;01min\u001b[39;00m clus]), \u001b[38;5;124m'\u001b[39m\u001b[38;5;124mid_cluster\u001b[39m\u001b[38;5;124m'\u001b[39m] \u001b[38;5;241m=\u001b[39m \u001b[38;5;28mstr\u001b[39m(i\u001b[38;5;241m+\u001b[39m\u001b[38;5;241m1\u001b[39m)\n\u001b[0;32m      5\u001b[0m \u001b[38;5;66;03m#for i, clus in enumerate(c_nuevo):\u001b[39;00m\n\u001b[0;32m      6\u001b[0m \u001b[38;5;66;03m#    for j in clus:\u001b[39;00m\n\u001b[0;32m      7\u001b[0m \u001b[38;5;66;03m#        Lkvec_unique.loc[Lkvec_unique['phrase'] == phr[j], 'id_cluster'] = str(i+1)\u001b[39;00m\n",
      "\u001b[1;31mNameError\u001b[0m: name 'c_nuevo' is not defined"
     ]
    }
   ],
   "source": [
    "indice_frases = {i: j for j, i in enumerate(Lkvec_unique['phrase'])}\n",
    "for i, clus in enumerate(c_nuevo):\n",
    "    Lkvec_unique.loc[Lkvec_unique['phrase'].isin([Lkvec_unique['phrase'][indice_frases[j]] for j in clus]), 'id_cluster'] = str(i+1)\n",
    "\n",
    "#for i, clus in enumerate(c_nuevo):\n",
    "#    for j in clus:\n",
    "#        Lkvec_unique.loc[Lkvec_unique['phrase'] == phr[j], 'id_cluster'] = str(i+1)"
   ]
  },
  {
   "cell_type": "code",
   "execution_count": 6,
   "metadata": {},
   "outputs": [
    {
     "name": "stderr",
     "output_type": "stream",
     "text": [
      "C:\\Users\\Ale\\AppData\\Local\\Temp\\ipykernel_17884\\3740833514.py:5: SettingWithCopyWarning: \n",
      "A value is trying to be set on a copy of a slice from a DataFrame.\n",
      "Try using .loc[row_indexer,col_indexer] = value instead\n",
      "\n",
      "See the caveats in the documentation: https://pandas.pydata.org/pandas-docs/stable/user_guide/indexing.html#returning-a-view-versus-a-copy\n",
      "  Lkvec_unique['id_cluster_mnet'] = Lkvec_unique['phrase'].map(cluster_mapping_mnet)\n",
      "C:\\Users\\Ale\\AppData\\Local\\Temp\\ipykernel_17884\\3740833514.py:6: SettingWithCopyWarning: \n",
      "A value is trying to be set on a copy of a slice from a DataFrame.\n",
      "Try using .loc[row_indexer,col_indexer] = value instead\n",
      "\n",
      "See the caveats in the documentation: https://pandas.pydata.org/pandas-docs/stable/user_guide/indexing.html#returning-a-view-versus-a-copy\n",
      "  Lkvec_unique['id_cluster_mini'] = Lkvec_unique['phrase'].map(cluster_mapping_mini)\n"
     ]
    },
    {
     "data": {
      "text/plain": [
       "(310457, 9)"
      ]
     },
     "execution_count": 6,
     "metadata": {},
     "output_type": "execute_result"
    }
   ],
   "source": [
    "cluster_mapping_mnet = {phr[j]: str(i+1) for i, clus in enumerate(mpnet) for j in clus}\n",
    "cluster_mapping_mini = {phr[j]: str(i+1) for i, clus in enumerate(mini) for j in clus}\n",
    "\n",
    "\n",
    "Lkvec_unique['id_cluster_mnet'] = Lkvec_unique['phrase'].map(cluster_mapping_mnet)\n",
    "Lkvec_unique['id_cluster_mini'] = Lkvec_unique['phrase'].map(cluster_mapping_mini)\n",
    "\n",
    "Lkvec_unique\n",
    "np.shape(Lkvec_unique)"
   ]
  },
  {
   "cell_type": "code",
   "execution_count": 7,
   "metadata": {},
   "outputs": [],
   "source": [
    "import itertools\n",
    "\n",
    "def calculate_rand_index(partitionA, partitionB):\n",
    "    n = len(partitionA)\n",
    "    a = 0  # Pares concordantes en la misma partición en ambas agrupaciones\n",
    "    b = 0  # Pares concordantes en particiones diferentes en ambas agrupaciones\n",
    "\n",
    "    for i in range(n-1):\n",
    "        for j in range(i+1, n):\n",
    "            if (partitionA[i] == partitionA[j]) and (partitionB[i] == partitionB[j]):\n",
    "                a += 1\n",
    "            elif (partitionA[i] != partitionA[j]) and (partitionB[i] != partitionB[j]):\n",
    "                b += 1\n",
    "\n",
    "    combinations = list(itertools.combinations(range(n), 2))\n",
    "    num_combinations = len(combinations)\n",
    "\n",
    "    rand_index = (a + b) / num_combinations\n",
    "    return rand_index"
   ]
  },
  {
   "cell_type": "code",
   "execution_count": 8,
   "metadata": {},
   "outputs": [
    {
     "ename": "ValueError",
     "evalue": "Input contains NaN.",
     "output_type": "error",
     "traceback": [
      "\u001b[1;31m---------------------------------------------------------------------------\u001b[0m",
      "\u001b[1;31mValueError\u001b[0m                                Traceback (most recent call last)",
      "Cell \u001b[1;32mIn[8], line 7\u001b[0m\n\u001b[0;32m      3\u001b[0m Lkvec_ids \u001b[38;5;241m=\u001b[39m np\u001b[38;5;241m.\u001b[39marray(Lkvec_unique[\u001b[38;5;124m'\u001b[39m\u001b[38;5;124mid\u001b[39m\u001b[38;5;124m'\u001b[39m])\n\u001b[0;32m      4\u001b[0m Clusters_ids \u001b[38;5;241m=\u001b[39m np\u001b[38;5;241m.\u001b[39marray(Lkvec_unique[\u001b[38;5;124m'\u001b[39m\u001b[38;5;124mid_cluster\u001b[39m\u001b[38;5;124m'\u001b[39m])\n\u001b[1;32m----> 7\u001b[0m rand_index \u001b[38;5;241m=\u001b[39m \u001b[43madjusted_rand_score\u001b[49m\u001b[43m(\u001b[49m\u001b[43mLkvec_ids\u001b[49m\u001b[43m,\u001b[49m\u001b[43m \u001b[49m\u001b[43mClusters_ids\u001b[49m\u001b[43m)\u001b[49m\n\u001b[0;32m      9\u001b[0m \u001b[38;5;66;03m#calculate_rand_index(Lkvec_ids, Clusters_ids)\u001b[39;00m\n",
      "File \u001b[1;32m~\\AppData\\Local\\Packages\\PythonSoftwareFoundation.Python.3.10_qbz5n2kfra8p0\\LocalCache\\local-packages\\Python310\\site-packages\\sklearn\\metrics\\cluster\\_supervised.py:401\u001b[0m, in \u001b[0;36madjusted_rand_score\u001b[1;34m(labels_true, labels_pred)\u001b[0m\n\u001b[0;32m    310\u001b[0m \u001b[38;5;28;01mdef\u001b[39;00m \u001b[38;5;21madjusted_rand_score\u001b[39m(labels_true, labels_pred):\n\u001b[0;32m    311\u001b[0m \u001b[38;5;250m    \u001b[39m\u001b[38;5;124;03m\"\"\"Rand index adjusted for chance.\u001b[39;00m\n\u001b[0;32m    312\u001b[0m \n\u001b[0;32m    313\u001b[0m \u001b[38;5;124;03m    The Rand Index computes a similarity measure between two clusterings\u001b[39;00m\n\u001b[1;32m   (...)\u001b[0m\n\u001b[0;32m    399\u001b[0m \u001b[38;5;124;03m      -0.5\u001b[39;00m\n\u001b[0;32m    400\u001b[0m \u001b[38;5;124;03m    \"\"\"\u001b[39;00m\n\u001b[1;32m--> 401\u001b[0m     (tn, fp), (fn, tp) \u001b[38;5;241m=\u001b[39m \u001b[43mpair_confusion_matrix\u001b[49m\u001b[43m(\u001b[49m\u001b[43mlabels_true\u001b[49m\u001b[43m,\u001b[49m\u001b[43m \u001b[49m\u001b[43mlabels_pred\u001b[49m\u001b[43m)\u001b[49m\n\u001b[0;32m    402\u001b[0m     \u001b[38;5;66;03m# convert to Python integer types, to avoid overflow or underflow\u001b[39;00m\n\u001b[0;32m    403\u001b[0m     tn, fp, fn, tp \u001b[38;5;241m=\u001b[39m \u001b[38;5;28mint\u001b[39m(tn), \u001b[38;5;28mint\u001b[39m(fp), \u001b[38;5;28mint\u001b[39m(fn), \u001b[38;5;28mint\u001b[39m(tp)\n",
      "File \u001b[1;32m~\\AppData\\Local\\Packages\\PythonSoftwareFoundation.Python.3.10_qbz5n2kfra8p0\\LocalCache\\local-packages\\Python310\\site-packages\\sklearn\\metrics\\cluster\\_supervised.py:221\u001b[0m, in \u001b[0;36mpair_confusion_matrix\u001b[1;34m(labels_true, labels_pred)\u001b[0m\n\u001b[0;32m    161\u001b[0m \u001b[38;5;28;01mdef\u001b[39;00m \u001b[38;5;21mpair_confusion_matrix\u001b[39m(labels_true, labels_pred):\n\u001b[0;32m    162\u001b[0m \u001b[38;5;250m    \u001b[39m\u001b[38;5;124;03m\"\"\"Pair confusion matrix arising from two clusterings [1]_.\u001b[39;00m\n\u001b[0;32m    163\u001b[0m \n\u001b[0;32m    164\u001b[0m \u001b[38;5;124;03m    The pair confusion matrix :math:`C` computes a 2 by 2 similarity matrix\u001b[39;00m\n\u001b[1;32m   (...)\u001b[0m\n\u001b[0;32m    219\u001b[0m \u001b[38;5;124;03m    Note that the matrix is not symmetric.\u001b[39;00m\n\u001b[0;32m    220\u001b[0m \u001b[38;5;124;03m    \"\"\"\u001b[39;00m\n\u001b[1;32m--> 221\u001b[0m     labels_true, labels_pred \u001b[38;5;241m=\u001b[39m \u001b[43mcheck_clusterings\u001b[49m\u001b[43m(\u001b[49m\u001b[43mlabels_true\u001b[49m\u001b[43m,\u001b[49m\u001b[43m \u001b[49m\u001b[43mlabels_pred\u001b[49m\u001b[43m)\u001b[49m\n\u001b[0;32m    222\u001b[0m     n_samples \u001b[38;5;241m=\u001b[39m np\u001b[38;5;241m.\u001b[39mint64(labels_true\u001b[38;5;241m.\u001b[39mshape[\u001b[38;5;241m0\u001b[39m])\n\u001b[0;32m    224\u001b[0m     \u001b[38;5;66;03m# Computation using the contingency data\u001b[39;00m\n",
      "File \u001b[1;32m~\\AppData\\Local\\Packages\\PythonSoftwareFoundation.Python.3.10_qbz5n2kfra8p0\\LocalCache\\local-packages\\Python310\\site-packages\\sklearn\\metrics\\cluster\\_supervised.py:48\u001b[0m, in \u001b[0;36mcheck_clusterings\u001b[1;34m(labels_true, labels_pred)\u001b[0m\n\u001b[0;32m     31\u001b[0m \u001b[38;5;250m\u001b[39m\u001b[38;5;124;03m\"\"\"Check that the labels arrays are 1D and of same dimension.\u001b[39;00m\n\u001b[0;32m     32\u001b[0m \n\u001b[0;32m     33\u001b[0m \u001b[38;5;124;03mParameters\u001b[39;00m\n\u001b[1;32m   (...)\u001b[0m\n\u001b[0;32m     39\u001b[0m \u001b[38;5;124;03m    The predicted labels.\u001b[39;00m\n\u001b[0;32m     40\u001b[0m \u001b[38;5;124;03m\"\"\"\u001b[39;00m\n\u001b[0;32m     41\u001b[0m labels_true \u001b[38;5;241m=\u001b[39m check_array(\n\u001b[0;32m     42\u001b[0m     labels_true,\n\u001b[0;32m     43\u001b[0m     ensure_2d\u001b[38;5;241m=\u001b[39m\u001b[38;5;28;01mFalse\u001b[39;00m,\n\u001b[0;32m     44\u001b[0m     ensure_min_samples\u001b[38;5;241m=\u001b[39m\u001b[38;5;241m0\u001b[39m,\n\u001b[0;32m     45\u001b[0m     dtype\u001b[38;5;241m=\u001b[39m\u001b[38;5;28;01mNone\u001b[39;00m,\n\u001b[0;32m     46\u001b[0m )\n\u001b[1;32m---> 48\u001b[0m labels_pred \u001b[38;5;241m=\u001b[39m \u001b[43mcheck_array\u001b[49m\u001b[43m(\u001b[49m\n\u001b[0;32m     49\u001b[0m \u001b[43m    \u001b[49m\u001b[43mlabels_pred\u001b[49m\u001b[43m,\u001b[49m\n\u001b[0;32m     50\u001b[0m \u001b[43m    \u001b[49m\u001b[43mensure_2d\u001b[49m\u001b[38;5;241;43m=\u001b[39;49m\u001b[38;5;28;43;01mFalse\u001b[39;49;00m\u001b[43m,\u001b[49m\n\u001b[0;32m     51\u001b[0m \u001b[43m    \u001b[49m\u001b[43mensure_min_samples\u001b[49m\u001b[38;5;241;43m=\u001b[39;49m\u001b[38;5;241;43m0\u001b[39;49m\u001b[43m,\u001b[49m\n\u001b[0;32m     52\u001b[0m \u001b[43m    \u001b[49m\u001b[43mdtype\u001b[49m\u001b[38;5;241;43m=\u001b[39;49m\u001b[38;5;28;43;01mNone\u001b[39;49;00m\u001b[43m,\u001b[49m\n\u001b[0;32m     53\u001b[0m \u001b[43m\u001b[49m\u001b[43m)\u001b[49m\n\u001b[0;32m     55\u001b[0m type_label \u001b[38;5;241m=\u001b[39m type_of_target(labels_true)\n\u001b[0;32m     56\u001b[0m type_pred \u001b[38;5;241m=\u001b[39m type_of_target(labels_pred)\n",
      "File \u001b[1;32m~\\AppData\\Local\\Packages\\PythonSoftwareFoundation.Python.3.10_qbz5n2kfra8p0\\LocalCache\\local-packages\\Python310\\site-packages\\sklearn\\utils\\validation.py:921\u001b[0m, in \u001b[0;36mcheck_array\u001b[1;34m(array, accept_sparse, accept_large_sparse, dtype, order, copy, force_all_finite, ensure_2d, allow_nd, ensure_min_samples, ensure_min_features, estimator, input_name)\u001b[0m\n\u001b[0;32m    915\u001b[0m         \u001b[38;5;28;01mraise\u001b[39;00m \u001b[38;5;167;01mValueError\u001b[39;00m(\n\u001b[0;32m    916\u001b[0m             \u001b[38;5;124m\"\u001b[39m\u001b[38;5;124mFound array with dim \u001b[39m\u001b[38;5;132;01m%d\u001b[39;00m\u001b[38;5;124m. \u001b[39m\u001b[38;5;132;01m%s\u001b[39;00m\u001b[38;5;124m expected <= 2.\u001b[39m\u001b[38;5;124m\"\u001b[39m\n\u001b[0;32m    917\u001b[0m             \u001b[38;5;241m%\u001b[39m (array\u001b[38;5;241m.\u001b[39mndim, estimator_name)\n\u001b[0;32m    918\u001b[0m         )\n\u001b[0;32m    920\u001b[0m     \u001b[38;5;28;01mif\u001b[39;00m force_all_finite:\n\u001b[1;32m--> 921\u001b[0m         \u001b[43m_assert_all_finite\u001b[49m\u001b[43m(\u001b[49m\n\u001b[0;32m    922\u001b[0m \u001b[43m            \u001b[49m\u001b[43marray\u001b[49m\u001b[43m,\u001b[49m\n\u001b[0;32m    923\u001b[0m \u001b[43m            \u001b[49m\u001b[43minput_name\u001b[49m\u001b[38;5;241;43m=\u001b[39;49m\u001b[43minput_name\u001b[49m\u001b[43m,\u001b[49m\n\u001b[0;32m    924\u001b[0m \u001b[43m            \u001b[49m\u001b[43mestimator_name\u001b[49m\u001b[38;5;241;43m=\u001b[39;49m\u001b[43mestimator_name\u001b[49m\u001b[43m,\u001b[49m\n\u001b[0;32m    925\u001b[0m \u001b[43m            \u001b[49m\u001b[43mallow_nan\u001b[49m\u001b[38;5;241;43m=\u001b[39;49m\u001b[43mforce_all_finite\u001b[49m\u001b[43m \u001b[49m\u001b[38;5;241;43m==\u001b[39;49m\u001b[43m \u001b[49m\u001b[38;5;124;43m\"\u001b[39;49m\u001b[38;5;124;43mallow-nan\u001b[39;49m\u001b[38;5;124;43m\"\u001b[39;49m\u001b[43m,\u001b[49m\n\u001b[0;32m    926\u001b[0m \u001b[43m        \u001b[49m\u001b[43m)\u001b[49m\n\u001b[0;32m    928\u001b[0m \u001b[38;5;28;01mif\u001b[39;00m ensure_min_samples \u001b[38;5;241m>\u001b[39m \u001b[38;5;241m0\u001b[39m:\n\u001b[0;32m    929\u001b[0m     n_samples \u001b[38;5;241m=\u001b[39m _num_samples(array)\n",
      "File \u001b[1;32m~\\AppData\\Local\\Packages\\PythonSoftwareFoundation.Python.3.10_qbz5n2kfra8p0\\LocalCache\\local-packages\\Python310\\site-packages\\sklearn\\utils\\validation.py:161\u001b[0m, in \u001b[0;36m_assert_all_finite\u001b[1;34m(X, allow_nan, msg_dtype, estimator_name, input_name)\u001b[0m\n\u001b[0;32m    144\u001b[0m \u001b[38;5;28;01mif\u001b[39;00m estimator_name \u001b[38;5;129;01mand\u001b[39;00m input_name \u001b[38;5;241m==\u001b[39m \u001b[38;5;124m\"\u001b[39m\u001b[38;5;124mX\u001b[39m\u001b[38;5;124m\"\u001b[39m \u001b[38;5;129;01mand\u001b[39;00m has_nan_error:\n\u001b[0;32m    145\u001b[0m     \u001b[38;5;66;03m# Improve the error message on how to handle missing values in\u001b[39;00m\n\u001b[0;32m    146\u001b[0m     \u001b[38;5;66;03m# scikit-learn.\u001b[39;00m\n\u001b[0;32m    147\u001b[0m     msg_err \u001b[38;5;241m+\u001b[39m\u001b[38;5;241m=\u001b[39m (\n\u001b[0;32m    148\u001b[0m         \u001b[38;5;124mf\u001b[39m\u001b[38;5;124m\"\u001b[39m\u001b[38;5;130;01m\\n\u001b[39;00m\u001b[38;5;132;01m{\u001b[39;00mestimator_name\u001b[38;5;132;01m}\u001b[39;00m\u001b[38;5;124m does not accept missing values\u001b[39m\u001b[38;5;124m\"\u001b[39m\n\u001b[0;32m    149\u001b[0m         \u001b[38;5;124m\"\u001b[39m\u001b[38;5;124m encoded as NaN natively. For supervised learning, you might want\u001b[39m\u001b[38;5;124m\"\u001b[39m\n\u001b[1;32m   (...)\u001b[0m\n\u001b[0;32m    159\u001b[0m         \u001b[38;5;124m\"\u001b[39m\u001b[38;5;124m#estimators-that-handle-nan-values\u001b[39m\u001b[38;5;124m\"\u001b[39m\n\u001b[0;32m    160\u001b[0m     )\n\u001b[1;32m--> 161\u001b[0m \u001b[38;5;28;01mraise\u001b[39;00m \u001b[38;5;167;01mValueError\u001b[39;00m(msg_err)\n",
      "\u001b[1;31mValueError\u001b[0m: Input contains NaN."
     ]
    }
   ],
   "source": [
    "from sklearn.metrics import adjusted_rand_score\n",
    "\n",
    "Lkvec_ids = np.array(Lkvec_unique['id'])\n",
    "Clusters_ids = np.array(Lkvec_unique['id_cluster'])\n",
    "\n",
    "\n",
    "rand_index = adjusted_rand_score(Lkvec_ids, Clusters_ids)\n",
    "\n",
    "#calculate_rand_index(Lkvec_ids, Clusters_ids)"
   ]
  },
  {
   "cell_type": "code",
   "execution_count": 12,
   "metadata": {},
   "outputs": [
    {
     "name": "stdout",
     "output_type": "stream",
     "text": [
      "0.0\n",
      "0.0\n",
      "0.0\n",
      "0.0\n",
      "0.0\n",
      "0.0\n",
      "0.0\n",
      "0.0\n",
      "0.3136345889906039\n",
      "0.3136345889906039\n",
      "0.3136345889906039\n",
      "0.3136345889906039\n",
      "0.4043156514800319\n",
      "0.4043156514800319\n",
      "0.4043156514800319\n",
      "0.43985475570165466\n",
      "0.43985475570165466\n",
      "0.43985475570165466\n",
      "0.4553603274524332\n",
      "0.4553603274524332\n",
      "0.46421974291243023\n",
      "0.4833070287219009\n",
      "0.4833070287219009\n",
      "0.4817912547279326\n",
      "0.4843395840049617\n",
      "0.498166090605371\n",
      "0.4950382208111924\n",
      "0.4912765493715124\n",
      "0.4901819626121846\n",
      "0.4906000260394838\n",
      "0.5228844173966872\n",
      "0.5194309980288082\n",
      "0.5584206499812219\n",
      "0.5627490513478675\n",
      "0.5770173454010359\n",
      "0.5824055247780485\n",
      "0.6032613126030755\n",
      "0.6106395473454441\n",
      "0.6174291013811125\n",
      "0.6278135355054018\n",
      "0.6383013088615526\n",
      "0.6496800320777407\n",
      "0.6530434506856065\n",
      "0.6541887324793275\n",
      "0.6589861885687905\n",
      "0.6609008285003604\n",
      "0.6697513895124896\n",
      "0.6762332109929259\n",
      "0.6858982118542207\n",
      "0.6871355546172118\n",
      "0.6940787089828727\n",
      "0.700225982807962\n",
      "0.7065305283393112\n",
      "0.7108905083051815\n",
      "0.7167088929110016\n",
      "0.7224513717554113\n",
      "0.7259635561282868\n",
      "0.7309580745202187\n",
      "0.7371207473192355\n",
      "0.742840254781783\n",
      "0.7451225866575084\n",
      "0.7509107782125996\n",
      "0.7486769361962076\n",
      "0.7505234280359487\n",
      "0.7530263489196752\n",
      "0.748253579139793\n",
      "0.7429932340719748\n",
      "0.7414659907036754\n",
      "0.7390365639357017\n",
      "0.7332290365958003\n",
      "0.7297377994786772\n",
      "0.722601774587816\n",
      "0.7145724683634568\n",
      "0.7091452659335458\n",
      "0.7001722104794784\n",
      "0.6882308076764598\n",
      "0.6800951145191033\n",
      "0.6704523978303745\n",
      "0.6584618902736857\n",
      "0.6484792446956555\n",
      "0.6369531157822157\n",
      "0.6219638508491909\n",
      "0.611128070406812\n",
      "0.5989128784530972\n",
      "0.5836473506737704\n",
      "0.5681859255489576\n",
      "0.5520759213029711\n",
      "0.5349050431522302\n",
      "0.5171213090065081\n",
      "0.5065129488109499\n",
      "0.49479944526073405\n",
      "0.4813676972244045\n",
      "0.46700929703052213\n",
      "0.45110088896060524\n",
      "0.4335636662786071\n",
      "0.41469178076365293\n",
      "0.3951858167232688\n",
      "0.38177459263596847\n",
      "0.38177459263596847\n",
      "0.38177459263596847\n"
     ]
    },
    {
     "data": {
      "image/png": "[encoded data removed]",
      "text/plain": [
       "<Figure size 800x500 with 1 Axes>"
      ]
     },
     "metadata": {},
     "output_type": "display_data"
    }
   ],
   "source": [
    "Lkvec_unique\n",
    "from sklearn.metrics import adjusted_rand_score\n",
    "\n",
    "#clus_08_02 =  pk.load(open(pathGit+'clusters_threshold_08_02.pk', 'rb'))\n",
    "clus_08_02 =  pk.load(open(pathGit+'clusters_threshold_08_test.pk', 'rb'))\n",
    "\n",
    "cluster_mapping_08_02 = {phr[j]: str(i+1) for i, clus in enumerate(clus_08_02) for j in clus}\n",
    "Lkvec_unique['id_cluster_08_02'] = Lkvec_unique['phrase'].map(cluster_mapping_08_02)\n",
    "Lkvec_unique = Lkvec_unique.dropna(subset=['id_cluster_08_02'])\n",
    "header = np.logspace(np.log(1), int(np.log10(len(Lkvec_unique))), 100)\n",
    "plt.figure(figsize=(8,5))\n",
    "for value in header:\n",
    "    cluster_sizes = Lkvec_unique['id'].value_counts().sort_values(ascending=False)\n",
    "    top_100_clusters = cluster_sizes.head(int(value))\n",
    "    Lkvec_unique_100 = Lkvec_unique[Lkvec_unique['id'].isin(top_100_clusters.index)]\n",
    "    Lkvec_ids = np.array(Lkvec_unique_100['id'])\n",
    "    # Clusters_ids_mini = np.array(Lkvec_unique_100['id_cluster_mini'])\n",
    "    # Clusters_ids_mnet = np.array(Lkvec_unique_100['id_cluster_mnet'])\n",
    "    # plt.plot(value, adjusted_rand_score(Lkvec_ids, Clusters_ids_mini), 'ro', label = 'Clustering mini')\n",
    "    # plt.plot(value, adjusted_rand_score(Lkvec_ids, Clusters_ids_mnet), 'go', label = 'Clustering mpnet')\n",
    "    clusters_id_08 = np.array(Lkvec_unique_100['id_cluster_08_02'])\n",
    "    plt.plot(value, adjusted_rand_score(Lkvec_ids, clusters_id_08), '.', label = '.8', linewidth =  0.8, color = 'darkblue')\n",
    "    print(adjusted_rand_score(Lkvec_ids, clusters_id_08))\n",
    "#plt.legend(['mini', 'mpnet'], loc = 'lower right')\n",
    "#plt.legend(['mini .8'], loc = 'lower right')\n",
    "plt.xscale('log')\n",
    "plt.xlabel('Cantidad de archivos', fontsize = 13)\n",
    "plt.ylabel('Rand Index', fontsize = 13)\n",
    "plt.axvline(385, color = 'orangered', linestyle = 'dashed')\n",
    "plt.grid(alpha  = 0.7)\n",
    "#plt.savefig('d:/Facultad/Tesis/Escritura/rand_index_zoom_new.pdf')\n",
    "\n",
    "plt.show()\n"
   ]
  },
  {
   "cell_type": "code",
   "execution_count": 13,
   "metadata": {},
   "outputs": [
    {
     "data": {
      "text/plain": [
       "array([1.00000000e+00, 2.97635144e+00, 8.85866790e+00, 2.63665090e+01,\n",
       "       7.84759970e+01, 2.33572147e+02, 6.95192796e+02, 2.06913808e+03,\n",
       "       6.15848211e+03, 1.83298071e+04, 5.45559478e+04, 1.62377674e+05,\n",
       "       4.83293024e+05, 1.43844989e+06, 4.28133240e+06, 1.27427499e+07,\n",
       "       3.79269019e+07, 1.12883789e+08, 3.35981829e+08, 1.00000000e+09])"
      ]
     },
     "execution_count": 13,
     "metadata": {},
     "output_type": "execute_result"
    }
   ],
   "source": [
    "header = np.logspace(np.log(1), int(np.log(len(Lkvec_unique))), 20)\n",
    "header"
   ]
  },
  {
   "cell_type": "code",
   "execution_count": 14,
   "metadata": {},
   "outputs": [
    {
     "data": {
      "image/png": "[encoded data removed]",
      "text/plain": [
       "<Figure size 640x480 with 1 Axes>"
      ]
     },
     "metadata": {},
     "output_type": "display_data"
    }
   ],
   "source": [
    "from sklearn.metrics import adjusted_rand_score\n",
    "\n",
    "Lkvec_ids = np.array(Lkvec_unique_100['id'])\n",
    "Clusters_ids_mini = np.array(Lkvec_unique_100['id_cluster_mini'])\n",
    "Clusters_ids_mnet = np.array(Lkvec_unique_100['id_cluster_mnet'])\n",
    "xs = np.arange(1,103)\n",
    "\n",
    "plt.plot(xs[0], adjusted_rand_score(Lkvec_ids, Clusters_ids_mini), 'ro', label = 'Clustering mini')\n",
    "plt.plot(xs[1], adjusted_rand_score(Lkvec_ids, Clusters_ids_mnet), 'go', label = 'Clustering mpnet')\n",
    "\n",
    "rand_indexs = []\n",
    "for i in range(100):\n",
    "    np.random.shuffle(Lkvec_ids)\n",
    "    ri = adjusted_rand_score(Lkvec_ids, Clusters_ids_mini)\n",
    "    rand_indexs.append( ri)\n",
    "    plt.plot(xs[i+1],ri, 'bo')\n",
    "plt.legend()\n",
    "plt.show()"
   ]
  },
  {
   "cell_type": "code",
   "execution_count": 15,
   "metadata": {},
   "outputs": [],
   "source": [
    "# def mapping(df, file, name):\n",
    "#     n = 'id_cluster_'+str(name)\n",
    "#     df[n] = np.nan\n",
    "#     cluster_mapping = {phr[j]: str(i+1) for i, clus in enumerate(file) for j in clus}\n",
    "#     df[n] = df['phrase'].map(cluster_mapping)\n",
    "#     return df\n",
    "mpnet = pk.load(open(pathGit+'clusters_threshold_75_22.pk', 'rb'))\n",
    "mini = pk.load(open(pathGit+'clusters_threshold_75_02.pk', 'rb'))\n",
    "clus_05 =  pk.load(open(pathGit+'clusters_threshold_5.pickle', 'rb'))\n",
    "clus_06 =  pk.load(open(pathGit+'clusters_threshold_6.pickle', 'rb'))\n",
    "clus_75 =  pk.load(open(pathGit+'clusters_threshold_75.pickle', 'rb'))\n",
    "clus_08 =  pk.load(open(pathGit+'clusters_threshold_8.pickle', 'rb'))\n",
    "clus_08_02 =  pk.load(open(pathGit+'clusters_threshold_08_02.pk', 'rb'))\n",
    "clus_085 =  pk.load(open(pathGit+'clusters_threshold_85_02.pk', 'rb'))\n",
    "clus_09 =  pk.load(open(pathGit+'clusters_threshold_9_02.pk', 'rb'))\n",
    "\n",
    "\n",
    "cluster_mapping_mnet = {phr[j]: str(i+1) for i, clus in enumerate(mpnet) for j in clus}\n",
    "cluster_mapping_mini = {phr[j]: str(i+1) for i, clus in enumerate(mini) for j in clus}\n",
    "cluster_mapping_05 = {phr[j]: str(i+1) for i, clus in enumerate(clus_05) for j in clus}\n",
    "cluster_mapping_06 = {phr[j]: str(i+1) for i, clus in enumerate(clus_06) for j in clus}\n",
    "cluster_mapping_075 = {phr[j]: str(i+1) for i, clus in enumerate(clus_75) for j in clus}\n",
    "cluster_mapping_08 = {phr[j]: str(i+1) for i, clus in enumerate(clus_08) for j in clus}\n",
    "cluster_mapping_08_02 = {phr[j]: str(i+1) for i, clus in enumerate(clus_08_02) for j in clus}\n",
    "cluster_mapping_085 = {phr[j]: str(i+1) for i, clus in enumerate(clus_085) for j in clus}\n",
    "cluster_mapping_09 = {phr[j]: str(i+1) for i, clus in enumerate(clus_09) for j in clus}\n",
    "\n",
    "\n",
    "#Lkvec_unique['id_cluster_mnet'] = Lkvec_unique['phrase'].map(cluster_mapping_mnet)\n",
    "Lkvec_unique['id_cluster_mini'] = Lkvec_unique['phrase'].map(cluster_mapping_mini)\n",
    "Lkvec_unique['id_cluster_05'] = Lkvec_unique['phrase'].map(cluster_mapping_05)\n",
    "Lkvec_unique['id_cluster_06'] = Lkvec_unique['phrase'].map(cluster_mapping_06)\n",
    "Lkvec_unique['id_cluster_075'] = Lkvec_unique['phrase'].map(cluster_mapping_075)\n",
    "Lkvec_unique['id_cluster_08'] = Lkvec_unique['phrase'].map(cluster_mapping_08)\n",
    "Lkvec_unique['id_cluster_08_02'] = Lkvec_unique['phrase'].map(cluster_mapping_08_02)\n",
    "Lkvec_unique['id_cluster_085'] = Lkvec_unique['phrase'].map(cluster_mapping_085)\n",
    "Lkvec_unique['id_cluster_09'] = Lkvec_unique['phrase'].map(cluster_mapping_09)"
   ]
  },
  {
   "cell_type": "code",
   "execution_count": 18,
   "metadata": {},
   "outputs": [
    {
     "name": "stdout",
     "output_type": "stream",
     "text": [
      "0.04030388081757147\n",
      "0.13475593199485775\n",
      "0.3594650372344054\n",
      "0.38351006730639037\n",
      "0.4297949502600067\n",
      "0.3881502310944011\n"
     ]
    },
    {
     "data": {
      "image/png": "[encoded data removed]",
      "text/plain": [
       "<Figure size 800x500 with 1 Axes>"
      ]
     },
     "metadata": {},
     "output_type": "display_data"
    }
   ],
   "source": [
    "from sklearn.metrics import adjusted_rand_score\n",
    "#Lkvec_unique.head(10)\n",
    "#Lkvec_ids = np.array(Lkvec_unique_100['id'])\n",
    "\n",
    "colu  = ['id_cluster_05','id_cluster_06', 'id_cluster_mnet', 'id_cluster_mini', 'id_cluster_075', 'id_cluster_08', 'id_cluster_08_02', 'id_cluster_085', 'id_cluster_09']\n",
    "lab  = ['thr = 0.5','thr = 0.6', 'id_cluster_mnet', 'id_cluster_mini', 'thr = 0.75', 'thr = 0.8', 'thr = 0.8_2', 'thr = 0.85', 'thr = 0.9']\n",
    "\n",
    "colu  = ['id_cluster_05','id_cluster_06',  'id_cluster_075',  'id_cluster_08_02', 'id_cluster_085', 'id_cluster_09']\n",
    "lab  = ['thr = 0.5','thr = 0.6',  'thr = 0.75', 'thr = 0.8', 'thr = 0.85', 'thr = 0.9']\n",
    "value = [0.5, 0.6, 0.75, 0.8, 0.85, 0.9]\n",
    "\n",
    "plt.figure(figsize=(8,5))\n",
    "for i,col in enumerate(colu):\n",
    "    df = Lkvec_unique.copy()\n",
    "    df = df.dropna(subset=[col])\n",
    "    Lkvec_ids = np.array(df['id'])\n",
    "    clus = np.array(df[col])\n",
    "    #plt.plot(i+1, adjusted_rand_score(Lkvec_ids, clus), 'o', label = lab[i], markersize = 8)\n",
    "    plt.plot(value[i], adjusted_rand_score(Lkvec_ids, clus), 'o', label = lab[i], markersize = 8, color = 'darkblue')\n",
    "    print(adjusted_rand_score(Lkvec_ids, clus))\n",
    "#plt.legend()\n",
    "plt.ylabel('Rand Index', fontsize = 13)\n",
    "plt.xlabel('Valor del umbral', fontsize = 13)\n",
    "plt.grid(alpha = 0.7)\n",
    "plt.savefig('d:/Facultad/Tesis/Escritura/rand_index_nuevo.pdf')\n",
    "plt.show()\n"
   ]
  },
  {
   "cell_type": "code",
   "execution_count": 26,
   "metadata": {},
   "outputs": [
    {
     "name": "stdout",
     "output_type": "stream",
     "text": [
      "id_cluster_mnet\n",
      "id_cluster_mini\n",
      "id_clus_05\n",
      "id_clus_06\n",
      "id_clus_08\n"
     ]
    }
   ],
   "source": [
    "for i,col in enumerate(colu):\n",
    "    print(col)"
   ]
  },
  {
   "cell_type": "code",
   "execution_count": 29,
   "metadata": {},
   "outputs": [
    {
     "data": {
      "text/plain": [
       "0.2408770020835203"
      ]
     },
     "execution_count": 29,
     "metadata": {},
     "output_type": "execute_result"
    }
   ],
   "source": [
    "Lkvec_ids = np.array(Lkvec_unique['id'])\n",
    "\n",
    "adjusted_rand_score(Lkvec_ids, Clusters_ids_mnet)"
   ]
  },
  {
   "cell_type": "code",
   "execution_count": 94,
   "metadata": {},
   "outputs": [
    {
     "data": {
      "text/plain": [
       "(array([100.,   0.,   0.,   0.,   0.,   0.,   0.,   0.,   0.,   1.]),\n",
       " array([-1.15585605e-05,  2.40772975e-02,  4.81661536e-02,  7.22550096e-02,\n",
       "         9.63438657e-02,  1.20432722e-01,  1.44521578e-01,  1.68610434e-01,\n",
       "         1.92699290e-01,  2.16788146e-01,  2.40877002e-01]),\n",
       " <BarContainer object of 10 artists>)"
      ]
     },
     "execution_count": 94,
     "metadata": {},
     "output_type": "execute_result"
    },
    {
     "data": {
      "image/png": "[encoded data removed]",
      "text/plain": [
       "<Figure size 640x480 with 1 Axes>"
      ]
     },
     "metadata": {},
     "output_type": "display_data"
    }
   ],
   "source": [
    "plt.hist(rand_indexs)"
   ]
  }
 ],
 "metadata": {
  "kernelspec": {
   "display_name": "envT",
   "language": "python",
   "name": "python3"
  },
  "language_info": {
   "codemirror_mode": {
    "name": "ipython",
    "version": 3
   },
   "file_extension": ".py",
   "mimetype": "text/x-python",
   "name": "python",
   "nbconvert_exporter": "python",
   "pygments_lexer": "ipython3",
   "version": "3.10.11"
  },
  "orig_nbformat": 4
 },
 "nbformat": 4,
 "nbformat_minor": 2
}
