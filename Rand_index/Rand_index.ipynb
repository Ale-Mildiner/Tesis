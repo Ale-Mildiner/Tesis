{
 "cells": [
  {
   "cell_type": "code",
   "execution_count": 4,
   "metadata": {},
   "outputs": [],
   "source": [
    "import numpy as np\n",
    "import matplotlib.pyplot as plt\n",
    "import pandas as pd\n",
    "import pickle as pk\n",
    "\n",
    "pathGit = \"c:/Git_proyects/Tesis/Embbedings_Lkvec/\"\n",
    "path = \"c:/Facultad/Tesis/\"\n",
    "Lkvec = pd.read_csv(path+'Lkvec_all_in.csv')"
   ]
  },
  {
   "cell_type": "code",
   "execution_count": 5,
   "metadata": {},
   "outputs": [],
   "source": [
    "Lkvec_unique = Lkvec.drop_duplicates(subset=['phrase'])\n"
   ]
  },
  {
   "cell_type": "code",
   "execution_count": 40,
   "metadata": {},
   "outputs": [
    {
     "name": "stderr",
     "output_type": "stream",
     "text": [
      "C:\\Users\\Asus\\AppData\\Local\\Temp\\ipykernel_18780\\4061795512.py:5: SettingWithCopyWarning: \n",
      "A value is trying to be set on a copy of a slice from a DataFrame.\n",
      "Try using .loc[row_indexer,col_indexer] = value instead\n",
      "\n",
      "See the caveats in the documentation: https://pandas.pydata.org/pandas-docs/stable/user_guide/indexing.html#returning-a-view-versus-a-copy\n",
      "  Lkvec_unique['id_cluster'] = np.nan\n"
     ]
    }
   ],
   "source": [
    "#path = \"c:/Git-Proyects/Tesis/\"\n",
    "\n",
    "c_nuevo = pk.load(open(pathGit+'clusters_threshold_75_22.pk', 'rb'))\n",
    "phr = pk.load(open(path+'phrases_to_emb.pickle', 'rb'))\n",
    "Lkvec_unique['id_cluster'] = np.nan"
   ]
  },
  {
   "cell_type": "code",
   "execution_count": 41,
   "metadata": {},
   "outputs": [
    {
     "ename": "KeyError",
     "evalue": "35",
     "output_type": "error",
     "traceback": [
      "\u001b[1;31m---------------------------------------------------------------------------\u001b[0m",
      "\u001b[1;31mKeyError\u001b[0m                                  Traceback (most recent call last)",
      "Cell \u001b[1;32mIn[41], line 3\u001b[0m\n\u001b[0;32m      1\u001b[0m indice_frases \u001b[39m=\u001b[39m {i: j \u001b[39mfor\u001b[39;00m j, i \u001b[39min\u001b[39;00m \u001b[39menumerate\u001b[39m(Lkvec_unique[\u001b[39m'\u001b[39m\u001b[39mphrase\u001b[39m\u001b[39m'\u001b[39m])}\n\u001b[0;32m      2\u001b[0m \u001b[39mfor\u001b[39;00m i, clus \u001b[39min\u001b[39;00m \u001b[39menumerate\u001b[39m(c_nuevo):\n\u001b[1;32m----> 3\u001b[0m     Lkvec_unique\u001b[39m.\u001b[39mloc[Lkvec_unique[\u001b[39m'\u001b[39m\u001b[39mphrase\u001b[39m\u001b[39m'\u001b[39m]\u001b[39m.\u001b[39misin([Lkvec_unique[\u001b[39m'\u001b[39m\u001b[39mphrase\u001b[39m\u001b[39m'\u001b[39m][indice_frases[j]] \u001b[39mfor\u001b[39;00m j \u001b[39min\u001b[39;00m clus]), \u001b[39m'\u001b[39m\u001b[39mid_cluster\u001b[39m\u001b[39m'\u001b[39m] \u001b[39m=\u001b[39m \u001b[39mstr\u001b[39m(i\u001b[39m+\u001b[39m\u001b[39m1\u001b[39m)\n\u001b[0;32m      5\u001b[0m \u001b[39m#for i, clus in enumerate(c_nuevo):\u001b[39;00m\n\u001b[0;32m      6\u001b[0m \u001b[39m#    for j in clus:\u001b[39;00m\n\u001b[0;32m      7\u001b[0m \u001b[39m#        Lkvec_unique.loc[Lkvec_unique['phrase'] == phr[j], 'id_cluster'] = str(i+1)\u001b[39;00m\n",
      "Cell \u001b[1;32mIn[41], line 3\u001b[0m, in \u001b[0;36m<listcomp>\u001b[1;34m(.0)\u001b[0m\n\u001b[0;32m      1\u001b[0m indice_frases \u001b[39m=\u001b[39m {i: j \u001b[39mfor\u001b[39;00m j, i \u001b[39min\u001b[39;00m \u001b[39menumerate\u001b[39m(Lkvec_unique[\u001b[39m'\u001b[39m\u001b[39mphrase\u001b[39m\u001b[39m'\u001b[39m])}\n\u001b[0;32m      2\u001b[0m \u001b[39mfor\u001b[39;00m i, clus \u001b[39min\u001b[39;00m \u001b[39menumerate\u001b[39m(c_nuevo):\n\u001b[1;32m----> 3\u001b[0m     Lkvec_unique\u001b[39m.\u001b[39mloc[Lkvec_unique[\u001b[39m'\u001b[39m\u001b[39mphrase\u001b[39m\u001b[39m'\u001b[39m]\u001b[39m.\u001b[39misin([Lkvec_unique[\u001b[39m'\u001b[39m\u001b[39mphrase\u001b[39m\u001b[39m'\u001b[39m][indice_frases[j]] \u001b[39mfor\u001b[39;00m j \u001b[39min\u001b[39;00m clus]), \u001b[39m'\u001b[39m\u001b[39mid_cluster\u001b[39m\u001b[39m'\u001b[39m] \u001b[39m=\u001b[39m \u001b[39mstr\u001b[39m(i\u001b[39m+\u001b[39m\u001b[39m1\u001b[39m)\n\u001b[0;32m      5\u001b[0m \u001b[39m#for i, clus in enumerate(c_nuevo):\u001b[39;00m\n\u001b[0;32m      6\u001b[0m \u001b[39m#    for j in clus:\u001b[39;00m\n\u001b[0;32m      7\u001b[0m \u001b[39m#        Lkvec_unique.loc[Lkvec_unique['phrase'] == phr[j], 'id_cluster'] = str(i+1)\u001b[39;00m\n",
      "\u001b[1;31mKeyError\u001b[0m: 35"
     ]
    }
   ],
   "source": [
    "indice_frases = {i: j for j, i in enumerate(Lkvec_unique['phrase'])}\n",
    "for i, clus in enumerate(c_nuevo):\n",
    "    Lkvec_unique.loc[Lkvec_unique['phrase'].isin([Lkvec_unique['phrase'][indice_frases[j]] for j in clus]), 'id_cluster'] = str(i+1)\n",
    "\n",
    "#for i, clus in enumerate(c_nuevo):\n",
    "#    for j in clus:\n",
    "#        Lkvec_unique.loc[Lkvec_unique['phrase'] == phr[j], 'id_cluster'] = str(i+1)"
   ]
  },
  {
   "cell_type": "code",
   "execution_count": 63,
   "metadata": {},
   "outputs": [
    {
     "name": "stderr",
     "output_type": "stream",
     "text": [
      "C:\\Users\\Asus\\AppData\\Local\\Temp\\ipykernel_18780\\1356513234.py:3: SettingWithCopyWarning: \n",
      "A value is trying to be set on a copy of a slice from a DataFrame.\n",
      "Try using .loc[row_indexer,col_indexer] = value instead\n",
      "\n",
      "See the caveats in the documentation: https://pandas.pydata.org/pandas-docs/stable/user_guide/indexing.html#returning-a-view-versus-a-copy\n",
      "  Lkvec_unique['id_cluster'] = Lkvec_unique['phrase'].map(cluster_mapping)\n"
     ]
    },
    {
     "data": {
      "text/html": [
       "<div>\n",
       "<style scoped>\n",
       "    .dataframe tbody tr th:only-of-type {\n",
       "        vertical-align: middle;\n",
       "    }\n",
       "\n",
       "    .dataframe tbody tr th {\n",
       "        vertical-align: top;\n",
       "    }\n",
       "\n",
       "    .dataframe thead th {\n",
       "        text-align: right;\n",
       "    }\n",
       "</style>\n",
       "<table border=\"1\" class=\"dataframe\">\n",
       "  <thead>\n",
       "    <tr style=\"text-align: right;\">\n",
       "      <th></th>\n",
       "      <th>time</th>\n",
       "      <th>frequency</th>\n",
       "      <th>media</th>\n",
       "      <th>phrase</th>\n",
       "      <th>root</th>\n",
       "      <th>id</th>\n",
       "      <th>id_cluster</th>\n",
       "      <th>indice_frases</th>\n",
       "      <th>valor</th>\n",
       "    </tr>\n",
       "  </thead>\n",
       "  <tbody>\n",
       "    <tr>\n",
       "      <th>0</th>\n",
       "      <td>2008-08-18 18:31:45</td>\n",
       "      <td>3</td>\n",
       "      <td>B</td>\n",
       "      <td>kind of creepy</td>\n",
       "      <td>it's kind of creepy to think that that many pe...</td>\n",
       "      <td>1785689</td>\n",
       "      <td>66394</td>\n",
       "      <td>0</td>\n",
       "      <td>66394</td>\n",
       "    </tr>\n",
       "    <tr>\n",
       "      <th>11</th>\n",
       "      <td>2008-09-25 22:03:51</td>\n",
       "      <td>1</td>\n",
       "      <td>M</td>\n",
       "      <td>it's kind of creepy</td>\n",
       "      <td>it's kind of creepy to think that that many pe...</td>\n",
       "      <td>1785689</td>\n",
       "      <td>587</td>\n",
       "      <td>1</td>\n",
       "      <td>587</td>\n",
       "    </tr>\n",
       "    <tr>\n",
       "      <th>78</th>\n",
       "      <td>2008-11-10 18:50:24</td>\n",
       "      <td>1</td>\n",
       "      <td>B</td>\n",
       "      <td>it's kind of creepy to think that that many pe...</td>\n",
       "      <td>it's kind of creepy to think that that many pe...</td>\n",
       "      <td>1785689</td>\n",
       "      <td>124169</td>\n",
       "      <td>2</td>\n",
       "      <td>124169</td>\n",
       "    </tr>\n",
       "    <tr>\n",
       "      <th>90</th>\n",
       "      <td>2008-09-24 04:43:54</td>\n",
       "      <td>1</td>\n",
       "      <td>M</td>\n",
       "      <td>we support all research that would further the...</td>\n",
       "      <td>we support all research that would further the...</td>\n",
       "      <td>1117502</td>\n",
       "      <td>59490</td>\n",
       "      <td>3</td>\n",
       "      <td>59490</td>\n",
       "    </tr>\n",
       "    <tr>\n",
       "      <th>161</th>\n",
       "      <td>2008-09-24 17:14:33</td>\n",
       "      <td>1</td>\n",
       "      <td>M</td>\n",
       "      <td>we support all research that would further the...</td>\n",
       "      <td>we support all research that would further the...</td>\n",
       "      <td>1117502</td>\n",
       "      <td>59490</td>\n",
       "      <td>4</td>\n",
       "      <td>59490</td>\n",
       "    </tr>\n",
       "    <tr>\n",
       "      <th>...</th>\n",
       "      <td>...</td>\n",
       "      <td>...</td>\n",
       "      <td>...</td>\n",
       "      <td>...</td>\n",
       "      <td>...</td>\n",
       "      <td>...</td>\n",
       "      <td>...</td>\n",
       "      <td>...</td>\n",
       "      <td>...</td>\n",
       "    </tr>\n",
       "    <tr>\n",
       "      <th>7665043</th>\n",
       "      <td>2008-12-15 21:51:32</td>\n",
       "      <td>1</td>\n",
       "      <td>M</td>\n",
       "      <td>the current cholera epidemic is only the most ...</td>\n",
       "      <td>the current cholera epidemic is only the most ...</td>\n",
       "      <td>2222921</td>\n",
       "      <td>37251</td>\n",
       "      <td>310452</td>\n",
       "      <td>37251</td>\n",
       "    </tr>\n",
       "    <tr>\n",
       "      <th>7665076</th>\n",
       "      <td>2008-12-15 23:37:35</td>\n",
       "      <td>1</td>\n",
       "      <td>M</td>\n",
       "      <td>the current cholera epidemic is only the most ...</td>\n",
       "      <td>the current cholera epidemic is only the most ...</td>\n",
       "      <td>2222921</td>\n",
       "      <td>37251</td>\n",
       "      <td>310453</td>\n",
       "      <td>37251</td>\n",
       "    </tr>\n",
       "    <tr>\n",
       "      <th>7665095</th>\n",
       "      <td>2008-09-05 17:08:04</td>\n",
       "      <td>1</td>\n",
       "      <td>B</td>\n",
       "      <td>and then click</td>\n",
       "      <td>option and then click on the</td>\n",
       "      <td>1686328</td>\n",
       "      <td>12987</td>\n",
       "      <td>310454</td>\n",
       "      <td>12987</td>\n",
       "    </tr>\n",
       "    <tr>\n",
       "      <th>7665100</th>\n",
       "      <td>2008-11-02 21:35:41</td>\n",
       "      <td>2</td>\n",
       "      <td>B</td>\n",
       "      <td>and then click on the</td>\n",
       "      <td>option and then click on the</td>\n",
       "      <td>1686328</td>\n",
       "      <td>12987</td>\n",
       "      <td>310455</td>\n",
       "      <td>12987</td>\n",
       "    </tr>\n",
       "    <tr>\n",
       "      <th>7665105</th>\n",
       "      <td>2008-11-02 21:35:41</td>\n",
       "      <td>2</td>\n",
       "      <td>B</td>\n",
       "      <td>option and then click on the</td>\n",
       "      <td>option and then click on the</td>\n",
       "      <td>1686328</td>\n",
       "      <td>128606</td>\n",
       "      <td>310456</td>\n",
       "      <td>128606</td>\n",
       "    </tr>\n",
       "  </tbody>\n",
       "</table>\n",
       "<p>310457 rows × 9 columns</p>\n",
       "</div>"
      ],
      "text/plain": [
       "                        time  frequency media   \n",
       "0        2008-08-18 18:31:45          3     B  \\\n",
       "11       2008-09-25 22:03:51          1     M   \n",
       "78       2008-11-10 18:50:24          1     B   \n",
       "90       2008-09-24 04:43:54          1     M   \n",
       "161      2008-09-24 17:14:33          1     M   \n",
       "...                      ...        ...   ...   \n",
       "7665043  2008-12-15 21:51:32          1     M   \n",
       "7665076  2008-12-15 23:37:35          1     M   \n",
       "7665095  2008-09-05 17:08:04          1     B   \n",
       "7665100  2008-11-02 21:35:41          2     B   \n",
       "7665105  2008-11-02 21:35:41          2     B   \n",
       "\n",
       "                                                    phrase   \n",
       "0                                           kind of creepy  \\\n",
       "11                                     it's kind of creepy   \n",
       "78       it's kind of creepy to think that that many pe...   \n",
       "90       we support all research that would further the...   \n",
       "161      we support all research that would further the...   \n",
       "...                                                    ...   \n",
       "7665043  the current cholera epidemic is only the most ...   \n",
       "7665076  the current cholera epidemic is only the most ...   \n",
       "7665095                                     and then click   \n",
       "7665100                              and then click on the   \n",
       "7665105                       option and then click on the   \n",
       "\n",
       "                                                      root       id   \n",
       "0        it's kind of creepy to think that that many pe...  1785689  \\\n",
       "11       it's kind of creepy to think that that many pe...  1785689   \n",
       "78       it's kind of creepy to think that that many pe...  1785689   \n",
       "90       we support all research that would further the...  1117502   \n",
       "161      we support all research that would further the...  1117502   \n",
       "...                                                    ...      ...   \n",
       "7665043  the current cholera epidemic is only the most ...  2222921   \n",
       "7665076  the current cholera epidemic is only the most ...  2222921   \n",
       "7665095                       option and then click on the  1686328   \n",
       "7665100                       option and then click on the  1686328   \n",
       "7665105                       option and then click on the  1686328   \n",
       "\n",
       "        id_cluster  indice_frases   valor  \n",
       "0            66394              0   66394  \n",
       "11             587              1     587  \n",
       "78          124169              2  124169  \n",
       "90           59490              3   59490  \n",
       "161          59490              4   59490  \n",
       "...            ...            ...     ...  \n",
       "7665043      37251         310452   37251  \n",
       "7665076      37251         310453   37251  \n",
       "7665095      12987         310454   12987  \n",
       "7665100      12987         310455   12987  \n",
       "7665105     128606         310456  128606  \n",
       "\n",
       "[310457 rows x 9 columns]"
      ]
     },
     "execution_count": 63,
     "metadata": {},
     "output_type": "execute_result"
    }
   ],
   "source": [
    "cluster_mapping = {phr[j]: str(i+1) for i, clus in enumerate(c_nuevo) for j in clus}\n",
    "cluster_mapping\n",
    "Lkvec_unique['id_cluster'] = Lkvec_unique['phrase'].map(cluster_mapping)\n",
    "Lkvec_unique"
   ]
  },
  {
   "cell_type": "code",
   "execution_count": 53,
   "metadata": {},
   "outputs": [],
   "source": [
    "import itertools\n",
    "\n",
    "def calculate_rand_index(partitionA, partitionB):\n",
    "    n = len(partitionA)\n",
    "    a = 0  # Pares concordantes en la misma partición en ambas agrupaciones\n",
    "    b = 0  # Pares concordantes en particiones diferentes en ambas agrupaciones\n",
    "\n",
    "    for i in range(n-1):\n",
    "        for j in range(i+1, n):\n",
    "            if (partitionA[i] == partitionA[j]) and (partitionB[i] == partitionB[j]):\n",
    "                a += 1\n",
    "            elif (partitionA[i] != partitionA[j]) and (partitionB[i] != partitionB[j]):\n",
    "                b += 1\n",
    "\n",
    "    combinations = list(itertools.combinations(range(n), 2))\n",
    "    num_combinations = len(combinations)\n",
    "\n",
    "    rand_index = (a + b) / num_combinations\n",
    "    return rand_index"
   ]
  },
  {
   "cell_type": "code",
   "execution_count": 92,
   "metadata": {},
   "outputs": [],
   "source": [
    "from sklearn.metrics import adjusted_rand_score\n",
    "\n",
    "Lkvec_ids = np.array(Lkvec_unique['id'])\n",
    "Clusters_ids = np.array(Lkvec_unique['id_cluster'])\n",
    "\n",
    "\n",
    "rand_index = adjusted_rand_score(Lkvec_ids, Clusters_ids)\n",
    "\n",
    "#calculate_rand_index(Lkvec_ids, Clusters_ids)"
   ]
  },
  {
   "cell_type": "code",
   "execution_count": 96,
   "metadata": {},
   "outputs": [
    {
     "data": {
      "image/png": "[encoded data removed]",
      "text/plain": [
       "<Figure size 640x480 with 1 Axes>"
      ]
     },
     "metadata": {},
     "output_type": "display_data"
    }
   ],
   "source": [
    "Lkvec_ids = np.array(Lkvec_unique['id'])\n",
    "Clusters_ids = np.array(Lkvec_unique['id_cluster'])\n",
    "rand_indexs = [adjusted_rand_score(Lkvec_ids, Clusters_ids)]\n",
    "xs = np.arange(1,102)\n",
    "plt.plot(xs[0], rand_indexs, 'ro', label = 'Clustring')\n",
    "for i in range(100):\n",
    "    np.random.shuffle(Lkvec_ids)\n",
    "    ri = adjusted_rand_score(Lkvec_ids, Clusters_ids)\n",
    "    rand_indexs.append( ri)\n",
    "    plt.plot(xs[i+1],ri, 'bo', label = 'Random Lkvec')\n",
    "plt.show()"
   ]
  },
  {
   "cell_type": "code",
   "execution_count": null,
   "metadata": {},
   "outputs": [],
   "source": []
  },
  {
   "cell_type": "code",
   "execution_count": 94,
   "metadata": {},
   "outputs": [
    {
     "data": {
      "text/plain": [
       "(array([100.,   0.,   0.,   0.,   0.,   0.,   0.,   0.,   0.,   1.]),\n",
       " array([-1.15585605e-05,  2.40772975e-02,  4.81661536e-02,  7.22550096e-02,\n",
       "         9.63438657e-02,  1.20432722e-01,  1.44521578e-01,  1.68610434e-01,\n",
       "         1.92699290e-01,  2.16788146e-01,  2.40877002e-01]),\n",
       " <BarContainer object of 10 artists>)"
      ]
     },
     "execution_count": 94,
     "metadata": {},
     "output_type": "execute_result"
    },
    {
     "data": {
      "image/png": "[encoded data removed]",
      "text/plain": [
       "<Figure size 640x480 with 1 Axes>"
      ]
     },
     "metadata": {},
     "output_type": "display_data"
    }
   ],
   "source": [
    "plt.hist(rand_indexs)"
   ]
  }
 ],
 "metadata": {
  "kernelspec": {
   "display_name": "envT",
   "language": "python",
   "name": "python3"
  },
  "language_info": {
   "codemirror_mode": {
    "name": "ipython",
    "version": 3
   },
   "file_extension": ".py",
   "mimetype": "text/x-python",
   "name": "python",
   "nbconvert_exporter": "python",
   "pygments_lexer": "ipython3",
   "version": "3.10.11"
  },
  "orig_nbformat": 4
 },
 "nbformat": 4,
 "nbformat_minor": 2
}
