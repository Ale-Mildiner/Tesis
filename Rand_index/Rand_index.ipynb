{
 "cells": [
  {
   "cell_type": "code",
   "execution_count": 2,
   "metadata": {},
   "outputs": [],
   "source": [
    "import numpy as np\n",
    "import matplotlib.pyplot as plt\n",
    "import pandas as pd\n",
    "import pickle as pk\n",
    "\n",
    "pathGit = \"c:/Git_proyects/Tesis/Embbedings_Lkvec/\"\n",
    "path = \"c:/Facultad/Tesis/\"\n",
    "Lkvec = pd.read_csv(path+'Lkvec_all_in.csv')"
   ]
  },
  {
   "cell_type": "code",
   "execution_count": 3,
   "metadata": {},
   "outputs": [],
   "source": [
    "Lkvec_unique = Lkvec.drop_duplicates(subset=['phrase'])\n"
   ]
  },
  {
   "cell_type": "code",
   "execution_count": 4,
   "metadata": {},
   "outputs": [
    {
     "data": {
      "text/plain": [
       "(310457, 6)"
      ]
     },
     "execution_count": 4,
     "metadata": {},
     "output_type": "execute_result"
    }
   ],
   "source": [
    "np.shape(Lkvec_unique)"
   ]
  },
  {
   "cell_type": "code",
   "execution_count": 6,
   "metadata": {},
   "outputs": [
    {
     "name": "stderr",
     "output_type": "stream",
     "text": [
      "C:\\Users\\Asus\\AppData\\Local\\Temp\\ipykernel_4084\\1591482705.py:6: SettingWithCopyWarning: \n",
      "A value is trying to be set on a copy of a slice from a DataFrame.\n",
      "Try using .loc[row_indexer,col_indexer] = value instead\n",
      "\n",
      "See the caveats in the documentation: https://pandas.pydata.org/pandas-docs/stable/user_guide/indexing.html#returning-a-view-versus-a-copy\n",
      "  Lkvec_unique['id_cluster'] = np.nan\n"
     ]
    }
   ],
   "source": [
    "#path = \"c:/Git-Proyects/Tesis/\"\n",
    "\n",
    "mpnet = pk.load(open(pathGit+'clusters_threshold_75_22.pk', 'rb'))\n",
    "mini = pk.load(open(pathGit+'clusters_threshold_75_02.pk', 'rb'))\n",
    "phr = pk.load(open(path+'phrases_to_emb.pickle', 'rb'))\n",
    "Lkvec_unique['id_cluster'] = np.nan"
   ]
  },
  {
   "cell_type": "code",
   "execution_count": 9,
   "metadata": {},
   "outputs": [
    {
     "ename": "KeyError",
     "evalue": "35",
     "output_type": "error",
     "traceback": [
      "\u001b[1;31m---------------------------------------------------------------------------\u001b[0m",
      "\u001b[1;31mKeyError\u001b[0m                                  Traceback (most recent call last)",
      "Cell \u001b[1;32mIn[9], line 3\u001b[0m\n\u001b[0;32m      1\u001b[0m indice_frases \u001b[39m=\u001b[39m {i: j \u001b[39mfor\u001b[39;00m j, i \u001b[39min\u001b[39;00m \u001b[39menumerate\u001b[39m(Lkvec_unique[\u001b[39m'\u001b[39m\u001b[39mphrase\u001b[39m\u001b[39m'\u001b[39m])}\n\u001b[0;32m      2\u001b[0m \u001b[39mfor\u001b[39;00m i, clus \u001b[39min\u001b[39;00m \u001b[39menumerate\u001b[39m(c_nuevo):\n\u001b[1;32m----> 3\u001b[0m     Lkvec_unique\u001b[39m.\u001b[39mloc[Lkvec_unique[\u001b[39m'\u001b[39m\u001b[39mphrase\u001b[39m\u001b[39m'\u001b[39m]\u001b[39m.\u001b[39misin([Lkvec_unique[\u001b[39m'\u001b[39m\u001b[39mphrase\u001b[39m\u001b[39m'\u001b[39m][indice_frases[j]] \u001b[39mfor\u001b[39;00m j \u001b[39min\u001b[39;00m clus]), \u001b[39m'\u001b[39m\u001b[39mid_cluster\u001b[39m\u001b[39m'\u001b[39m] \u001b[39m=\u001b[39m \u001b[39mstr\u001b[39m(i\u001b[39m+\u001b[39m\u001b[39m1\u001b[39m)\n\u001b[0;32m      5\u001b[0m \u001b[39m#for i, clus in enumerate(c_nuevo):\u001b[39;00m\n\u001b[0;32m      6\u001b[0m \u001b[39m#    for j in clus:\u001b[39;00m\n\u001b[0;32m      7\u001b[0m \u001b[39m#        Lkvec_unique.loc[Lkvec_unique['phrase'] == phr[j], 'id_cluster'] = str(i+1)\u001b[39;00m\n",
      "Cell \u001b[1;32mIn[9], line 3\u001b[0m, in \u001b[0;36m<listcomp>\u001b[1;34m(.0)\u001b[0m\n\u001b[0;32m      1\u001b[0m indice_frases \u001b[39m=\u001b[39m {i: j \u001b[39mfor\u001b[39;00m j, i \u001b[39min\u001b[39;00m \u001b[39menumerate\u001b[39m(Lkvec_unique[\u001b[39m'\u001b[39m\u001b[39mphrase\u001b[39m\u001b[39m'\u001b[39m])}\n\u001b[0;32m      2\u001b[0m \u001b[39mfor\u001b[39;00m i, clus \u001b[39min\u001b[39;00m \u001b[39menumerate\u001b[39m(c_nuevo):\n\u001b[1;32m----> 3\u001b[0m     Lkvec_unique\u001b[39m.\u001b[39mloc[Lkvec_unique[\u001b[39m'\u001b[39m\u001b[39mphrase\u001b[39m\u001b[39m'\u001b[39m]\u001b[39m.\u001b[39misin([Lkvec_unique[\u001b[39m'\u001b[39m\u001b[39mphrase\u001b[39m\u001b[39m'\u001b[39m][indice_frases[j]] \u001b[39mfor\u001b[39;00m j \u001b[39min\u001b[39;00m clus]), \u001b[39m'\u001b[39m\u001b[39mid_cluster\u001b[39m\u001b[39m'\u001b[39m] \u001b[39m=\u001b[39m \u001b[39mstr\u001b[39m(i\u001b[39m+\u001b[39m\u001b[39m1\u001b[39m)\n\u001b[0;32m      5\u001b[0m \u001b[39m#for i, clus in enumerate(c_nuevo):\u001b[39;00m\n\u001b[0;32m      6\u001b[0m \u001b[39m#    for j in clus:\u001b[39;00m\n\u001b[0;32m      7\u001b[0m \u001b[39m#        Lkvec_unique.loc[Lkvec_unique['phrase'] == phr[j], 'id_cluster'] = str(i+1)\u001b[39;00m\n",
      "\u001b[1;31mKeyError\u001b[0m: 35"
     ]
    }
   ],
   "source": [
    "indice_frases = {i: j for j, i in enumerate(Lkvec_unique['phrase'])}\n",
    "for i, clus in enumerate(c_nuevo):\n",
    "    Lkvec_unique.loc[Lkvec_unique['phrase'].isin([Lkvec_unique['phrase'][indice_frases[j]] for j in clus]), 'id_cluster'] = str(i+1)\n",
    "\n",
    "#for i, clus in enumerate(c_nuevo):\n",
    "#    for j in clus:\n",
    "#        Lkvec_unique.loc[Lkvec_unique['phrase'] == phr[j], 'id_cluster'] = str(i+1)"
   ]
  },
  {
   "cell_type": "code",
   "execution_count": 7,
   "metadata": {},
   "outputs": [
    {
     "name": "stderr",
     "output_type": "stream",
     "text": [
      "C:\\Users\\Asus\\AppData\\Local\\Temp\\ipykernel_4084\\3740833514.py:5: SettingWithCopyWarning: \n",
      "A value is trying to be set on a copy of a slice from a DataFrame.\n",
      "Try using .loc[row_indexer,col_indexer] = value instead\n",
      "\n",
      "See the caveats in the documentation: https://pandas.pydata.org/pandas-docs/stable/user_guide/indexing.html#returning-a-view-versus-a-copy\n",
      "  Lkvec_unique['id_cluster_mnet'] = Lkvec_unique['phrase'].map(cluster_mapping_mnet)\n",
      "C:\\Users\\Asus\\AppData\\Local\\Temp\\ipykernel_4084\\3740833514.py:6: SettingWithCopyWarning: \n",
      "A value is trying to be set on a copy of a slice from a DataFrame.\n",
      "Try using .loc[row_indexer,col_indexer] = value instead\n",
      "\n",
      "See the caveats in the documentation: https://pandas.pydata.org/pandas-docs/stable/user_guide/indexing.html#returning-a-view-versus-a-copy\n",
      "  Lkvec_unique['id_cluster_mini'] = Lkvec_unique['phrase'].map(cluster_mapping_mini)\n"
     ]
    },
    {
     "data": {
      "text/plain": [
       "(310457, 9)"
      ]
     },
     "execution_count": 7,
     "metadata": {},
     "output_type": "execute_result"
    }
   ],
   "source": [
    "cluster_mapping_mnet = {phr[j]: str(i+1) for i, clus in enumerate(mpnet) for j in clus}\n",
    "cluster_mapping_mini = {phr[j]: str(i+1) for i, clus in enumerate(mini) for j in clus}\n",
    "\n",
    "\n",
    "Lkvec_unique['id_cluster_mnet'] = Lkvec_unique['phrase'].map(cluster_mapping_mnet)\n",
    "Lkvec_unique['id_cluster_mini'] = Lkvec_unique['phrase'].map(cluster_mapping_mini)\n",
    "\n",
    "Lkvec_unique\n",
    "np.shape(Lkvec_unique)"
   ]
  },
  {
   "cell_type": "code",
   "execution_count": 21,
   "metadata": {},
   "outputs": [],
   "source": [
    "import itertools\n",
    "\n",
    "def calculate_rand_index(partitionA, partitionB):\n",
    "    n = len(partitionA)\n",
    "    a = 0  # Pares concordantes en la misma partición en ambas agrupaciones\n",
    "    b = 0  # Pares concordantes en particiones diferentes en ambas agrupaciones\n",
    "\n",
    "    for i in range(n-1):\n",
    "        for j in range(i+1, n):\n",
    "            if (partitionA[i] == partitionA[j]) and (partitionB[i] == partitionB[j]):\n",
    "                a += 1\n",
    "            elif (partitionA[i] != partitionA[j]) and (partitionB[i] != partitionB[j]):\n",
    "                b += 1\n",
    "\n",
    "    combinations = list(itertools.combinations(range(n), 2))\n",
    "    num_combinations = len(combinations)\n",
    "\n",
    "    rand_index = (a + b) / num_combinations\n",
    "    return rand_index"
   ]
  },
  {
   "cell_type": "code",
   "execution_count": null,
   "metadata": {},
   "outputs": [],
   "source": [
    "from sklearn.metrics import adjusted_rand_score\n",
    "\n",
    "Lkvec_ids = np.array(Lkvec_unique['id'])\n",
    "Clusters_ids = np.array(Lkvec_unique['id_cluster'])\n",
    "\n",
    "\n",
    "rand_index = adjusted_rand_score(Lkvec_ids, Clusters_ids)\n",
    "\n",
    "#calculate_rand_index(Lkvec_ids, Clusters_ids)"
   ]
  },
  {
   "cell_type": "code",
   "execution_count": 41,
   "metadata": {},
   "outputs": [
    {
     "data": {
      "image/png": "[encoded data removed]",
      "text/plain": [
       "<Figure size 640x480 with 1 Axes>"
      ]
     },
     "metadata": {},
     "output_type": "display_data"
    }
   ],
   "source": [
    "Lkvec_unique\n",
    "header = np.logspace(np.log(1), int(np.log10(len(Lkvec_unique))), 20)\n",
    "plt.figure()\n",
    "for value in header:\n",
    "    cluster_sizes = Lkvec_unique['id'].value_counts().sort_values(ascending=False)\n",
    "    top_100_clusters = cluster_sizes.head(int(value))\n",
    "    Lkvec_unique_100 = Lkvec_unique[Lkvec_unique['id'].isin(top_100_clusters.index)]\n",
    "    Lkvec_ids = np.array(Lkvec_unique_100['id'])\n",
    "    Clusters_ids_mini = np.array(Lkvec_unique_100['id_cluster_mini'])\n",
    "    Clusters_ids_mnet = np.array(Lkvec_unique_100['id_cluster_mnet'])\n",
    "    plt.plot(value, adjusted_rand_score(Lkvec_ids, Clusters_ids_mini), 'ro', label = 'Clustering mini')\n",
    "    plt.plot(value, adjusted_rand_score(Lkvec_ids, Clusters_ids_mnet), 'go', label = 'Clustering mpnet')\n",
    "\n",
    "plt.legend(['mini', 'mpnet'], loc = 'lower right')\n",
    "plt.xscale('log')\n",
    "plt.xlabel('Cantidad de archivos')\n",
    "plt.ylabel('Rand Index')\n",
    "plt.show()\n"
   ]
  },
  {
   "cell_type": "code",
   "execution_count": 35,
   "metadata": {},
   "outputs": [
    {
     "data": {
      "text/plain": [
       "array([1.00000000e+00, 4.28133240e+00, 1.83298071e+01, 7.84759970e+01,\n",
       "       3.35981829e+02, 1.43844989e+03, 6.15848211e+03, 2.63665090e+04,\n",
       "       1.12883789e+05, 4.83293024e+05, 2.06913808e+06, 8.85866790e+06,\n",
       "       3.79269019e+07, 1.62377674e+08, 6.95192796e+08, 2.97635144e+09,\n",
       "       1.27427499e+10, 5.45559478e+10, 2.33572147e+11, 1.00000000e+12])"
      ]
     },
     "execution_count": 35,
     "metadata": {},
     "output_type": "execute_result"
    }
   ],
   "source": [
    "header = np.logspace(np.log(1), int(np.log(len(Lkvec_unique))), 20)\n",
    "header"
   ]
  },
  {
   "cell_type": "code",
   "execution_count": 22,
   "metadata": {},
   "outputs": [
    {
     "data": {
      "image/png": "[encoded data removed]",
      "text/plain": [
       "<Figure size 640x480 with 1 Axes>"
      ]
     },
     "metadata": {},
     "output_type": "display_data"
    }
   ],
   "source": [
    "from sklearn.metrics import adjusted_rand_score\n",
    "\n",
    "Lkvec_ids = np.array(Lkvec_unique_100['id'])\n",
    "Clusters_ids_mini = np.array(Lkvec_unique_100['id_cluster_mini'])\n",
    "Clusters_ids_mnet = np.array(Lkvec_unique_100['id_cluster_mnet'])\n",
    "xs = np.arange(1,103)\n",
    "\n",
    "plt.plot(xs[0], adjusted_rand_score(Lkvec_ids, Clusters_ids_mini), 'ro', label = 'Clustering mini')\n",
    "plt.plot(xs[1], adjusted_rand_score(Lkvec_ids, Clusters_ids_mnet), 'go', label = 'Clustering mpnet')\n",
    "\n",
    "rand_indexs = []\n",
    "for i in range(100):\n",
    "    np.random.shuffle(Lkvec_ids)\n",
    "    ri = adjusted_rand_score(Lkvec_ids, Clusters_ids_mini)\n",
    "    rand_indexs.append( ri)\n",
    "    plt.plot(xs[i+1],ri, 'bo')\n",
    "plt.legend()\n",
    "plt.show()"
   ]
  },
  {
   "cell_type": "code",
   "execution_count": 29,
   "metadata": {},
   "outputs": [
    {
     "data": {
      "text/plain": [
       "0.2408770020835203"
      ]
     },
     "execution_count": 29,
     "metadata": {},
     "output_type": "execute_result"
    }
   ],
   "source": [
    "Lkvec_ids = np.array(Lkvec_unique['id'])\n",
    "\n",
    "adjusted_rand_score(Lkvec_ids, Clusters_ids_mnet)"
   ]
  },
  {
   "cell_type": "code",
   "execution_count": 94,
   "metadata": {},
   "outputs": [
    {
     "data": {
      "text/plain": [
       "(array([100.,   0.,   0.,   0.,   0.,   0.,   0.,   0.,   0.,   1.]),\n",
       " array([-1.15585605e-05,  2.40772975e-02,  4.81661536e-02,  7.22550096e-02,\n",
       "         9.63438657e-02,  1.20432722e-01,  1.44521578e-01,  1.68610434e-01,\n",
       "         1.92699290e-01,  2.16788146e-01,  2.40877002e-01]),\n",
       " <BarContainer object of 10 artists>)"
      ]
     },
     "execution_count": 94,
     "metadata": {},
     "output_type": "execute_result"
    },
    {
     "data": {
      "image/png": "[encoded data removed]",
      "text/plain": [
       "<Figure size 640x480 with 1 Axes>"
      ]
     },
     "metadata": {},
     "output_type": "display_data"
    }
   ],
   "source": [
    "plt.hist(rand_indexs)"
   ]
  }
 ],
 "metadata": {
  "kernelspec": {
   "display_name": "envT",
   "language": "python",
   "name": "python3"
  },
  "language_info": {
   "codemirror_mode": {
    "name": "ipython",
    "version": 3
   },
   "file_extension": ".py",
   "mimetype": "text/x-python",
   "name": "python",
   "nbconvert_exporter": "python",
   "pygments_lexer": "ipython3",
   "version": "3.10.11"
  },
  "orig_nbformat": 4
 },
 "nbformat": 4,
 "nbformat_minor": 2
}
