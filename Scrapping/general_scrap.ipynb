{
 "cells": [
  {
   "cell_type": "code",
   "execution_count": 4,
   "metadata": {},
   "outputs": [],
   "source": [
    "import re\n",
    "import numpy as np\n",
    "import matplotlib.pyplot as plt\n",
    "import pandas as pd\n",
    "\n",
    "from bs4 import BeautifulSoup\n",
    "import unicodedata\n",
    "from datetime import datetime, timedelta\n",
    "import json"
   ]
  },
  {
   "cell_type": "code",
   "execution_count": 5,
   "metadata": {},
   "outputs": [],
   "source": [
    "def replace(x):\n",
    "    x = str(x)\n",
    "    x = x.replace('”', '\"')\n",
    "    x = x.replace('“', '\"')\n",
    "    x = x.replace('”', '\"')\n",
    "    x = x.replace('\\x93', '\"')\n",
    "    x = x.replace('\\x94', '\"')\n",
    "    x = x.replace('‘','\"')    \n",
    "    x = x.replace('’','\"')    \n",
    "    x = x.replace('‘', '\"')\n",
    "    x = x.replace('‘', '\"')\n",
    "    x = x.replace('’', '\"')\n",
    "\n",
    "    \n",
    "def extract_quotes(x):\n",
    "    return re.findall('\"([^\"]*)\"', x)"
   ]
  },
  {
   "cell_type": "code",
   "execution_count": 34,
   "metadata": {},
   "outputs": [
    {
     "name": "stdout",
     "output_type": "stream",
     "text": [
      "apoyo\n",
      "esfuerzo\n",
      "¡Quién vive en la zona de Juan B. Justo acá? ¡Lo que era cuando llovía toda esa zona. ¿Y quién fue el que llegó como jefe de Gobierno contento? Todavía no teníamos los globos. La primera semana, ¿qué pasó? La lluvia, tremenda, vinieron los botes\n",
      "Me llevan a una conferencia de prensa, mi gran equipo. Y los periodistas, como tienen que ser, implacables, me dicen ‘qué va a pasar con esto’. Les digo: ‘Estamos con la obra, que hace 40 años que no se hace’. Y me preguntan: ‘¿Pero el año que viene qué va a pasar?’. Y entonces les dije: 'Basta, el año que viene se va a volver a inundar; dentro de dos, se va a volver a inundar; dentro de tres, se va a volver a inundar; ¡y en el cuarto, no se inunda más, no se inunda más, carajo!'\n",
      "para Mauricio, la reelección\n",
      "Quiero decirles 'sorry' por el carajo, me fui un poquito\n"
     ]
    }
   ],
   "source": [
    "import requests\n",
    "from bs4 import BeautifulSoup\n",
    "\n",
    "# Definir la URL que deseas scrapear\n",
    "url = 'https://www.clarin.com/politica/euforia-macri-recordar-gestion-ciudad-inunda-carajo_0_w-2iIziK_.html'\n",
    "\n",
    "# Realizar la solicitud HTTP para obtener el contenido de la página\n",
    "response = requests.get(url)\n",
    "fr = []\n",
    "# Verificar si la solicitud fue exitosa\n",
    "if response.status_code == 200:\n",
    "    # Parsear el contenido HTML de la página usando BeautifulSoup\n",
    "    soup = BeautifulSoup(response.text, 'html.parser')\n",
    "\n",
    "    # Encontrar todos los elementos marcados como párrafos (<p>)\n",
    "    paragraphs = soup.find_all('p')\n",
    "\n",
    "    # Iterar a través de los párrafos y extraer el texto\n",
    "    for paragraph in paragraphs:\n",
    "        if len(paragraph.get_text()) >100:\n",
    "            #print( len(paragraph.get_text()), paragraph.get_text())\n",
    "            par = paragraph.get_text()\n",
    "            if  extract_quotes(par) != []:\n",
    "                for i in extract_quotes(par):\n",
    "                    print(i)\n",
    "                    fr.append(i)\n",
    "else:\n",
    "    print(f'No se pudo acceder a la página. Código de estado: {response.status_code}')\n",
    "#'‘Estamos con la obra, que hace 40 años que no se hace’'"
   ]
  },
  {
   "cell_type": "code",
   "execution_count": 35,
   "metadata": {},
   "outputs": [
    {
     "data": {
      "text/plain": [
       "['apoyo',\n",
       " 'esfuerzo',\n",
       " '¡Quién vive en la zona de Juan B. Justo acá? ¡Lo que era cuando llovía toda esa zona. ¿Y quién fue el que llegó como jefe de Gobierno contento? Todavía no teníamos los globos. La primera semana, ¿qué pasó? La lluvia, tremenda, vinieron los botes',\n",
       " \"Me llevan a una conferencia de prensa, mi gran equipo. Y los periodistas, como tienen que ser, implacables, me dicen ‘qué va a pasar con esto’. Les digo: ‘Estamos con la obra, que hace 40 años que no se hace’. Y me preguntan: ‘¿Pero el año que viene qué va a pasar?’. Y entonces les dije: 'Basta, el año que viene se va a volver a inundar; dentro de dos, se va a volver a inundar; dentro de tres, se va a volver a inundar; ¡y en el cuarto, no se inunda más, no se inunda más, carajo!'\",\n",
       " 'para Mauricio, la reelección',\n",
       " \"Quiero decirles 'sorry' por el carajo, me fui un poquito\"]"
      ]
     },
     "execution_count": 35,
     "metadata": {},
     "output_type": "execute_result"
    }
   ],
   "source": [
    "fr"
   ]
  }
 ],
 "metadata": {
  "kernelspec": {
   "display_name": "Python 3",
   "language": "python",
   "name": "python3"
  },
  "language_info": {
   "codemirror_mode": {
    "name": "ipython",
    "version": 3
   },
   "file_extension": ".py",
   "mimetype": "text/x-python",
   "name": "python",
   "nbconvert_exporter": "python",
   "pygments_lexer": "ipython3",
   "version": "3.10.11"
  }
 },
 "nbformat": 4,
 "nbformat_minor": 2
}
