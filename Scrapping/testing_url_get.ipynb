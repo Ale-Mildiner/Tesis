{
 "cells": [
  {
   "cell_type": "code",
   "execution_count": 1,
   "metadata": {},
   "outputs": [],
   "source": [
    "import pandas as pd\n",
    "import json\n",
    "import re\n",
    "import nltk\n",
    "import requests"
   ]
  },
  {
   "cell_type": "code",
   "execution_count": 2,
   "metadata": {},
   "outputs": [],
   "source": [
    "filename = 'd:/Facultad/Tesis/Twitter/201908-alferdez.txt'\n",
    "\n",
    "def take_url(json_data):\n",
    "    try:\n",
    "        url = json_data['urls'][0]['expanded_url']\n",
    "    except:\n",
    "        url = ''\n",
    "    return url\n",
    "\n",
    "with open(filename, 'r', encoding = \"utf8\") as fp:\n",
    "        urls = []\n",
    "        urls_2 = []\n",
    "        for i, line in enumerate(fp):\n",
    "            # Para cada linea lee el json y extrae la fecha\n",
    "            json_data = json.loads(line)\n",
    "            url_real = take_url(json_data)\n",
    "            tweet = json_data['text']\n",
    "            url = json_data['urls']\n",
    "            extra = json_data\n",
    "            #print(json_data)\n",
    "            if url_real != '':\n",
    "                urls.append(url_real)\n",
    "                urls_2.append(requests.get(url_real))\n",
    "\n",
    "\n",
    "            if i ==1000:\n",
    "                 break\n"
   ]
  },
  {
   "cell_type": "code",
   "execution_count": 3,
   "metadata": {},
   "outputs": [
    {
     "data": {
      "text/plain": [
       "['https://twitter.com/spitta1969/status/1156725352288403458',\n",
       " 'https://twitter.com/baylacjuan/status/1156770326795247617',\n",
       " 'https://youtu.be/cR5yWkFHkMs',\n",
       " 'https://twitter.com/rialjorge/status/1156659313336881152',\n",
       " 'https://www.lanacion.com.ar/economia/por-aumento-tarifas-subieron-fuerte-ingresos-duena-nid2273086',\n",
       " 'https://twitter.com/alferdez/status/1156745900565434368',\n",
       " 'http://gph.is/2jI5TRt',\n",
       " 'https://twitter.com/spitta1969/status/1156725352288403458',\n",
       " 'https://twitter.com/alferdez/status/1156566651258757120',\n",
       " 'https://twitter.com/minutounocom/status/1156667491676033025',\n",
       " 'https://www.lapoliticaonline.com/nota/nota-93328/',\n",
       " 'https://twitter.com/Tano2412/status/1156346751017738241',\n",
       " 'https://twitter.com/alferdez/status/1156654474431279105',\n",
       " 'https://twitter.com/todonoticias/status/1156650081698930689',\n",
       " 'https://twitter.com/frentedetodos/status/1156551673562783749',\n",
       " 'https://twitter.com/silvinamarq/status/1156715346818228224',\n",
       " 'https://www.lapoliticaonline.com/nota/nota-93328/',\n",
       " 'https://twitter.com/alferdez/status/1156654474431279105',\n",
       " 'https://twitter.com/alferdez/status/1156654474431279105',\n",
       " 'https://twitter.com/Guillodietrich/status/1156590047195516928',\n",
       " 'https://twitter.com/c5n/status/1156691249555836935',\n",
       " 'https://twitter.com/alferdez/status/1156687259023884288?s=19',\n",
       " 'https://twitter.com/alferdez/status/1156727244963942400',\n",
       " 'https://twitter.com/nachomdeo/status/1156565942001897472?s=19',\n",
       " 'https://twitter.com/alferdez/status/1156639085630566400',\n",
       " 'https://frentedetodos.org/notas/alberto-entre-los-jubilados-y-los-bancos-me-quedo-con-los-jubilados',\n",
       " 'https://twitter.com/minutounocom/status/1156748944183107584']"
      ]
     },
     "execution_count": 3,
     "metadata": {},
     "output_type": "execute_result"
    }
   ],
   "source": [
    "urls"
   ]
  },
  {
   "cell_type": "code",
   "execution_count": 5,
   "metadata": {},
   "outputs": [
    {
     "data": {
      "text/plain": [
       "'https://www.youtube.com/watch?v=cR5yWkFHkMs&feature=youtu.be'"
      ]
     },
     "execution_count": 5,
     "metadata": {},
     "output_type": "execute_result"
    }
   ],
   "source": [
    "r = requests.get(urls[2], auth = ('user', 'pass'))\n",
    "r.url"
   ]
  }
 ],
 "metadata": {
  "kernelspec": {
   "display_name": "Python 3",
   "language": "python",
   "name": "python3"
  },
  "language_info": {
   "codemirror_mode": {
    "name": "ipython",
    "version": 3
   },
   "file_extension": ".py",
   "mimetype": "text/x-python",
   "name": "python",
   "nbconvert_exporter": "python",
   "pygments_lexer": "ipython3",
   "version": "3.10.11"
  }
 },
 "nbformat": 4,
 "nbformat_minor": 2
}
